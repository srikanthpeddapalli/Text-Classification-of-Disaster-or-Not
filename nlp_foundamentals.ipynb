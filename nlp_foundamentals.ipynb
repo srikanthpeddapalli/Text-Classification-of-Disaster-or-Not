{
  "cells": [
    {
      "cell_type": "markdown",
      "metadata": {
        "id": "view-in-github",
        "colab_type": "text"
      },
      "source": [
        "<a href=\"https://colab.research.google.com/github/srikanthpeddapalli/Text-Classification-of-Disaster-or-Not/blob/main/nlp_foundamentals.ipynb\" target=\"_parent\"><img src=\"https://colab.research.google.com/assets/colab-badge.svg\" alt=\"Open In Colab\"/></a>"
      ]
    },
    {
      "cell_type": "code",
      "execution_count": null,
      "metadata": {
        "colab": {
          "base_uri": "https://localhost:8080/"
        },
        "id": "o7wmeq4IIEiY",
        "outputId": "78e24289-807e-4cde-fdba-0afba1b53d9e"
      },
      "outputs": [
        {
          "output_type": "stream",
          "name": "stdout",
          "text": [
            "--2022-07-08 12:45:57--  https://storage.googleapis.com/ztm_tf_course/nlp_getting_started.zip\n",
            "Resolving storage.googleapis.com (storage.googleapis.com)... 74.125.135.128, 74.125.142.128, 74.125.195.128, ...\n",
            "Connecting to storage.googleapis.com (storage.googleapis.com)|74.125.135.128|:443... connected.\n",
            "HTTP request sent, awaiting response... 200 OK\n",
            "Length: 607343 (593K) [application/zip]\n",
            "Saving to: ‘nlp_getting_started.zip’\n",
            "\n",
            "\rnlp_getting_started   0%[                    ]       0  --.-KB/s               \rnlp_getting_started 100%[===================>] 593.11K  --.-KB/s    in 0.02s   \n",
            "\n",
            "2022-07-08 12:45:58 (31.4 MB/s) - ‘nlp_getting_started.zip’ saved [607343/607343]\n",
            "\n"
          ]
        }
      ],
      "source": [
        "!wget https://storage.googleapis.com/ztm_tf_course/nlp_getting_started.zip"
      ]
    },
    {
      "cell_type": "code",
      "execution_count": null,
      "metadata": {
        "colab": {
          "base_uri": "https://localhost:8080/"
        },
        "id": "1odaTqEbItbq",
        "outputId": "1efdf07d-3962-458f-cef3-2e66338d86ad"
      },
      "outputs": [
        {
          "output_type": "stream",
          "name": "stdout",
          "text": [
            "--2022-07-08 12:45:58--  https://raw.githubusercontent.com/mrdbourke/tensorflow-deep-learning/main/extras/helper_functions.py\n",
            "Resolving raw.githubusercontent.com (raw.githubusercontent.com)... 185.199.108.133, 185.199.109.133, 185.199.110.133, ...\n",
            "Connecting to raw.githubusercontent.com (raw.githubusercontent.com)|185.199.108.133|:443... connected.\n",
            "HTTP request sent, awaiting response... 200 OK\n",
            "Length: 10246 (10K) [text/plain]\n",
            "Saving to: ‘helper_functions.py’\n",
            "\n",
            "\rhelper_functions.py   0%[                    ]       0  --.-KB/s               \rhelper_functions.py 100%[===================>]  10.01K  --.-KB/s    in 0s      \n",
            "\n",
            "2022-07-08 12:45:58 (66.5 MB/s) - ‘helper_functions.py’ saved [10246/10246]\n",
            "\n"
          ]
        }
      ],
      "source": [
        "!wget https://raw.githubusercontent.com/mrdbourke/tensorflow-deep-learning/main/extras/helper_functions.py"
      ]
    },
    {
      "cell_type": "code",
      "execution_count": null,
      "metadata": {
        "id": "Ik6pAa4IJemx"
      },
      "outputs": [],
      "source": [
        "from helper_functions import unzip_data,plot_loss_curves,compare_historys,create_tensorboard_callback"
      ]
    },
    {
      "cell_type": "code",
      "execution_count": null,
      "metadata": {
        "id": "Sagq5vlhJz2h"
      },
      "outputs": [],
      "source": [
        "unzip_data(\"nlp_getting_started.zip\")"
      ]
    },
    {
      "cell_type": "code",
      "execution_count": null,
      "metadata": {
        "id": "nrJ0XMgSKBCJ"
      },
      "outputs": [],
      "source": [
        "import pandas as pd\n",
        "import tensorflow as tf\n",
        "import numpy as np\n"
      ]
    },
    {
      "cell_type": "code",
      "execution_count": null,
      "metadata": {
        "id": "MooaBlTfMEFQ"
      },
      "outputs": [],
      "source": [
        "train_df=pd.read_csv(\"/content/train.csv\")\n",
        "test_df=pd.read_csv(\"/content/test.csv\")"
      ]
    },
    {
      "cell_type": "code",
      "execution_count": null,
      "metadata": {
        "colab": {
          "base_uri": "https://localhost:8080/",
          "height": 112
        },
        "id": "vJ1BUxjwMU7o",
        "outputId": "17a97b17-a259-4b1e-e794-4d6fb46b600b"
      },
      "outputs": [
        {
          "output_type": "execute_result",
          "data": {
            "text/plain": [
              "   id keyword location                                               text  \\\n",
              "0   1     NaN      NaN  Our Deeds are the Reason of this #earthquake M...   \n",
              "1   4     NaN      NaN             Forest fire near La Ronge Sask. Canada   \n",
              "\n",
              "   target  \n",
              "0       1  \n",
              "1       1  "
            ],
            "text/html": [
              "\n",
              "  <div id=\"df-baaebb9c-3e3f-43ce-9d4e-46870defc2dc\">\n",
              "    <div class=\"colab-df-container\">\n",
              "      <div>\n",
              "<style scoped>\n",
              "    .dataframe tbody tr th:only-of-type {\n",
              "        vertical-align: middle;\n",
              "    }\n",
              "\n",
              "    .dataframe tbody tr th {\n",
              "        vertical-align: top;\n",
              "    }\n",
              "\n",
              "    .dataframe thead th {\n",
              "        text-align: right;\n",
              "    }\n",
              "</style>\n",
              "<table border=\"1\" class=\"dataframe\">\n",
              "  <thead>\n",
              "    <tr style=\"text-align: right;\">\n",
              "      <th></th>\n",
              "      <th>id</th>\n",
              "      <th>keyword</th>\n",
              "      <th>location</th>\n",
              "      <th>text</th>\n",
              "      <th>target</th>\n",
              "    </tr>\n",
              "  </thead>\n",
              "  <tbody>\n",
              "    <tr>\n",
              "      <th>0</th>\n",
              "      <td>1</td>\n",
              "      <td>NaN</td>\n",
              "      <td>NaN</td>\n",
              "      <td>Our Deeds are the Reason of this #earthquake M...</td>\n",
              "      <td>1</td>\n",
              "    </tr>\n",
              "    <tr>\n",
              "      <th>1</th>\n",
              "      <td>4</td>\n",
              "      <td>NaN</td>\n",
              "      <td>NaN</td>\n",
              "      <td>Forest fire near La Ronge Sask. Canada</td>\n",
              "      <td>1</td>\n",
              "    </tr>\n",
              "  </tbody>\n",
              "</table>\n",
              "</div>\n",
              "      <button class=\"colab-df-convert\" onclick=\"convertToInteractive('df-baaebb9c-3e3f-43ce-9d4e-46870defc2dc')\"\n",
              "              title=\"Convert this dataframe to an interactive table.\"\n",
              "              style=\"display:none;\">\n",
              "        \n",
              "  <svg xmlns=\"http://www.w3.org/2000/svg\" height=\"24px\"viewBox=\"0 0 24 24\"\n",
              "       width=\"24px\">\n",
              "    <path d=\"M0 0h24v24H0V0z\" fill=\"none\"/>\n",
              "    <path d=\"M18.56 5.44l.94 2.06.94-2.06 2.06-.94-2.06-.94-.94-2.06-.94 2.06-2.06.94zm-11 1L8.5 8.5l.94-2.06 2.06-.94-2.06-.94L8.5 2.5l-.94 2.06-2.06.94zm10 10l.94 2.06.94-2.06 2.06-.94-2.06-.94-.94-2.06-.94 2.06-2.06.94z\"/><path d=\"M17.41 7.96l-1.37-1.37c-.4-.4-.92-.59-1.43-.59-.52 0-1.04.2-1.43.59L10.3 9.45l-7.72 7.72c-.78.78-.78 2.05 0 2.83L4 21.41c.39.39.9.59 1.41.59.51 0 1.02-.2 1.41-.59l7.78-7.78 2.81-2.81c.8-.78.8-2.07 0-2.86zM5.41 20L4 18.59l7.72-7.72 1.47 1.35L5.41 20z\"/>\n",
              "  </svg>\n",
              "      </button>\n",
              "      \n",
              "  <style>\n",
              "    .colab-df-container {\n",
              "      display:flex;\n",
              "      flex-wrap:wrap;\n",
              "      gap: 12px;\n",
              "    }\n",
              "\n",
              "    .colab-df-convert {\n",
              "      background-color: #E8F0FE;\n",
              "      border: none;\n",
              "      border-radius: 50%;\n",
              "      cursor: pointer;\n",
              "      display: none;\n",
              "      fill: #1967D2;\n",
              "      height: 32px;\n",
              "      padding: 0 0 0 0;\n",
              "      width: 32px;\n",
              "    }\n",
              "\n",
              "    .colab-df-convert:hover {\n",
              "      background-color: #E2EBFA;\n",
              "      box-shadow: 0px 1px 2px rgba(60, 64, 67, 0.3), 0px 1px 3px 1px rgba(60, 64, 67, 0.15);\n",
              "      fill: #174EA6;\n",
              "    }\n",
              "\n",
              "    [theme=dark] .colab-df-convert {\n",
              "      background-color: #3B4455;\n",
              "      fill: #D2E3FC;\n",
              "    }\n",
              "\n",
              "    [theme=dark] .colab-df-convert:hover {\n",
              "      background-color: #434B5C;\n",
              "      box-shadow: 0px 1px 3px 1px rgba(0, 0, 0, 0.15);\n",
              "      filter: drop-shadow(0px 1px 2px rgba(0, 0, 0, 0.3));\n",
              "      fill: #FFFFFF;\n",
              "    }\n",
              "  </style>\n",
              "\n",
              "      <script>\n",
              "        const buttonEl =\n",
              "          document.querySelector('#df-baaebb9c-3e3f-43ce-9d4e-46870defc2dc button.colab-df-convert');\n",
              "        buttonEl.style.display =\n",
              "          google.colab.kernel.accessAllowed ? 'block' : 'none';\n",
              "\n",
              "        async function convertToInteractive(key) {\n",
              "          const element = document.querySelector('#df-baaebb9c-3e3f-43ce-9d4e-46870defc2dc');\n",
              "          const dataTable =\n",
              "            await google.colab.kernel.invokeFunction('convertToInteractive',\n",
              "                                                     [key], {});\n",
              "          if (!dataTable) return;\n",
              "\n",
              "          const docLinkHtml = 'Like what you see? Visit the ' +\n",
              "            '<a target=\"_blank\" href=https://colab.research.google.com/notebooks/data_table.ipynb>data table notebook</a>'\n",
              "            + ' to learn more about interactive tables.';\n",
              "          element.innerHTML = '';\n",
              "          dataTable['output_type'] = 'display_data';\n",
              "          await google.colab.output.renderOutput(dataTable, element);\n",
              "          const docLink = document.createElement('div');\n",
              "          docLink.innerHTML = docLinkHtml;\n",
              "          element.appendChild(docLink);\n",
              "        }\n",
              "      </script>\n",
              "    </div>\n",
              "  </div>\n",
              "  "
            ]
          },
          "metadata": {},
          "execution_count": 7
        }
      ],
      "source": [
        "train_df.head(2)"
      ]
    },
    {
      "cell_type": "code",
      "execution_count": null,
      "metadata": {
        "colab": {
          "base_uri": "https://localhost:8080/",
          "height": 36
        },
        "id": "TLA_6D4WMY4X",
        "outputId": "3a52f165-6f1c-4cdf-b34d-b41c9b275221"
      },
      "outputs": [
        {
          "output_type": "execute_result",
          "data": {
            "text/plain": [
              "'Our Deeds are the Reason of this #earthquake May ALLAH Forgive us all'"
            ],
            "application/vnd.google.colaboratory.intrinsic+json": {
              "type": "string"
            }
          },
          "metadata": {},
          "execution_count": 8
        }
      ],
      "source": [
        "train_df[\"text\"][0]"
      ]
    },
    {
      "cell_type": "code",
      "execution_count": null,
      "metadata": {
        "colab": {
          "base_uri": "https://localhost:8080/",
          "height": 206
        },
        "id": "MHtp3bEZMgO4",
        "outputId": "bb210586-cc29-457b-b8f8-5138da46377b"
      },
      "outputs": [
        {
          "output_type": "execute_result",
          "data": {
            "text/plain": [
              "   id keyword location                                               text\n",
              "0   0     NaN      NaN                 Just happened a terrible car crash\n",
              "1   2     NaN      NaN  Heard about #earthquake is different cities, s...\n",
              "2   3     NaN      NaN  there is a forest fire at spot pond, geese are...\n",
              "3   9     NaN      NaN           Apocalypse lighting. #Spokane #wildfires\n",
              "4  11     NaN      NaN      Typhoon Soudelor kills 28 in China and Taiwan"
            ],
            "text/html": [
              "\n",
              "  <div id=\"df-67351f59-07bd-4291-a9d9-50842cd661e6\">\n",
              "    <div class=\"colab-df-container\">\n",
              "      <div>\n",
              "<style scoped>\n",
              "    .dataframe tbody tr th:only-of-type {\n",
              "        vertical-align: middle;\n",
              "    }\n",
              "\n",
              "    .dataframe tbody tr th {\n",
              "        vertical-align: top;\n",
              "    }\n",
              "\n",
              "    .dataframe thead th {\n",
              "        text-align: right;\n",
              "    }\n",
              "</style>\n",
              "<table border=\"1\" class=\"dataframe\">\n",
              "  <thead>\n",
              "    <tr style=\"text-align: right;\">\n",
              "      <th></th>\n",
              "      <th>id</th>\n",
              "      <th>keyword</th>\n",
              "      <th>location</th>\n",
              "      <th>text</th>\n",
              "    </tr>\n",
              "  </thead>\n",
              "  <tbody>\n",
              "    <tr>\n",
              "      <th>0</th>\n",
              "      <td>0</td>\n",
              "      <td>NaN</td>\n",
              "      <td>NaN</td>\n",
              "      <td>Just happened a terrible car crash</td>\n",
              "    </tr>\n",
              "    <tr>\n",
              "      <th>1</th>\n",
              "      <td>2</td>\n",
              "      <td>NaN</td>\n",
              "      <td>NaN</td>\n",
              "      <td>Heard about #earthquake is different cities, s...</td>\n",
              "    </tr>\n",
              "    <tr>\n",
              "      <th>2</th>\n",
              "      <td>3</td>\n",
              "      <td>NaN</td>\n",
              "      <td>NaN</td>\n",
              "      <td>there is a forest fire at spot pond, geese are...</td>\n",
              "    </tr>\n",
              "    <tr>\n",
              "      <th>3</th>\n",
              "      <td>9</td>\n",
              "      <td>NaN</td>\n",
              "      <td>NaN</td>\n",
              "      <td>Apocalypse lighting. #Spokane #wildfires</td>\n",
              "    </tr>\n",
              "    <tr>\n",
              "      <th>4</th>\n",
              "      <td>11</td>\n",
              "      <td>NaN</td>\n",
              "      <td>NaN</td>\n",
              "      <td>Typhoon Soudelor kills 28 in China and Taiwan</td>\n",
              "    </tr>\n",
              "  </tbody>\n",
              "</table>\n",
              "</div>\n",
              "      <button class=\"colab-df-convert\" onclick=\"convertToInteractive('df-67351f59-07bd-4291-a9d9-50842cd661e6')\"\n",
              "              title=\"Convert this dataframe to an interactive table.\"\n",
              "              style=\"display:none;\">\n",
              "        \n",
              "  <svg xmlns=\"http://www.w3.org/2000/svg\" height=\"24px\"viewBox=\"0 0 24 24\"\n",
              "       width=\"24px\">\n",
              "    <path d=\"M0 0h24v24H0V0z\" fill=\"none\"/>\n",
              "    <path d=\"M18.56 5.44l.94 2.06.94-2.06 2.06-.94-2.06-.94-.94-2.06-.94 2.06-2.06.94zm-11 1L8.5 8.5l.94-2.06 2.06-.94-2.06-.94L8.5 2.5l-.94 2.06-2.06.94zm10 10l.94 2.06.94-2.06 2.06-.94-2.06-.94-.94-2.06-.94 2.06-2.06.94z\"/><path d=\"M17.41 7.96l-1.37-1.37c-.4-.4-.92-.59-1.43-.59-.52 0-1.04.2-1.43.59L10.3 9.45l-7.72 7.72c-.78.78-.78 2.05 0 2.83L4 21.41c.39.39.9.59 1.41.59.51 0 1.02-.2 1.41-.59l7.78-7.78 2.81-2.81c.8-.78.8-2.07 0-2.86zM5.41 20L4 18.59l7.72-7.72 1.47 1.35L5.41 20z\"/>\n",
              "  </svg>\n",
              "      </button>\n",
              "      \n",
              "  <style>\n",
              "    .colab-df-container {\n",
              "      display:flex;\n",
              "      flex-wrap:wrap;\n",
              "      gap: 12px;\n",
              "    }\n",
              "\n",
              "    .colab-df-convert {\n",
              "      background-color: #E8F0FE;\n",
              "      border: none;\n",
              "      border-radius: 50%;\n",
              "      cursor: pointer;\n",
              "      display: none;\n",
              "      fill: #1967D2;\n",
              "      height: 32px;\n",
              "      padding: 0 0 0 0;\n",
              "      width: 32px;\n",
              "    }\n",
              "\n",
              "    .colab-df-convert:hover {\n",
              "      background-color: #E2EBFA;\n",
              "      box-shadow: 0px 1px 2px rgba(60, 64, 67, 0.3), 0px 1px 3px 1px rgba(60, 64, 67, 0.15);\n",
              "      fill: #174EA6;\n",
              "    }\n",
              "\n",
              "    [theme=dark] .colab-df-convert {\n",
              "      background-color: #3B4455;\n",
              "      fill: #D2E3FC;\n",
              "    }\n",
              "\n",
              "    [theme=dark] .colab-df-convert:hover {\n",
              "      background-color: #434B5C;\n",
              "      box-shadow: 0px 1px 3px 1px rgba(0, 0, 0, 0.15);\n",
              "      filter: drop-shadow(0px 1px 2px rgba(0, 0, 0, 0.3));\n",
              "      fill: #FFFFFF;\n",
              "    }\n",
              "  </style>\n",
              "\n",
              "      <script>\n",
              "        const buttonEl =\n",
              "          document.querySelector('#df-67351f59-07bd-4291-a9d9-50842cd661e6 button.colab-df-convert');\n",
              "        buttonEl.style.display =\n",
              "          google.colab.kernel.accessAllowed ? 'block' : 'none';\n",
              "\n",
              "        async function convertToInteractive(key) {\n",
              "          const element = document.querySelector('#df-67351f59-07bd-4291-a9d9-50842cd661e6');\n",
              "          const dataTable =\n",
              "            await google.colab.kernel.invokeFunction('convertToInteractive',\n",
              "                                                     [key], {});\n",
              "          if (!dataTable) return;\n",
              "\n",
              "          const docLinkHtml = 'Like what you see? Visit the ' +\n",
              "            '<a target=\"_blank\" href=https://colab.research.google.com/notebooks/data_table.ipynb>data table notebook</a>'\n",
              "            + ' to learn more about interactive tables.';\n",
              "          element.innerHTML = '';\n",
              "          dataTable['output_type'] = 'display_data';\n",
              "          await google.colab.output.renderOutput(dataTable, element);\n",
              "          const docLink = document.createElement('div');\n",
              "          docLink.innerHTML = docLinkHtml;\n",
              "          element.appendChild(docLink);\n",
              "        }\n",
              "      </script>\n",
              "    </div>\n",
              "  </div>\n",
              "  "
            ]
          },
          "metadata": {},
          "execution_count": 9
        }
      ],
      "source": [
        "test_df.head()"
      ]
    },
    {
      "cell_type": "code",
      "execution_count": null,
      "metadata": {
        "id": "OE9N-eZsMl-X"
      },
      "outputs": [],
      "source": [
        "train_shuffle_df=train_df.sample(frac=1,random_state=42)"
      ]
    },
    {
      "cell_type": "code",
      "execution_count": null,
      "metadata": {
        "colab": {
          "base_uri": "https://localhost:8080/",
          "height": 206
        },
        "id": "WJPHeB6dM4ny",
        "outputId": "7af97780-7485-47f2-c764-07e350d82567"
      },
      "outputs": [
        {
          "output_type": "execute_result",
          "data": {
            "text/plain": [
              "        id      keyword               location  \\\n",
              "2644  3796  destruction                    NaN   \n",
              "2227  3185       deluge                    NaN   \n",
              "5448  7769       police                     UK   \n",
              "132    191   aftershock                    NaN   \n",
              "6845  9810       trauma  Montgomery County, MD   \n",
              "\n",
              "                                                   text  target  \n",
              "2644  So you have a new weapon that can cause un-ima...       1  \n",
              "2227  The f$&amp;@ing things I do for #GISHWHES Just...       0  \n",
              "5448  DT @georgegalloway: RT @Galloway4Mayor: ÛÏThe...       1  \n",
              "132   Aftershock back to school kick off was great. ...       0  \n",
              "6845  in response to trauma Children of Addicts deve...       0  "
            ],
            "text/html": [
              "\n",
              "  <div id=\"df-662c8dd5-ed83-483d-8531-b4a0165e70f6\">\n",
              "    <div class=\"colab-df-container\">\n",
              "      <div>\n",
              "<style scoped>\n",
              "    .dataframe tbody tr th:only-of-type {\n",
              "        vertical-align: middle;\n",
              "    }\n",
              "\n",
              "    .dataframe tbody tr th {\n",
              "        vertical-align: top;\n",
              "    }\n",
              "\n",
              "    .dataframe thead th {\n",
              "        text-align: right;\n",
              "    }\n",
              "</style>\n",
              "<table border=\"1\" class=\"dataframe\">\n",
              "  <thead>\n",
              "    <tr style=\"text-align: right;\">\n",
              "      <th></th>\n",
              "      <th>id</th>\n",
              "      <th>keyword</th>\n",
              "      <th>location</th>\n",
              "      <th>text</th>\n",
              "      <th>target</th>\n",
              "    </tr>\n",
              "  </thead>\n",
              "  <tbody>\n",
              "    <tr>\n",
              "      <th>2644</th>\n",
              "      <td>3796</td>\n",
              "      <td>destruction</td>\n",
              "      <td>NaN</td>\n",
              "      <td>So you have a new weapon that can cause un-ima...</td>\n",
              "      <td>1</td>\n",
              "    </tr>\n",
              "    <tr>\n",
              "      <th>2227</th>\n",
              "      <td>3185</td>\n",
              "      <td>deluge</td>\n",
              "      <td>NaN</td>\n",
              "      <td>The f$&amp;amp;@ing things I do for #GISHWHES Just...</td>\n",
              "      <td>0</td>\n",
              "    </tr>\n",
              "    <tr>\n",
              "      <th>5448</th>\n",
              "      <td>7769</td>\n",
              "      <td>police</td>\n",
              "      <td>UK</td>\n",
              "      <td>DT @georgegalloway: RT @Galloway4Mayor: ÛÏThe...</td>\n",
              "      <td>1</td>\n",
              "    </tr>\n",
              "    <tr>\n",
              "      <th>132</th>\n",
              "      <td>191</td>\n",
              "      <td>aftershock</td>\n",
              "      <td>NaN</td>\n",
              "      <td>Aftershock back to school kick off was great. ...</td>\n",
              "      <td>0</td>\n",
              "    </tr>\n",
              "    <tr>\n",
              "      <th>6845</th>\n",
              "      <td>9810</td>\n",
              "      <td>trauma</td>\n",
              "      <td>Montgomery County, MD</td>\n",
              "      <td>in response to trauma Children of Addicts deve...</td>\n",
              "      <td>0</td>\n",
              "    </tr>\n",
              "  </tbody>\n",
              "</table>\n",
              "</div>\n",
              "      <button class=\"colab-df-convert\" onclick=\"convertToInteractive('df-662c8dd5-ed83-483d-8531-b4a0165e70f6')\"\n",
              "              title=\"Convert this dataframe to an interactive table.\"\n",
              "              style=\"display:none;\">\n",
              "        \n",
              "  <svg xmlns=\"http://www.w3.org/2000/svg\" height=\"24px\"viewBox=\"0 0 24 24\"\n",
              "       width=\"24px\">\n",
              "    <path d=\"M0 0h24v24H0V0z\" fill=\"none\"/>\n",
              "    <path d=\"M18.56 5.44l.94 2.06.94-2.06 2.06-.94-2.06-.94-.94-2.06-.94 2.06-2.06.94zm-11 1L8.5 8.5l.94-2.06 2.06-.94-2.06-.94L8.5 2.5l-.94 2.06-2.06.94zm10 10l.94 2.06.94-2.06 2.06-.94-2.06-.94-.94-2.06-.94 2.06-2.06.94z\"/><path d=\"M17.41 7.96l-1.37-1.37c-.4-.4-.92-.59-1.43-.59-.52 0-1.04.2-1.43.59L10.3 9.45l-7.72 7.72c-.78.78-.78 2.05 0 2.83L4 21.41c.39.39.9.59 1.41.59.51 0 1.02-.2 1.41-.59l7.78-7.78 2.81-2.81c.8-.78.8-2.07 0-2.86zM5.41 20L4 18.59l7.72-7.72 1.47 1.35L5.41 20z\"/>\n",
              "  </svg>\n",
              "      </button>\n",
              "      \n",
              "  <style>\n",
              "    .colab-df-container {\n",
              "      display:flex;\n",
              "      flex-wrap:wrap;\n",
              "      gap: 12px;\n",
              "    }\n",
              "\n",
              "    .colab-df-convert {\n",
              "      background-color: #E8F0FE;\n",
              "      border: none;\n",
              "      border-radius: 50%;\n",
              "      cursor: pointer;\n",
              "      display: none;\n",
              "      fill: #1967D2;\n",
              "      height: 32px;\n",
              "      padding: 0 0 0 0;\n",
              "      width: 32px;\n",
              "    }\n",
              "\n",
              "    .colab-df-convert:hover {\n",
              "      background-color: #E2EBFA;\n",
              "      box-shadow: 0px 1px 2px rgba(60, 64, 67, 0.3), 0px 1px 3px 1px rgba(60, 64, 67, 0.15);\n",
              "      fill: #174EA6;\n",
              "    }\n",
              "\n",
              "    [theme=dark] .colab-df-convert {\n",
              "      background-color: #3B4455;\n",
              "      fill: #D2E3FC;\n",
              "    }\n",
              "\n",
              "    [theme=dark] .colab-df-convert:hover {\n",
              "      background-color: #434B5C;\n",
              "      box-shadow: 0px 1px 3px 1px rgba(0, 0, 0, 0.15);\n",
              "      filter: drop-shadow(0px 1px 2px rgba(0, 0, 0, 0.3));\n",
              "      fill: #FFFFFF;\n",
              "    }\n",
              "  </style>\n",
              "\n",
              "      <script>\n",
              "        const buttonEl =\n",
              "          document.querySelector('#df-662c8dd5-ed83-483d-8531-b4a0165e70f6 button.colab-df-convert');\n",
              "        buttonEl.style.display =\n",
              "          google.colab.kernel.accessAllowed ? 'block' : 'none';\n",
              "\n",
              "        async function convertToInteractive(key) {\n",
              "          const element = document.querySelector('#df-662c8dd5-ed83-483d-8531-b4a0165e70f6');\n",
              "          const dataTable =\n",
              "            await google.colab.kernel.invokeFunction('convertToInteractive',\n",
              "                                                     [key], {});\n",
              "          if (!dataTable) return;\n",
              "\n",
              "          const docLinkHtml = 'Like what you see? Visit the ' +\n",
              "            '<a target=\"_blank\" href=https://colab.research.google.com/notebooks/data_table.ipynb>data table notebook</a>'\n",
              "            + ' to learn more about interactive tables.';\n",
              "          element.innerHTML = '';\n",
              "          dataTable['output_type'] = 'display_data';\n",
              "          await google.colab.output.renderOutput(dataTable, element);\n",
              "          const docLink = document.createElement('div');\n",
              "          docLink.innerHTML = docLinkHtml;\n",
              "          element.appendChild(docLink);\n",
              "        }\n",
              "      </script>\n",
              "    </div>\n",
              "  </div>\n",
              "  "
            ]
          },
          "metadata": {},
          "execution_count": 11
        }
      ],
      "source": [
        "train_shuffle_df.head()"
      ]
    },
    {
      "cell_type": "code",
      "execution_count": null,
      "metadata": {
        "colab": {
          "base_uri": "https://localhost:8080/"
        },
        "id": "YtipnowSNCaP",
        "outputId": "ea2a9a8f-603f-4a7c-dd5f-a4429bd0be43"
      },
      "outputs": [
        {
          "output_type": "stream",
          "name": "stdout",
          "text": [
            "Target:0 (not_disater)\n",
            "Text:\n",
            "(Also I dont think sewing thought a leather belt would work out that well lol)\n",
            "\n",
            "-----\n",
            "\n",
            "Target:0 (not_disater)\n",
            "Text:\n",
            "[Question] Is anybody else having this problem with the '7' circle in Epicentre? via /r/jailbreak http://t.co/48TPnmbJVG\n",
            "\n",
            "-----\n",
            "\n",
            "Target:0 (not_disater)\n",
            "Text:\n",
            "@God how come bugs haven't all drowned out of existence every time it rains?\n",
            "\n",
            "-----\n",
            "\n",
            "Target:0 (not_disater)\n",
            "Text:\n",
            "self harm// I'm so angry please tag your scars on tumblr jesus christ i dont wanna get triggered\n",
            "\n",
            "-----\n",
            "\n",
            "Target:1 (real_disaster)\n",
            "Text:\n",
            "Plains: Calif. Oil Spill Could be Larger than Estimated. http://t.co/CcvcTe3lCw\n",
            "\n",
            "-----\n",
            "\n"
          ]
        }
      ],
      "source": [
        "import random\n",
        "random_index=random.randint(0,len(train_shuffle_df)-5)\n",
        "for row in train_shuffle_df[[\"text\",\"target\"]][random_index:random_index+5].itertuples():\n",
        "  _,text,target=row\n",
        "  print(f\"Target:{target}\",\"(real_disaster)\"if target>0 else \"(not_disater)\")\n",
        "  print(f\"Text:\\n{text}\\n\")\n",
        "  print(\"-----\\n\")\n"
      ]
    },
    {
      "cell_type": "code",
      "execution_count": null,
      "metadata": {
        "id": "DY_ImLMQSfjO"
      },
      "outputs": [],
      "source": [
        "#spliting the data"
      ]
    },
    {
      "cell_type": "code",
      "execution_count": null,
      "metadata": {
        "id": "Q24wcN0ibhHc"
      },
      "outputs": [],
      "source": [
        "from sklearn.model_selection import train_test_split\n",
        "train_sentences,val_sentences,train_labels,val_labels=train_test_split(train_shuffle_df[\"text\"].to_numpy(),\n",
        "                                                                       train_shuffle_df[\"target\"].to_numpy(),\n",
        "                                                                       test_size=0.2,\n",
        "                                                                       random_state=42)"
      ]
    },
    {
      "cell_type": "code",
      "execution_count": null,
      "metadata": {
        "colab": {
          "base_uri": "https://localhost:8080/"
        },
        "id": "aA9JCp2gciPJ",
        "outputId": "ee8bc967-ef53-4b55-f10a-6b3e58a29338"
      },
      "outputs": [
        {
          "output_type": "execute_result",
          "data": {
            "text/plain": [
              "7613"
            ]
          },
          "metadata": {},
          "execution_count": 15
        }
      ],
      "source": [
        "len(train_shuffle_df)"
      ]
    },
    {
      "cell_type": "code",
      "execution_count": null,
      "metadata": {
        "colab": {
          "base_uri": "https://localhost:8080/"
        },
        "id": "riDUrEmVcumi",
        "outputId": "6fe07169-e29c-4101-a8ca-9b6a48e1f86a"
      },
      "outputs": [
        {
          "output_type": "execute_result",
          "data": {
            "text/plain": [
              "(6090, 1523)"
            ]
          },
          "metadata": {},
          "execution_count": 16
        }
      ],
      "source": [
        "len(train_sentences),len(val_sentences)"
      ]
    },
    {
      "cell_type": "code",
      "execution_count": null,
      "metadata": {
        "colab": {
          "base_uri": "https://localhost:8080/"
        },
        "id": "D1lWcZStc6dZ",
        "outputId": "cdca37ab-cf31-41c7-b31a-bebd3b813848"
      },
      "outputs": [
        {
          "output_type": "execute_result",
          "data": {
            "text/plain": [
              "(6090, 1523)"
            ]
          },
          "metadata": {},
          "execution_count": 17
        }
      ],
      "source": [
        "len(train_labels),len(val_labels)"
      ]
    },
    {
      "cell_type": "code",
      "execution_count": null,
      "metadata": {
        "id": "VUxH86_udB4C"
      },
      "outputs": [],
      "source": [
        "\n",
        "from tensorflow.keras.layers.experimental.preprocessing import TextVectorization\n"
      ]
    },
    {
      "cell_type": "code",
      "execution_count": null,
      "metadata": {
        "id": "14r0z5vCtAeR"
      },
      "outputs": [],
      "source": [
        "text_vector=TextVectorization(max_tokens=None,\n",
        "                              standardize=\"lower_and_strip_punctuation\",\n",
        "                              split=\"whitespace\",\n",
        "                              ngrams=None,\n",
        "                              output_mode=\"int\",\n",
        "                              output_sequence_length=None,\n",
        "                              pad_to_max_tokens=False)\n",
        "                              "
      ]
    },
    {
      "cell_type": "code",
      "execution_count": null,
      "metadata": {
        "colab": {
          "base_uri": "https://localhost:8080/"
        },
        "id": "X64gRaU1uka4",
        "outputId": "9d6e7c08-b2d7-4c65-fac1-ce8692654bcb"
      },
      "outputs": [
        {
          "output_type": "execute_result",
          "data": {
            "text/plain": [
              "array(['Detonation fashionable mountaineering electronic watch water-resistant couples leisure tab\\x89Û_ http://t.co/E61x9Y65QD http://t.co/OVLET0gDqm',\n",
              "       \"Men escape car engulfed in flames in Parley's Canyon crews investigating cause - http://t.co/tFan6qq2Ys http://t.co/rAkwWritPo\",\n",
              "       'I-77 Mile Marker 31 to 40 South Mooresville  Iredell Vehicle Accident Congestion at 8/6 1:18 PM',\n",
              "       \"#Greece's tax revenues collapse as debt crisis continues via @guardian #bailout http://t.co/cJvbQXw83s ^mp\",\n",
              "       'Be not afraid of sudden fear neither of the desolation of the wicked when it cometh. For the Lord shall be thy... http://t.co/bP597YDs2b',\n",
              "       'Storm batters Auckland and Northland: A violent overnight storm has battered Auckland and Northland uprooting... http://t.co/enrPGRgtTs',\n",
              "       \"Benzema increasingly looks to be a casualty of Benitez's new look squad. Arsenal bound? 50-50 chance I think\",\n",
              "       'Acquire your postexistence straight a elevation in addition to upheaval ideas yet perquisite: bRZjc',\n",
              "       \"@NeanderRebel If you take the suit off him I wouldn't be surprised to hear this is the face that belonged to another democrat mass-murderer\",\n",
              "       'kc5kH mhtw4fnet\\n\\nCrews gaining on huge Northern California wildfire - CBS News'],\n",
              "      dtype=object)"
            ]
          },
          "metadata": {},
          "execution_count": 20
        }
      ],
      "source": [
        "train_sentences[:10]"
      ]
    },
    {
      "cell_type": "code",
      "execution_count": null,
      "metadata": {
        "colab": {
          "base_uri": "https://localhost:8080/"
        },
        "id": "t9dIWIZJuseJ",
        "outputId": "b718dc33-c4ac-4b88-bdf5-1be81f047d82"
      },
      "outputs": [
        {
          "output_type": "execute_result",
          "data": {
            "text/plain": [
              "11"
            ]
          },
          "metadata": {},
          "execution_count": 21
        }
      ],
      "source": [
        "len(train_sentences[0].split())"
      ]
    },
    {
      "cell_type": "code",
      "execution_count": null,
      "metadata": {
        "colab": {
          "base_uri": "https://localhost:8080/"
        },
        "id": "FU-yZJ9nuz1f",
        "outputId": "bd9b3d2a-0571-4788-b516-375378f67a28"
      },
      "outputs": [
        {
          "output_type": "execute_result",
          "data": {
            "text/plain": [
              "15"
            ]
          },
          "metadata": {},
          "execution_count": 22
        }
      ],
      "source": [
        "round(sum([len(i.split()) for i in train_sentences])/len(train_sentences))"
      ]
    },
    {
      "cell_type": "code",
      "execution_count": null,
      "metadata": {
        "id": "JeqQzAX9vXNA"
      },
      "outputs": [],
      "source": [
        "text_vector=TextVectorization(max_tokens=10000,\n",
        "                              output_mode=\"int\",\n",
        "                              output_sequence_length=15)"
      ]
    },
    {
      "cell_type": "code",
      "execution_count": null,
      "metadata": {
        "id": "nrmD9wp452J7"
      },
      "outputs": [],
      "source": [
        "text_vector.adapt(train_sentences)\n",
        "text_vector.adapt(val_sentences)"
      ]
    },
    {
      "cell_type": "code",
      "execution_count": null,
      "metadata": {
        "colab": {
          "base_uri": "https://localhost:8080/"
        },
        "id": "Zgw4YkZ56Lib",
        "outputId": "73a6fde9-5e93-4b6c-de8f-5f96411b2d22"
      },
      "outputs": [
        {
          "output_type": "execute_result",
          "data": {
            "text/plain": [
              "<tf.Tensor: shape=(1, 15), dtype=int64, numpy=array([[67,  9,  3,  1,  1,  0,  0,  0,  0,  0,  0,  0,  0,  0,  0]])>"
            ]
          },
          "metadata": {},
          "execution_count": 25
        }
      ],
      "source": [
        "\n",
        "\n",
        "sample_sentence=\"there is a diasater finded\"\n",
        "text_vector([sample_sentence])"
      ]
    },
    {
      "cell_type": "code",
      "execution_count": null,
      "metadata": {
        "colab": {
          "base_uri": "https://localhost:8080/"
        },
        "id": "0y3KEx5L6exh",
        "outputId": "66b0fce5-5077-43d8-b237-f2b29800aeaa"
      },
      "outputs": [
        {
          "output_type": "stream",
          "name": "stdout",
          "text": [
            "original_text:Shot Through The Heart XV: You are going to totally give love a bad name with this heart pierc http://t.co/xpFmR368uF http://t.co/ejdHvLKXAf\n"
          ]
        },
        {
          "output_type": "execute_result",
          "data": {
            "text/plain": [
              "<tf.Tensor: shape=(1, 15), dtype=int64, numpy=\n",
              "array([[ 663,  250,    2,  575,    1,   12,   22,  153,    5, 1423,  720,\n",
              "         103,    3,  508, 3881]])>"
            ]
          },
          "metadata": {},
          "execution_count": 26
        }
      ],
      "source": [
        "random_sentence=random.choice(train_sentences)\n",
        "print(f\"original_text:{random_sentence}\")\n",
        "text_vector([random_sentence])"
      ]
    },
    {
      "cell_type": "code",
      "execution_count": null,
      "metadata": {
        "colab": {
          "base_uri": "https://localhost:8080/",
          "height": 36
        },
        "id": "xXCfqfuR6zra",
        "outputId": "a60c4f43-b7ce-4a3f-fa7d-952df8bdf91e"
      },
      "outputs": [
        {
          "output_type": "execute_result",
          "data": {
            "text/plain": [
              "'Shot Through The Heart XV: You are going to totally give love a bad name with this heart pierc http://t.co/xpFmR368uF http://t.co/ejdHvLKXAf'"
            ],
            "application/vnd.google.colaboratory.intrinsic+json": {
              "type": "string"
            }
          },
          "metadata": {},
          "execution_count": 27
        }
      ],
      "source": [
        "random_sentence"
      ]
    },
    {
      "cell_type": "code",
      "execution_count": null,
      "metadata": {
        "id": "8DnQMCWQ62Xa"
      },
      "outputs": [],
      "source": [
        "#get the vocabulary"
      ]
    },
    {
      "cell_type": "code",
      "execution_count": null,
      "metadata": {
        "id": "PJGmH0FS9S2i"
      },
      "outputs": [],
      "source": [
        "vocabulary=text_vector.get_vocabulary([train_sentences])"
      ]
    },
    {
      "cell_type": "code",
      "execution_count": null,
      "metadata": {
        "colab": {
          "base_uri": "https://localhost:8080/"
        },
        "id": "2jEWHr7j9f2Q",
        "outputId": "a08155ef-53ff-4800-fae5-c6ec5cd175b0"
      },
      "outputs": [
        {
          "output_type": "execute_result",
          "data": {
            "text/plain": [
              "['', '[UNK]', 'the', 'a', 'in', 'to', 'of', 'i', 'and', 'is']"
            ]
          },
          "metadata": {},
          "execution_count": 30
        }
      ],
      "source": [
        "vocabulary[:10]"
      ]
    },
    {
      "cell_type": "code",
      "execution_count": null,
      "metadata": {
        "id": "X94fNe6t9ocZ"
      },
      "outputs": [],
      "source": [
        "#embedding"
      ]
    },
    {
      "cell_type": "code",
      "execution_count": null,
      "metadata": {
        "id": "ZncWlmDG9x0B"
      },
      "outputs": [],
      "source": [
        "from tensorflow.keras.layers import Embedding"
      ]
    },
    {
      "cell_type": "code",
      "execution_count": null,
      "metadata": {
        "id": "O9sSawQsEQS_"
      },
      "outputs": [],
      "source": [
        ""
      ]
    },
    {
      "cell_type": "code",
      "execution_count": null,
      "metadata": {
        "id": "a3D1yn0EAqPB"
      },
      "outputs": [],
      "source": [
        "embedding=Embedding(input_dim=10000,\n",
        "                    embeddings_initializer=\"uniform\",\n",
        "                    output_dim=64,\n",
        "                    input_length=15)\n",
        "                    \n",
        "                  "
      ]
    },
    {
      "cell_type": "code",
      "execution_count": null,
      "metadata": {
        "colab": {
          "base_uri": "https://localhost:8080/"
        },
        "id": "N0lsuf_rBmc4",
        "outputId": "ba6d12f2-424c-411d-834b-c814816e2e51"
      },
      "outputs": [
        {
          "output_type": "execute_result",
          "data": {
            "text/plain": [
              "<keras.layers.embeddings.Embedding at 0x7f1a855d1190>"
            ]
          },
          "metadata": {},
          "execution_count": 34
        }
      ],
      "source": [
        "embedding"
      ]
    },
    {
      "cell_type": "code",
      "execution_count": null,
      "metadata": {
        "colab": {
          "base_uri": "https://localhost:8080/"
        },
        "id": "DOxh9nadCh4v",
        "outputId": "568fbd93-7d08-47f9-be7d-c836cb340bfe"
      },
      "outputs": [
        {
          "output_type": "stream",
          "name": "stdout",
          "text": [
            "original text:Fears over missing migrants in Med: Rescuers search for survivors after a boat carrying as many as 600 migrantsÛ_ http://t.co/IXfnE5Jlep          \n",
            "\n",
            "Embedded version\n"
          ]
        },
        {
          "output_type": "execute_result",
          "data": {
            "text/plain": [
              "<tf.Tensor: shape=(1, 15, 64), dtype=float32, numpy=\n",
              "array([[[ 0.04640719, -0.01545659,  0.02544938,  0.01258738,\n",
              "         -0.01189385, -0.03056029,  0.03259837,  0.03395266,\n",
              "          0.0358942 , -0.01006863, -0.01290733, -0.03051522,\n",
              "          0.04280518,  0.01156633,  0.02635579,  0.04918754,\n",
              "          0.01300696,  0.01991019, -0.04397271,  0.04211089,\n",
              "         -0.04758709,  0.04890629,  0.00130775, -0.03142319,\n",
              "         -0.00274056,  0.00024177,  0.00559692,  0.03659148,\n",
              "         -0.01516913,  0.04599777,  0.03412523,  0.04659541,\n",
              "          0.00652315,  0.01587391, -0.02436559, -0.00812361,\n",
              "          0.02570939, -0.00392742,  0.04067094,  0.03636645,\n",
              "          0.03766998, -0.01885576, -0.02945805,  0.04684284,\n",
              "         -0.04049002,  0.0080533 , -0.01482484,  0.00183929,\n",
              "          0.04306931, -0.00436622,  0.03124373,  0.0255642 ,\n",
              "         -0.04232844, -0.02543871,  0.04545644, -0.04077185,\n",
              "          0.03693379,  0.04973879, -0.00521495,  0.02519435,\n",
              "         -0.04285089,  0.04518517,  0.02460781, -0.01239939],\n",
              "        [ 0.01183158,  0.00755392, -0.00507293,  0.01267547,\n",
              "         -0.042114  , -0.03944831, -0.03412687,  0.0183675 ,\n",
              "         -0.00903583,  0.04609868, -0.02459717,  0.00440038,\n",
              "          0.00938175, -0.01435089,  0.04604508, -0.03857657,\n",
              "          0.03109092,  0.03411807, -0.01458911,  0.0205158 ,\n",
              "         -0.01971349,  0.01611212,  0.00360317,  0.04052843,\n",
              "          0.03134624, -0.04612665, -0.0403289 , -0.0309196 ,\n",
              "          0.03352052,  0.03127653,  0.01158626, -0.04562798,\n",
              "          0.04071886,  0.02460797, -0.04403851, -0.03744892,\n",
              "          0.00993055, -0.03313249,  0.00450789, -0.02797138,\n",
              "         -0.0247179 , -0.04631473, -0.02539182,  0.00799521,\n",
              "          0.01351534,  0.00174805, -0.03637874,  0.00827301,\n",
              "         -0.04415449, -0.02456962, -0.0381273 ,  0.01972007,\n",
              "         -0.03449329, -0.01335723,  0.01438287,  0.04708991,\n",
              "         -0.02321815,  0.03633093, -0.02955565, -0.00067977,\n",
              "          0.01078903, -0.01226244, -0.03143541, -0.03379837],\n",
              "        [ 0.00739525,  0.03395822,  0.04676891,  0.03807377,\n",
              "         -0.03467091,  0.0195433 , -0.02018962, -0.03004804,\n",
              "         -0.04243051, -0.04364072, -0.00503493,  0.02669177,\n",
              "          0.01546231,  0.00148816, -0.00125187, -0.04041408,\n",
              "         -0.01440302,  0.04765432, -0.02343437, -0.01071705,\n",
              "         -0.00246323,  0.02224686, -0.01191317, -0.02685148,\n",
              "         -0.04129903,  0.01124879, -0.0364018 , -0.04233707,\n",
              "         -0.01086922,  0.02263322, -0.0366604 , -0.03105183,\n",
              "          0.02632293, -0.04187934,  0.04889913,  0.02072439,\n",
              "         -0.0430872 ,  0.00024707, -0.02111679,  0.02673757,\n",
              "         -0.02416009,  0.04291513, -0.00483643,  0.04434278,\n",
              "          0.04190003, -0.03310263, -0.04056637, -0.00744165,\n",
              "          0.01756603,  0.03628543,  0.00918511,  0.04758407,\n",
              "         -0.02056111,  0.03658472,  0.04759022, -0.02918491,\n",
              "          0.03377669, -0.04560436, -0.04909697,  0.0242111 ,\n",
              "         -0.01843991, -0.003133  , -0.04479105,  0.03223065],\n",
              "        [ 0.04030801,  0.04640669, -0.01668226,  0.04110255,\n",
              "         -0.0434436 , -0.04526719, -0.01417396, -0.01272327,\n",
              "          0.00764918, -0.01833483,  0.03857649, -0.01201875,\n",
              "         -0.02841098,  0.00186574, -0.02695845, -0.03531767,\n",
              "         -0.0017184 ,  0.02798555,  0.00584356,  0.03727663,\n",
              "          0.02610556, -0.0499174 , -0.03881583, -0.03393259,\n",
              "         -0.01080617, -0.00678238, -0.04175168, -0.03166696,\n",
              "         -0.00913155, -0.03051308,  0.03846249, -0.01776629,\n",
              "         -0.01586059, -0.00958674, -0.02571004, -0.02766084,\n",
              "          0.01669731,  0.04949759, -0.00971286, -0.0397446 ,\n",
              "          0.03509407,  0.00110539, -0.03182033, -0.03340747,\n",
              "          0.01256974,  0.01146474, -0.01796396, -0.03903279,\n",
              "          0.04588374, -0.04011588, -0.04415428,  0.02824743,\n",
              "         -0.0248377 , -0.03272057,  0.03332483,  0.00322342,\n",
              "         -0.04656798, -0.01579468,  0.01171017,  0.00276868,\n",
              "          0.03681225,  0.00183884,  0.02567725, -0.0309577 ],\n",
              "        [-0.01239439,  0.00110696, -0.01489166,  0.01242241,\n",
              "          0.0036157 ,  0.04649736, -0.04637083, -0.03804256,\n",
              "          0.0410676 , -0.02191033,  0.04999293, -0.03157388,\n",
              "          0.01923856, -0.03984864,  0.00507224,  0.00499792,\n",
              "          0.01301834,  0.03119233, -0.02867809,  0.04325778,\n",
              "         -0.02316568,  0.00132398, -0.02509824,  0.01418364,\n",
              "         -0.04243745,  0.01727518,  0.01619692, -0.01393212,\n",
              "          0.02063755,  0.00878019, -0.02174134,  0.00093169,\n",
              "         -0.01502397, -0.04295836,  0.00561587, -0.03487532,\n",
              "          0.04763388,  0.04996352,  0.03638871,  0.04988087,\n",
              "          0.0425843 , -0.00660457, -0.02633162, -0.04349109,\n",
              "          0.02602812, -0.00761025, -0.00556171,  0.02769666,\n",
              "          0.00549855,  0.04067895,  0.03122165,  0.03887128,\n",
              "          0.0167929 , -0.02869477, -0.03929557, -0.01275713,\n",
              "          0.04765436,  0.0403222 , -0.02193241, -0.0002721 ,\n",
              "          0.0459635 ,  0.01845571, -0.03668451, -0.02849816],\n",
              "        [-0.01824071, -0.01894126,  0.01271652,  0.04835934,\n",
              "          0.0399141 , -0.03226135,  0.03636328,  0.04384654,\n",
              "         -0.0364413 ,  0.0020322 ,  0.0125569 ,  0.01695596,\n",
              "         -0.0394184 , -0.01336175,  0.04202652,  0.04612751,\n",
              "          0.01410797,  0.0381022 , -0.04265502,  0.00087214,\n",
              "          0.02529658, -0.03777809,  0.04032898, -0.03038828,\n",
              "          0.00463747, -0.03361974,  0.04078421, -0.0466607 ,\n",
              "         -0.00529794, -0.02639822, -0.03243127,  0.0079638 ,\n",
              "         -0.0464324 , -0.00056541,  0.01754017, -0.03152858,\n",
              "          0.02073313, -0.00482509,  0.04441151,  0.02224246,\n",
              "         -0.00929246,  0.01883494, -0.01361465, -0.00847241,\n",
              "         -0.02257879, -0.04715984,  0.04679156,  0.01966161,\n",
              "          0.00877269, -0.01361628, -0.03772157, -0.02764103,\n",
              "         -0.01299391, -0.02307791, -0.03168465,  0.03914925,\n",
              "         -0.02849565, -0.04986907,  0.02465108, -0.01894022,\n",
              "         -0.02569777, -0.03924536, -0.04771913,  0.03098864],\n",
              "        [ 0.03046732, -0.01498244, -0.0428977 , -0.03457445,\n",
              "          0.00904616, -0.04543915,  0.01107054,  0.02092792,\n",
              "         -0.00603757, -0.03363756,  0.04575355, -0.03279625,\n",
              "          0.00672783,  0.01843622,  0.0487544 ,  0.00527946,\n",
              "         -0.03234656, -0.02793455,  0.04958301, -0.00478126,\n",
              "          0.01276923,  0.03438798, -0.04310564, -0.03339423,\n",
              "          0.0474675 , -0.04389612,  0.04396087, -0.0469522 ,\n",
              "         -0.03012762, -0.04499617, -0.01959965, -0.00938128,\n",
              "          0.03200379, -0.00065477, -0.02780063,  0.04903883,\n",
              "         -0.03058045, -0.01165896,  0.04358888, -0.04663656,\n",
              "         -0.00463083, -0.00445141,  0.01021487,  0.03950742,\n",
              "         -0.04170199, -0.03410165, -0.01308496, -0.02482406,\n",
              "         -0.04986982, -0.03681656,  0.04521498,  0.03233018,\n",
              "         -0.03421886, -0.02963631, -0.0022454 , -0.03940996,\n",
              "          0.02358213,  0.03524886, -0.04916872,  0.01986544,\n",
              "         -0.04905875,  0.0455138 , -0.03893631, -0.01497068],\n",
              "        [ 0.03893069,  0.02494191, -0.00049184,  0.03442115,\n",
              "          0.00257547, -0.02469843, -0.0275751 , -0.04823797,\n",
              "          0.01745572, -0.01875305,  0.02897049,  0.02249807,\n",
              "         -0.01590258, -0.03065337, -0.04984679,  0.03697226,\n",
              "          0.04627163, -0.02210489, -0.00394388,  0.00685062,\n",
              "          0.01146526,  0.02097664,  0.04426746,  0.01699327,\n",
              "         -0.02208127, -0.04060187, -0.02083251,  0.01599214,\n",
              "         -0.00201382,  0.03940758, -0.00586724,  0.01568149,\n",
              "         -0.01685731, -0.02822596,  0.00525172,  0.01222519,\n",
              "         -0.01702327,  0.01931963, -0.04668998, -0.04769174,\n",
              "          0.0355125 , -0.0134416 ,  0.03591478, -0.01391021,\n",
              "         -0.02628076, -0.0235448 , -0.00433492,  0.04304302,\n",
              "         -0.0403793 ,  0.00860222,  0.03082471, -0.04305104,\n",
              "         -0.01825112,  0.01324964,  0.02322474, -0.03515341,\n",
              "          0.04966212, -0.00086132, -0.02288445, -0.02776768,\n",
              "         -0.01863283,  0.04093316, -0.0475568 ,  0.04925254],\n",
              "        [ 0.01408008, -0.04150309, -0.01680107, -0.0412467 ,\n",
              "          0.01615914,  0.00151721, -0.00487448,  0.04851124,\n",
              "         -0.04493055, -0.01343875, -0.00231866,  0.02933018,\n",
              "          0.0297558 ,  0.02872194,  0.04265117,  0.0328848 ,\n",
              "         -0.015269  ,  0.04618729, -0.02559123, -0.04512342,\n",
              "          0.03970448, -0.01760062, -0.0195478 , -0.02603173,\n",
              "         -0.02157673,  0.00945872,  0.03035453,  0.03243803,\n",
              "          0.00620978, -0.0212359 , -0.03006506, -0.01345968,\n",
              "         -0.01012184,  0.01284881,  0.02531072,  0.03748332,\n",
              "         -0.01824348,  0.04187444,  0.03732714,  0.00139862,\n",
              "          0.01199491, -0.02976071, -0.02966981,  0.02307913,\n",
              "          0.02715516, -0.00050281,  0.0349238 ,  0.03390486,\n",
              "         -0.01283598,  0.04299459, -0.0453639 ,  0.00590035,\n",
              "         -0.02306951, -0.04221734, -0.01311859, -0.02778842,\n",
              "         -0.03950211, -0.00657874,  0.02652702,  0.04844951,\n",
              "          0.01727903, -0.03694334,  0.01047317,  0.01566757],\n",
              "        [-0.01669595, -0.04469338, -0.03666022, -0.03205148,\n",
              "         -0.00282284,  0.00932237, -0.04285583, -0.0016169 ,\n",
              "         -0.00365599,  0.03156687,  0.02264979,  0.0432553 ,\n",
              "          0.04381088,  0.01439908,  0.03595115,  0.02361846,\n",
              "          0.04492884,  0.04521975, -0.02816527, -0.00196923,\n",
              "          0.02907839,  0.00084113,  0.01761866, -0.0466374 ,\n",
              "         -0.02537215, -0.00076592, -0.04716948,  0.01191793,\n",
              "         -0.02927995,  0.01544147, -0.0457217 , -0.0033657 ,\n",
              "         -0.00894479,  0.03274899,  0.02353228, -0.01185579,\n",
              "         -0.03133726,  0.01406774,  0.04240147, -0.02210616,\n",
              "          0.02513042, -0.03930489, -0.00771315, -0.0270982 ,\n",
              "          0.04602251,  0.00492819,  0.0027751 , -0.04873654,\n",
              "          0.03308081,  0.03712595, -0.03240352, -0.04701708,\n",
              "          0.00275724,  0.00221782, -0.00944645,  0.04673943,\n",
              "          0.04803773, -0.02001773,  0.00279429,  0.00338459,\n",
              "          0.0002359 , -0.04045038,  0.04163048, -0.01725515],\n",
              "        [-0.04662753,  0.02263114, -0.00016855, -0.00037589,\n",
              "         -0.02642269,  0.03011597, -0.01246602, -0.01462326,\n",
              "          0.00924057, -0.0281963 , -0.02422463,  0.00578096,\n",
              "         -0.03368062,  0.01772119,  0.01029521,  0.0133491 ,\n",
              "          0.01665695,  0.00762994, -0.02445495, -0.01279344,\n",
              "         -0.01676356,  0.04726188, -0.00614692,  0.02789954,\n",
              "         -0.02104001, -0.04053728, -0.0220634 , -0.00270625,\n",
              "          0.03468576, -0.00279825,  0.01834928, -0.04667816,\n",
              "          0.02876151,  0.015892  , -0.04596814,  0.02314334,\n",
              "         -0.02218764,  0.03922755, -0.0257518 ,  0.00297219,\n",
              "         -0.00359291, -0.04645972,  0.04477575,  0.00935411,\n",
              "         -0.03939576, -0.02974935,  0.02203257,  0.0248503 ,\n",
              "         -0.00569061,  0.00456892, -0.00832384,  0.0030541 ,\n",
              "         -0.04432988, -0.01339111,  0.01669555, -0.04354876,\n",
              "         -0.001236  ,  0.04250305, -0.03723165,  0.01744634,\n",
              "         -0.01452812, -0.01894122,  0.00462214, -0.04706608],\n",
              "        [ 0.0349623 ,  0.00335752,  0.03943162,  0.02331882,\n",
              "         -0.04068587,  0.01081499,  0.01609777,  0.03701147,\n",
              "          0.00860747,  0.02564982, -0.02066364,  0.01696001,\n",
              "          0.04314413, -0.04916407,  0.04293004, -0.01881974,\n",
              "         -0.00772942, -0.02261694, -0.04675636,  0.04042866,\n",
              "         -0.02166133, -0.0409674 ,  0.02562011,  0.03573264,\n",
              "         -0.03257586,  0.04513261, -0.04440288,  0.03448455,\n",
              "          0.03993804,  0.04246933,  0.00144162,  0.02836939,\n",
              "         -0.04096863, -0.01367328,  0.03368206, -0.02684977,\n",
              "          0.00721676, -0.00947859, -0.02669177,  0.03027064,\n",
              "         -0.04428666, -0.01803958, -0.02983405,  0.02106276,\n",
              "          0.00980493,  0.02803192, -0.00682835,  0.03137393,\n",
              "          0.03232232,  0.02356083, -0.00235258, -0.04447326,\n",
              "          0.01797202,  0.02086072, -0.01074572,  0.03569837,\n",
              "          0.01600191,  0.00445696,  0.00479134, -0.04049121,\n",
              "          0.01647291,  0.00539281,  0.02014085, -0.04355018],\n",
              "        [-0.00168393, -0.00618511, -0.02769892, -0.01516279,\n",
              "          0.02073529, -0.04058395,  0.04002831, -0.03096159,\n",
              "         -0.02779183,  0.01243371, -0.01361758,  0.03719661,\n",
              "          0.01499129,  0.04481399, -0.00546994, -0.03720547,\n",
              "          0.01646261, -0.03089889, -0.02434212, -0.01331917,\n",
              "         -0.01745611, -0.01849068,  0.01185384, -0.01558988,\n",
              "         -0.01004026,  0.01475394,  0.03817758, -0.0260608 ,\n",
              "          0.02102352,  0.00050244,  0.04816974,  0.04605398,\n",
              "          0.03511241,  0.00659115,  0.04680699,  0.04681455,\n",
              "          0.03038296,  0.03455481,  0.02209936,  0.01889651,\n",
              "         -0.03197616,  0.03740195,  0.00462153, -0.03941336,\n",
              "         -0.02728366,  0.03676275,  0.01896444,  0.04128511,\n",
              "          0.02304735, -0.0461031 ,  0.03803039, -0.04004284,\n",
              "          0.03928829, -0.04058707, -0.04609935, -0.0148549 ,\n",
              "          0.02380509,  0.01253455, -0.02418509, -0.03725432,\n",
              "         -0.01545227,  0.04934489,  0.04089667,  0.03334749],\n",
              "        [-0.01824071, -0.01894126,  0.01271652,  0.04835934,\n",
              "          0.0399141 , -0.03226135,  0.03636328,  0.04384654,\n",
              "         -0.0364413 ,  0.0020322 ,  0.0125569 ,  0.01695596,\n",
              "         -0.0394184 , -0.01336175,  0.04202652,  0.04612751,\n",
              "          0.01410797,  0.0381022 , -0.04265502,  0.00087214,\n",
              "          0.02529658, -0.03777809,  0.04032898, -0.03038828,\n",
              "          0.00463747, -0.03361974,  0.04078421, -0.0466607 ,\n",
              "         -0.00529794, -0.02639822, -0.03243127,  0.0079638 ,\n",
              "         -0.0464324 , -0.00056541,  0.01754017, -0.03152858,\n",
              "          0.02073313, -0.00482509,  0.04441151,  0.02224246,\n",
              "         -0.00929246,  0.01883494, -0.01361465, -0.00847241,\n",
              "         -0.02257879, -0.04715984,  0.04679156,  0.01966161,\n",
              "          0.00877269, -0.01361628, -0.03772157, -0.02764103,\n",
              "         -0.01299391, -0.02307791, -0.03168465,  0.03914925,\n",
              "         -0.02849565, -0.04986907,  0.02465108, -0.01894022,\n",
              "         -0.02569777, -0.03924536, -0.04771913,  0.03098864],\n",
              "        [ 0.01473704,  0.01513021, -0.00850023, -0.00205052,\n",
              "          0.01780269,  0.02067978,  0.00736064, -0.02961072,\n",
              "          0.03888169, -0.0333968 , -0.03651125,  0.02824395,\n",
              "          0.01083653, -0.03587083,  0.01274747, -0.03454392,\n",
              "          0.01203251, -0.04760381, -0.009804  , -0.02354611,\n",
              "          0.00108122, -0.04841343,  0.04550492, -0.03697873,\n",
              "          0.01533263, -0.01814997,  0.04219731, -0.03089042,\n",
              "          0.02735858, -0.03540113, -0.03527107, -0.01814087,\n",
              "          0.02383003,  0.03261847, -0.01138858, -0.01279075,\n",
              "          0.03084511, -0.02998974, -0.01832368, -0.03808885,\n",
              "         -0.04657842,  0.03785839, -0.04902586, -0.03271959,\n",
              "          0.01478488, -0.03522591, -0.04871607,  0.0299103 ,\n",
              "         -0.00164849, -0.02385707, -0.0049616 , -0.01366406,\n",
              "          0.04480788, -0.00945666, -0.04500085, -0.03669158,\n",
              "          0.04298315, -0.01192527,  0.04100395,  0.04398251,\n",
              "          0.04504513,  0.04045839, -0.04218781,  0.04929973]]],\n",
              "      dtype=float32)>"
            ]
          },
          "metadata": {},
          "execution_count": 35
        }
      ],
      "source": [
        "random_sentence=random.choice(train_sentences)\n",
        "print(f\"original text:{random_sentence}\\\n",
        "          \\n\\nEmbedded version\")\n",
        "sample_embedd=embedding(text_vector([random_sentence]))\n",
        "sample_embedd\n",
        "\n"
      ]
    },
    {
      "cell_type": "code",
      "execution_count": null,
      "metadata": {
        "colab": {
          "base_uri": "https://localhost:8080/"
        },
        "id": "rkQSnApVCXmX",
        "outputId": "6235d2e7-f963-4f25-c0d0-fdd11d62c7f9"
      },
      "outputs": [
        {
          "output_type": "execute_result",
          "data": {
            "text/plain": [
              "<tf.Tensor: shape=(15, 64), dtype=float32, numpy=\n",
              "array([[ 0.04640719, -0.01545659,  0.02544938,  0.01258738, -0.01189385,\n",
              "        -0.03056029,  0.03259837,  0.03395266,  0.0358942 , -0.01006863,\n",
              "        -0.01290733, -0.03051522,  0.04280518,  0.01156633,  0.02635579,\n",
              "         0.04918754,  0.01300696,  0.01991019, -0.04397271,  0.04211089,\n",
              "        -0.04758709,  0.04890629,  0.00130775, -0.03142319, -0.00274056,\n",
              "         0.00024177,  0.00559692,  0.03659148, -0.01516913,  0.04599777,\n",
              "         0.03412523,  0.04659541,  0.00652315,  0.01587391, -0.02436559,\n",
              "        -0.00812361,  0.02570939, -0.00392742,  0.04067094,  0.03636645,\n",
              "         0.03766998, -0.01885576, -0.02945805,  0.04684284, -0.04049002,\n",
              "         0.0080533 , -0.01482484,  0.00183929,  0.04306931, -0.00436622,\n",
              "         0.03124373,  0.0255642 , -0.04232844, -0.02543871,  0.04545644,\n",
              "        -0.04077185,  0.03693379,  0.04973879, -0.00521495,  0.02519435,\n",
              "        -0.04285089,  0.04518517,  0.02460781, -0.01239939],\n",
              "       [ 0.01183158,  0.00755392, -0.00507293,  0.01267547, -0.042114  ,\n",
              "        -0.03944831, -0.03412687,  0.0183675 , -0.00903583,  0.04609868,\n",
              "        -0.02459717,  0.00440038,  0.00938175, -0.01435089,  0.04604508,\n",
              "        -0.03857657,  0.03109092,  0.03411807, -0.01458911,  0.0205158 ,\n",
              "        -0.01971349,  0.01611212,  0.00360317,  0.04052843,  0.03134624,\n",
              "        -0.04612665, -0.0403289 , -0.0309196 ,  0.03352052,  0.03127653,\n",
              "         0.01158626, -0.04562798,  0.04071886,  0.02460797, -0.04403851,\n",
              "        -0.03744892,  0.00993055, -0.03313249,  0.00450789, -0.02797138,\n",
              "        -0.0247179 , -0.04631473, -0.02539182,  0.00799521,  0.01351534,\n",
              "         0.00174805, -0.03637874,  0.00827301, -0.04415449, -0.02456962,\n",
              "        -0.0381273 ,  0.01972007, -0.03449329, -0.01335723,  0.01438287,\n",
              "         0.04708991, -0.02321815,  0.03633093, -0.02955565, -0.00067977,\n",
              "         0.01078903, -0.01226244, -0.03143541, -0.03379837],\n",
              "       [ 0.00739525,  0.03395822,  0.04676891,  0.03807377, -0.03467091,\n",
              "         0.0195433 , -0.02018962, -0.03004804, -0.04243051, -0.04364072,\n",
              "        -0.00503493,  0.02669177,  0.01546231,  0.00148816, -0.00125187,\n",
              "        -0.04041408, -0.01440302,  0.04765432, -0.02343437, -0.01071705,\n",
              "        -0.00246323,  0.02224686, -0.01191317, -0.02685148, -0.04129903,\n",
              "         0.01124879, -0.0364018 , -0.04233707, -0.01086922,  0.02263322,\n",
              "        -0.0366604 , -0.03105183,  0.02632293, -0.04187934,  0.04889913,\n",
              "         0.02072439, -0.0430872 ,  0.00024707, -0.02111679,  0.02673757,\n",
              "        -0.02416009,  0.04291513, -0.00483643,  0.04434278,  0.04190003,\n",
              "        -0.03310263, -0.04056637, -0.00744165,  0.01756603,  0.03628543,\n",
              "         0.00918511,  0.04758407, -0.02056111,  0.03658472,  0.04759022,\n",
              "        -0.02918491,  0.03377669, -0.04560436, -0.04909697,  0.0242111 ,\n",
              "        -0.01843991, -0.003133  , -0.04479105,  0.03223065],\n",
              "       [ 0.04030801,  0.04640669, -0.01668226,  0.04110255, -0.0434436 ,\n",
              "        -0.04526719, -0.01417396, -0.01272327,  0.00764918, -0.01833483,\n",
              "         0.03857649, -0.01201875, -0.02841098,  0.00186574, -0.02695845,\n",
              "        -0.03531767, -0.0017184 ,  0.02798555,  0.00584356,  0.03727663,\n",
              "         0.02610556, -0.0499174 , -0.03881583, -0.03393259, -0.01080617,\n",
              "        -0.00678238, -0.04175168, -0.03166696, -0.00913155, -0.03051308,\n",
              "         0.03846249, -0.01776629, -0.01586059, -0.00958674, -0.02571004,\n",
              "        -0.02766084,  0.01669731,  0.04949759, -0.00971286, -0.0397446 ,\n",
              "         0.03509407,  0.00110539, -0.03182033, -0.03340747,  0.01256974,\n",
              "         0.01146474, -0.01796396, -0.03903279,  0.04588374, -0.04011588,\n",
              "        -0.04415428,  0.02824743, -0.0248377 , -0.03272057,  0.03332483,\n",
              "         0.00322342, -0.04656798, -0.01579468,  0.01171017,  0.00276868,\n",
              "         0.03681225,  0.00183884,  0.02567725, -0.0309577 ],\n",
              "       [-0.01239439,  0.00110696, -0.01489166,  0.01242241,  0.0036157 ,\n",
              "         0.04649736, -0.04637083, -0.03804256,  0.0410676 , -0.02191033,\n",
              "         0.04999293, -0.03157388,  0.01923856, -0.03984864,  0.00507224,\n",
              "         0.00499792,  0.01301834,  0.03119233, -0.02867809,  0.04325778,\n",
              "        -0.02316568,  0.00132398, -0.02509824,  0.01418364, -0.04243745,\n",
              "         0.01727518,  0.01619692, -0.01393212,  0.02063755,  0.00878019,\n",
              "        -0.02174134,  0.00093169, -0.01502397, -0.04295836,  0.00561587,\n",
              "        -0.03487532,  0.04763388,  0.04996352,  0.03638871,  0.04988087,\n",
              "         0.0425843 , -0.00660457, -0.02633162, -0.04349109,  0.02602812,\n",
              "        -0.00761025, -0.00556171,  0.02769666,  0.00549855,  0.04067895,\n",
              "         0.03122165,  0.03887128,  0.0167929 , -0.02869477, -0.03929557,\n",
              "        -0.01275713,  0.04765436,  0.0403222 , -0.02193241, -0.0002721 ,\n",
              "         0.0459635 ,  0.01845571, -0.03668451, -0.02849816],\n",
              "       [-0.01824071, -0.01894126,  0.01271652,  0.04835934,  0.0399141 ,\n",
              "        -0.03226135,  0.03636328,  0.04384654, -0.0364413 ,  0.0020322 ,\n",
              "         0.0125569 ,  0.01695596, -0.0394184 , -0.01336175,  0.04202652,\n",
              "         0.04612751,  0.01410797,  0.0381022 , -0.04265502,  0.00087214,\n",
              "         0.02529658, -0.03777809,  0.04032898, -0.03038828,  0.00463747,\n",
              "        -0.03361974,  0.04078421, -0.0466607 , -0.00529794, -0.02639822,\n",
              "        -0.03243127,  0.0079638 , -0.0464324 , -0.00056541,  0.01754017,\n",
              "        -0.03152858,  0.02073313, -0.00482509,  0.04441151,  0.02224246,\n",
              "        -0.00929246,  0.01883494, -0.01361465, -0.00847241, -0.02257879,\n",
              "        -0.04715984,  0.04679156,  0.01966161,  0.00877269, -0.01361628,\n",
              "        -0.03772157, -0.02764103, -0.01299391, -0.02307791, -0.03168465,\n",
              "         0.03914925, -0.02849565, -0.04986907,  0.02465108, -0.01894022,\n",
              "        -0.02569777, -0.03924536, -0.04771913,  0.03098864],\n",
              "       [ 0.03046732, -0.01498244, -0.0428977 , -0.03457445,  0.00904616,\n",
              "        -0.04543915,  0.01107054,  0.02092792, -0.00603757, -0.03363756,\n",
              "         0.04575355, -0.03279625,  0.00672783,  0.01843622,  0.0487544 ,\n",
              "         0.00527946, -0.03234656, -0.02793455,  0.04958301, -0.00478126,\n",
              "         0.01276923,  0.03438798, -0.04310564, -0.03339423,  0.0474675 ,\n",
              "        -0.04389612,  0.04396087, -0.0469522 , -0.03012762, -0.04499617,\n",
              "        -0.01959965, -0.00938128,  0.03200379, -0.00065477, -0.02780063,\n",
              "         0.04903883, -0.03058045, -0.01165896,  0.04358888, -0.04663656,\n",
              "        -0.00463083, -0.00445141,  0.01021487,  0.03950742, -0.04170199,\n",
              "        -0.03410165, -0.01308496, -0.02482406, -0.04986982, -0.03681656,\n",
              "         0.04521498,  0.03233018, -0.03421886, -0.02963631, -0.0022454 ,\n",
              "        -0.03940996,  0.02358213,  0.03524886, -0.04916872,  0.01986544,\n",
              "        -0.04905875,  0.0455138 , -0.03893631, -0.01497068],\n",
              "       [ 0.03893069,  0.02494191, -0.00049184,  0.03442115,  0.00257547,\n",
              "        -0.02469843, -0.0275751 , -0.04823797,  0.01745572, -0.01875305,\n",
              "         0.02897049,  0.02249807, -0.01590258, -0.03065337, -0.04984679,\n",
              "         0.03697226,  0.04627163, -0.02210489, -0.00394388,  0.00685062,\n",
              "         0.01146526,  0.02097664,  0.04426746,  0.01699327, -0.02208127,\n",
              "        -0.04060187, -0.02083251,  0.01599214, -0.00201382,  0.03940758,\n",
              "        -0.00586724,  0.01568149, -0.01685731, -0.02822596,  0.00525172,\n",
              "         0.01222519, -0.01702327,  0.01931963, -0.04668998, -0.04769174,\n",
              "         0.0355125 , -0.0134416 ,  0.03591478, -0.01391021, -0.02628076,\n",
              "        -0.0235448 , -0.00433492,  0.04304302, -0.0403793 ,  0.00860222,\n",
              "         0.03082471, -0.04305104, -0.01825112,  0.01324964,  0.02322474,\n",
              "        -0.03515341,  0.04966212, -0.00086132, -0.02288445, -0.02776768,\n",
              "        -0.01863283,  0.04093316, -0.0475568 ,  0.04925254],\n",
              "       [ 0.01408008, -0.04150309, -0.01680107, -0.0412467 ,  0.01615914,\n",
              "         0.00151721, -0.00487448,  0.04851124, -0.04493055, -0.01343875,\n",
              "        -0.00231866,  0.02933018,  0.0297558 ,  0.02872194,  0.04265117,\n",
              "         0.0328848 , -0.015269  ,  0.04618729, -0.02559123, -0.04512342,\n",
              "         0.03970448, -0.01760062, -0.0195478 , -0.02603173, -0.02157673,\n",
              "         0.00945872,  0.03035453,  0.03243803,  0.00620978, -0.0212359 ,\n",
              "        -0.03006506, -0.01345968, -0.01012184,  0.01284881,  0.02531072,\n",
              "         0.03748332, -0.01824348,  0.04187444,  0.03732714,  0.00139862,\n",
              "         0.01199491, -0.02976071, -0.02966981,  0.02307913,  0.02715516,\n",
              "        -0.00050281,  0.0349238 ,  0.03390486, -0.01283598,  0.04299459,\n",
              "        -0.0453639 ,  0.00590035, -0.02306951, -0.04221734, -0.01311859,\n",
              "        -0.02778842, -0.03950211, -0.00657874,  0.02652702,  0.04844951,\n",
              "         0.01727903, -0.03694334,  0.01047317,  0.01566757],\n",
              "       [-0.01669595, -0.04469338, -0.03666022, -0.03205148, -0.00282284,\n",
              "         0.00932237, -0.04285583, -0.0016169 , -0.00365599,  0.03156687,\n",
              "         0.02264979,  0.0432553 ,  0.04381088,  0.01439908,  0.03595115,\n",
              "         0.02361846,  0.04492884,  0.04521975, -0.02816527, -0.00196923,\n",
              "         0.02907839,  0.00084113,  0.01761866, -0.0466374 , -0.02537215,\n",
              "        -0.00076592, -0.04716948,  0.01191793, -0.02927995,  0.01544147,\n",
              "        -0.0457217 , -0.0033657 , -0.00894479,  0.03274899,  0.02353228,\n",
              "        -0.01185579, -0.03133726,  0.01406774,  0.04240147, -0.02210616,\n",
              "         0.02513042, -0.03930489, -0.00771315, -0.0270982 ,  0.04602251,\n",
              "         0.00492819,  0.0027751 , -0.04873654,  0.03308081,  0.03712595,\n",
              "        -0.03240352, -0.04701708,  0.00275724,  0.00221782, -0.00944645,\n",
              "         0.04673943,  0.04803773, -0.02001773,  0.00279429,  0.00338459,\n",
              "         0.0002359 , -0.04045038,  0.04163048, -0.01725515],\n",
              "       [-0.04662753,  0.02263114, -0.00016855, -0.00037589, -0.02642269,\n",
              "         0.03011597, -0.01246602, -0.01462326,  0.00924057, -0.0281963 ,\n",
              "        -0.02422463,  0.00578096, -0.03368062,  0.01772119,  0.01029521,\n",
              "         0.0133491 ,  0.01665695,  0.00762994, -0.02445495, -0.01279344,\n",
              "        -0.01676356,  0.04726188, -0.00614692,  0.02789954, -0.02104001,\n",
              "        -0.04053728, -0.0220634 , -0.00270625,  0.03468576, -0.00279825,\n",
              "         0.01834928, -0.04667816,  0.02876151,  0.015892  , -0.04596814,\n",
              "         0.02314334, -0.02218764,  0.03922755, -0.0257518 ,  0.00297219,\n",
              "        -0.00359291, -0.04645972,  0.04477575,  0.00935411, -0.03939576,\n",
              "        -0.02974935,  0.02203257,  0.0248503 , -0.00569061,  0.00456892,\n",
              "        -0.00832384,  0.0030541 , -0.04432988, -0.01339111,  0.01669555,\n",
              "        -0.04354876, -0.001236  ,  0.04250305, -0.03723165,  0.01744634,\n",
              "        -0.01452812, -0.01894122,  0.00462214, -0.04706608],\n",
              "       [ 0.0349623 ,  0.00335752,  0.03943162,  0.02331882, -0.04068587,\n",
              "         0.01081499,  0.01609777,  0.03701147,  0.00860747,  0.02564982,\n",
              "        -0.02066364,  0.01696001,  0.04314413, -0.04916407,  0.04293004,\n",
              "        -0.01881974, -0.00772942, -0.02261694, -0.04675636,  0.04042866,\n",
              "        -0.02166133, -0.0409674 ,  0.02562011,  0.03573264, -0.03257586,\n",
              "         0.04513261, -0.04440288,  0.03448455,  0.03993804,  0.04246933,\n",
              "         0.00144162,  0.02836939, -0.04096863, -0.01367328,  0.03368206,\n",
              "        -0.02684977,  0.00721676, -0.00947859, -0.02669177,  0.03027064,\n",
              "        -0.04428666, -0.01803958, -0.02983405,  0.02106276,  0.00980493,\n",
              "         0.02803192, -0.00682835,  0.03137393,  0.03232232,  0.02356083,\n",
              "        -0.00235258, -0.04447326,  0.01797202,  0.02086072, -0.01074572,\n",
              "         0.03569837,  0.01600191,  0.00445696,  0.00479134, -0.04049121,\n",
              "         0.01647291,  0.00539281,  0.02014085, -0.04355018],\n",
              "       [-0.00168393, -0.00618511, -0.02769892, -0.01516279,  0.02073529,\n",
              "        -0.04058395,  0.04002831, -0.03096159, -0.02779183,  0.01243371,\n",
              "        -0.01361758,  0.03719661,  0.01499129,  0.04481399, -0.00546994,\n",
              "        -0.03720547,  0.01646261, -0.03089889, -0.02434212, -0.01331917,\n",
              "        -0.01745611, -0.01849068,  0.01185384, -0.01558988, -0.01004026,\n",
              "         0.01475394,  0.03817758, -0.0260608 ,  0.02102352,  0.00050244,\n",
              "         0.04816974,  0.04605398,  0.03511241,  0.00659115,  0.04680699,\n",
              "         0.04681455,  0.03038296,  0.03455481,  0.02209936,  0.01889651,\n",
              "        -0.03197616,  0.03740195,  0.00462153, -0.03941336, -0.02728366,\n",
              "         0.03676275,  0.01896444,  0.04128511,  0.02304735, -0.0461031 ,\n",
              "         0.03803039, -0.04004284,  0.03928829, -0.04058707, -0.04609935,\n",
              "        -0.0148549 ,  0.02380509,  0.01253455, -0.02418509, -0.03725432,\n",
              "        -0.01545227,  0.04934489,  0.04089667,  0.03334749],\n",
              "       [-0.01824071, -0.01894126,  0.01271652,  0.04835934,  0.0399141 ,\n",
              "        -0.03226135,  0.03636328,  0.04384654, -0.0364413 ,  0.0020322 ,\n",
              "         0.0125569 ,  0.01695596, -0.0394184 , -0.01336175,  0.04202652,\n",
              "         0.04612751,  0.01410797,  0.0381022 , -0.04265502,  0.00087214,\n",
              "         0.02529658, -0.03777809,  0.04032898, -0.03038828,  0.00463747,\n",
              "        -0.03361974,  0.04078421, -0.0466607 , -0.00529794, -0.02639822,\n",
              "        -0.03243127,  0.0079638 , -0.0464324 , -0.00056541,  0.01754017,\n",
              "        -0.03152858,  0.02073313, -0.00482509,  0.04441151,  0.02224246,\n",
              "        -0.00929246,  0.01883494, -0.01361465, -0.00847241, -0.02257879,\n",
              "        -0.04715984,  0.04679156,  0.01966161,  0.00877269, -0.01361628,\n",
              "        -0.03772157, -0.02764103, -0.01299391, -0.02307791, -0.03168465,\n",
              "         0.03914925, -0.02849565, -0.04986907,  0.02465108, -0.01894022,\n",
              "        -0.02569777, -0.03924536, -0.04771913,  0.03098864],\n",
              "       [ 0.01473704,  0.01513021, -0.00850023, -0.00205052,  0.01780269,\n",
              "         0.02067978,  0.00736064, -0.02961072,  0.03888169, -0.0333968 ,\n",
              "        -0.03651125,  0.02824395,  0.01083653, -0.03587083,  0.01274747,\n",
              "        -0.03454392,  0.01203251, -0.04760381, -0.009804  , -0.02354611,\n",
              "         0.00108122, -0.04841343,  0.04550492, -0.03697873,  0.01533263,\n",
              "        -0.01814997,  0.04219731, -0.03089042,  0.02735858, -0.03540113,\n",
              "        -0.03527107, -0.01814087,  0.02383003,  0.03261847, -0.01138858,\n",
              "        -0.01279075,  0.03084511, -0.02998974, -0.01832368, -0.03808885,\n",
              "        -0.04657842,  0.03785839, -0.04902586, -0.03271959,  0.01478488,\n",
              "        -0.03522591, -0.04871607,  0.0299103 , -0.00164849, -0.02385707,\n",
              "        -0.0049616 , -0.01366406,  0.04480788, -0.00945666, -0.04500085,\n",
              "        -0.03669158,  0.04298315, -0.01192527,  0.04100395,  0.04398251,\n",
              "         0.04504513,  0.04045839, -0.04218781,  0.04929973]],\n",
              "      dtype=float32)>"
            ]
          },
          "metadata": {},
          "execution_count": 36
        }
      ],
      "source": [
        "sample_embedd[0]"
      ]
    },
    {
      "cell_type": "code",
      "execution_count": null,
      "metadata": {
        "id": "asQKXgPAJefd"
      },
      "outputs": [],
      "source": [
        "#modeling\n",
        "#naive bayes"
      ]
    },
    {
      "cell_type": "code",
      "execution_count": null,
      "metadata": {
        "id": "KIG-omuuQ8h7"
      },
      "outputs": [],
      "source": [
        "from sklearn.feature_extraction.text import TfidfVectorizer\n",
        "from sklearn.naive_bayes import MultinomialNB\n",
        "from sklearn.pipeline import Pipeline"
      ]
    },
    {
      "cell_type": "code",
      "execution_count": null,
      "metadata": {
        "colab": {
          "base_uri": "https://localhost:8080/"
        },
        "id": "79zz3o20RZoy",
        "outputId": "47771859-855e-4957-ec5c-bddc6265652f"
      },
      "outputs": [
        {
          "output_type": "execute_result",
          "data": {
            "text/plain": [
              "Pipeline(steps=[('tfidf', TfidfVectorizer()), ('clf', MultinomialNB())])"
            ]
          },
          "metadata": {},
          "execution_count": 39
        }
      ],
      "source": [
        "\n",
        "model_0=Pipeline([\n",
        "             (\"tfidf\",TfidfVectorizer()),\n",
        "             (\"clf\",MultinomialNB())     \n",
        "                  \n",
        "])\n",
        "model_0.fit(train_sentences,train_labels)"
      ]
    },
    {
      "cell_type": "code",
      "execution_count": null,
      "metadata": {
        "id": "mZkLGHQT31Kp"
      },
      "outputs": [],
      "source": [
        "score=model_0.score(val_sentences,val_labels)"
      ]
    },
    {
      "cell_type": "code",
      "execution_count": null,
      "metadata": {
        "colab": {
          "base_uri": "https://localhost:8080/"
        },
        "id": "WvtQDmuI4WVD",
        "outputId": "be6ae537-1f0e-49b0-d4cf-aa9ccabbe43e"
      },
      "outputs": [
        {
          "output_type": "stream",
          "name": "stdout",
          "text": [
            "Evolution of the base_model:79.91%\n"
          ]
        }
      ],
      "source": [
        "print(f\"Evolution of the base_model:{score*100:.2f}%\")"
      ]
    },
    {
      "cell_type": "code",
      "execution_count": null,
      "metadata": {
        "colab": {
          "base_uri": "https://localhost:8080/"
        },
        "id": "ZTq2PaJC4wpz",
        "outputId": "a25b1e4c-afb8-4835-8e16-316a2434226a"
      },
      "outputs": [
        {
          "output_type": "execute_result",
          "data": {
            "text/plain": [
              "0.799080761654629"
            ]
          },
          "metadata": {},
          "execution_count": 42
        }
      ],
      "source": [
        "score"
      ]
    },
    {
      "cell_type": "code",
      "execution_count": null,
      "metadata": {
        "colab": {
          "base_uri": "https://localhost:8080/"
        },
        "id": "1Xy78SdR4zOs",
        "outputId": "413e8340-dc7e-4444-95b7-cbcb1536d9c4"
      },
      "outputs": [
        {
          "output_type": "execute_result",
          "data": {
            "text/plain": [
              "0    4342\n",
              "1    3271\n",
              "Name: target, dtype: int64"
            ]
          },
          "metadata": {},
          "execution_count": 43
        }
      ],
      "source": [
        "train_df.target.value_counts()"
      ]
    },
    {
      "cell_type": "code",
      "execution_count": null,
      "metadata": {
        "id": "j--NXQr88w9q"
      },
      "outputs": [],
      "source": [
        "y_pred=model_0.predict(val_sentences)"
      ]
    },
    {
      "cell_type": "code",
      "execution_count": null,
      "metadata": {
        "colab": {
          "base_uri": "https://localhost:8080/"
        },
        "id": "kx56q7sG8_xD",
        "outputId": "9ac39dee-d5a6-43ea-e1d5-e26eef01f2df"
      },
      "outputs": [
        {
          "output_type": "execute_result",
          "data": {
            "text/plain": [
              "array([1, 1, 1, 0, 0, 1, 1, 1, 1, 0, 0, 1, 0, 0, 0, 0, 0, 0, 0, 1])"
            ]
          },
          "metadata": {},
          "execution_count": 45
        }
      ],
      "source": [
        "y_pred[:20]"
      ]
    },
    {
      "cell_type": "code",
      "execution_count": null,
      "metadata": {
        "colab": {
          "base_uri": "https://localhost:8080/"
        },
        "id": "MpyiAdb-9C3s",
        "outputId": "0e85f8ff-ec25-4703-ab21-ab2536986f58"
      },
      "outputs": [
        {
          "output_type": "execute_result",
          "data": {
            "text/plain": [
              "array(['DFR EP016 Monthly Meltdown - On Dnbheaven 2015.08.06 http://t.co/EjKRf8N8A8 #Drum and Bass #heavy #nasty http://t.co/SPHWE6wFI5',\n",
              "       'FedEx no longer to transport bioterror germs in wake of anthrax lab mishaps http://t.co/qZQc8WWwcN via @usatoday'],\n",
              "      dtype=object)"
            ]
          },
          "metadata": {},
          "execution_count": 46
        }
      ],
      "source": [
        "val_sentences[:2]"
      ]
    },
    {
      "cell_type": "code",
      "execution_count": null,
      "metadata": {
        "id": "YdmRGmZJ9IkU"
      },
      "outputs": [],
      "source": [
        "from sklearn.metrics import accuracy_score,precision_recall_fscore_support\n",
        "def calculate_result(y_true,y_pred):\n",
        "  model_accuracy=accuracy_score(y_true,y_pred)*100\n",
        "  model_precision,model_recall,model_f1,_=precision_recall_fscore_support(y_true,y_pred,average=\"weighted\")\n",
        "  model_results={\n",
        "      \"accuracy\":model_accuracy,\n",
        "      \"precision\":model_precision,\n",
        "      \"recall\":model_recall,\n",
        "      \"f1\":model_f1\n",
        "\n",
        "  }\n",
        "  return model_results\n"
      ]
    },
    {
      "cell_type": "code",
      "execution_count": null,
      "metadata": {
        "id": "2UfW1TqvBKF6"
      },
      "outputs": [],
      "source": [
        "results_0=calculate_result(val_labels,y_pred)"
      ]
    },
    {
      "cell_type": "code",
      "execution_count": null,
      "metadata": {
        "id": "-VsGthrgyLFF"
      },
      "outputs": [],
      "source": [
        "from helper_functions import create_tensorboard_callback"
      ]
    },
    {
      "cell_type": "code",
      "execution_count": null,
      "metadata": {
        "id": "aVbydkJK1K6b"
      },
      "outputs": [],
      "source": [
        "SAVE_DIR=\"model_logs\""
      ]
    },
    {
      "cell_type": "code",
      "execution_count": null,
      "metadata": {
        "id": "WesY4RpU1STK"
      },
      "outputs": [],
      "source": [
        "from tensorflow.keras import layers\n",
        "inputs=layers.Input(shape=(1),dtype=tf.string)\n",
        "x=text_vector(inputs)\n",
        "x=embedding(x)\n",
        "outputs=layers.Dense(1,activation=\"sigmoid\")(x)\n",
        "model_1=tf.keras.Model(inputs,outputs,name=\"model_1_dense\")\n"
      ]
    },
    {
      "cell_type": "code",
      "execution_count": null,
      "metadata": {
        "colab": {
          "base_uri": "https://localhost:8080/"
        },
        "id": "_-viO_md2wDi",
        "outputId": "ba3d1cd8-d5a5-44ab-c1cd-2f32f0f23eb2"
      },
      "outputs": [
        {
          "output_type": "execute_result",
          "data": {
            "text/plain": [
              "<keras.layers.preprocessing.text_vectorization.TextVectorization at 0x7f1a82110410>"
            ]
          },
          "metadata": {},
          "execution_count": 52
        }
      ],
      "source": [
        "text_vector"
      ]
    },
    {
      "cell_type": "code",
      "execution_count": null,
      "metadata": {
        "colab": {
          "base_uri": "https://localhost:8080/"
        },
        "id": "B1AAiYe8216k",
        "outputId": "e503ff38-d038-441b-a19e-1aa276c87d86"
      },
      "outputs": [
        {
          "output_type": "execute_result",
          "data": {
            "text/plain": [
              "<keras.layers.embeddings.Embedding at 0x7f1a855d1190>"
            ]
          },
          "metadata": {},
          "execution_count": 53
        }
      ],
      "source": [
        "embedding"
      ]
    },
    {
      "cell_type": "code",
      "execution_count": null,
      "metadata": {
        "colab": {
          "base_uri": "https://localhost:8080/"
        },
        "id": "AcOVbdad24OD",
        "outputId": "c45a5e2e-a416-42ab-e70b-d927bdebde5b"
      },
      "outputs": [
        {
          "output_type": "stream",
          "name": "stdout",
          "text": [
            "Model: \"model_1_dense\"\n",
            "_________________________________________________________________\n",
            " Layer (type)                Output Shape              Param #   \n",
            "=================================================================\n",
            " input_1 (InputLayer)        [(None, 1)]               0         \n",
            "                                                                 \n",
            " text_vectorization_1 (TextV  (None, 15)               0         \n",
            " ectorization)                                                   \n",
            "                                                                 \n",
            " embedding (Embedding)       (None, 15, 64)            640000    \n",
            "                                                                 \n",
            " dense (Dense)               (None, 15, 1)             65        \n",
            "                                                                 \n",
            "=================================================================\n",
            "Total params: 640,065\n",
            "Trainable params: 640,065\n",
            "Non-trainable params: 0\n",
            "_________________________________________________________________\n"
          ]
        }
      ],
      "source": [
        "model_1.summary()"
      ]
    },
    {
      "cell_type": "code",
      "execution_count": null,
      "metadata": {
        "id": "vnCz_a9a2_ir"
      },
      "outputs": [],
      "source": [
        "\n",
        "model_1.compile(loss=tf.keras.losses.binary_crossentropy,\n",
        "                optimizer=tf.keras.optimizers.Adam(),\n",
        "                metrics=[\"accuracy\"])"
      ]
    },
    {
      "cell_type": "code",
      "execution_count": null,
      "metadata": {
        "id": "_dRCH2965Jaj"
      },
      "outputs": [],
      "source": [
        "x=train_sentences\n",
        "y=train_labels\n",
        "            "
      ]
    },
    {
      "cell_type": "code",
      "execution_count": null,
      "metadata": {
        "colab": {
          "base_uri": "https://localhost:8080/"
        },
        "id": "dGEw15jt7ja8",
        "outputId": "d6a8d732-17d1-4c32-adc4-6215012c13ba"
      },
      "outputs": [
        {
          "output_type": "execute_result",
          "data": {
            "text/plain": [
              "(6090,)"
            ]
          },
          "metadata": {},
          "execution_count": 57
        }
      ],
      "source": [
        "train_sentences.shape"
      ]
    },
    {
      "cell_type": "code",
      "execution_count": null,
      "metadata": {
        "colab": {
          "base_uri": "https://localhost:8080/"
        },
        "id": "WVUEP2jAG1xl",
        "outputId": "fa98c68b-c96b-400f-fbf3-08e2610f555e"
      },
      "outputs": [
        {
          "output_type": "execute_result",
          "data": {
            "text/plain": [
              "<tf.Tensor: shape=(6090,), dtype=string, numpy=\n",
              "array([b'Detonation fashionable mountaineering electronic watch water-resistant couples leisure tab\\xc2\\x89\\xc3\\x9b_ http://t.co/E61x9Y65QD http://t.co/OVLET0gDqm',\n",
              "       b\"Men escape car engulfed in flames in Parley's Canyon crews investigating cause - http://t.co/tFan6qq2Ys http://t.co/rAkwWritPo\",\n",
              "       b'I-77 Mile Marker 31 to 40 South Mooresville  Iredell Vehicle Accident Congestion at 8/6 1:18 PM',\n",
              "       ...,\n",
              "       b'Near them on the sand half sunk a shattered visage lies... http://t.co/0kCCG1BT06',\n",
              "       b\"kesabaran membuahkan hasil indah pada saat tepat! life isn't about waiting for the storm to pass it's about learning to dance in the rain.\",\n",
              "       b\"@ScottDPierce @billharris_tv @HarrisGle @Beezersun I'm forfeiting this years fantasy football pool out of fear I may win n get my ass kicked\"],\n",
              "      dtype=object)>"
            ]
          },
          "metadata": {},
          "execution_count": 58
        }
      ],
      "source": [
        "tf.constant(x)"
      ]
    },
    {
      "cell_type": "code",
      "execution_count": null,
      "metadata": {
        "colab": {
          "base_uri": "https://localhost:8080/"
        },
        "id": "lt3FLx8AG20l",
        "outputId": "1327610d-debd-4bb3-b3ef-d9e95e409b0a"
      },
      "outputs": [
        {
          "output_type": "execute_result",
          "data": {
            "text/plain": [
              "<tf.Tensor: shape=(6090,), dtype=int64, numpy=array([0, 1, 1, ..., 1, 1, 0])>"
            ]
          },
          "metadata": {},
          "execution_count": 59
        }
      ],
      "source": [
        "tf.constant(y)"
      ]
    },
    {
      "cell_type": "code",
      "execution_count": null,
      "metadata": {
        "id": "aWGEER0HG3AO"
      },
      "outputs": [],
      "source": [
        "from tensorflow.keras import layers\n",
        "inputs=layers.Input(shape=(1,),dtype=tf.string)\n",
        "x=text_vector(inputs)\n",
        "x=embedding(x)\n",
        "x = layers.GlobalAveragePooling1D()(x)\n",
        "outputs=layers.Dense(1,activation=\"sigmoid\")(x)\n",
        "model_1=tf.keras.Model(inputs,outputs,name=\"model_1_dense\")\n"
      ]
    },
    {
      "cell_type": "code",
      "execution_count": null,
      "metadata": {
        "id": "gr2AY6keG3HV"
      },
      "outputs": [],
      "source": [
        "\n",
        "model_1.compile(loss=tf.keras.losses.binary_crossentropy,\n",
        "                optimizer=tf.keras.optimizers.Adam(),\n",
        "                metrics=[\"accuracy\"])"
      ]
    },
    {
      "cell_type": "code",
      "execution_count": null,
      "metadata": {
        "colab": {
          "base_uri": "https://localhost:8080/"
        },
        "id": "e76aqxcuG3MU",
        "outputId": "cb5091dd-8fa5-4601-dec6-7eb554f047fb"
      },
      "outputs": [
        {
          "output_type": "stream",
          "name": "stdout",
          "text": [
            "Saving TensorBoard log files to: SAVE_DIR/model_logs/20220708-124627\n",
            "Epoch 1/5\n",
            "191/191 [==============================] - 4s 16ms/step - loss: 0.6413 - accuracy: 0.6522 - val_loss: 0.5862 - val_accuracy: 0.7262\n",
            "Epoch 2/5\n",
            "191/191 [==============================] - 2s 13ms/step - loss: 0.5203 - accuracy: 0.7749 - val_loss: 0.5008 - val_accuracy: 0.7715\n",
            "Epoch 3/5\n",
            "191/191 [==============================] - 2s 13ms/step - loss: 0.4363 - accuracy: 0.8197 - val_loss: 0.4712 - val_accuracy: 0.7859\n",
            "Epoch 4/5\n",
            "191/191 [==============================] - 2s 13ms/step - loss: 0.3866 - accuracy: 0.8373 - val_loss: 0.4628 - val_accuracy: 0.7873\n",
            "Epoch 5/5\n",
            "191/191 [==============================] - 2s 12ms/step - loss: 0.3512 - accuracy: 0.8527 - val_loss: 0.4624 - val_accuracy: 0.7919\n"
          ]
        },
        {
          "output_type": "execute_result",
          "data": {
            "text/plain": [
              "<keras.callbacks.History at 0x7f1a7f467bd0>"
            ]
          },
          "metadata": {},
          "execution_count": 62
        }
      ],
      "source": [
        "model_1.fit(train_sentences,\n",
        "            train_labels,\n",
        "            epochs=5,\n",
        "            validation_data=(val_sentences,val_labels),\n",
        "            callbacks=[create_tensorboard_callback(dir_name=\"SAVE_DIR\",\n",
        "                                                   experiment_name=\"model_logs\")])\n",
        "           "
      ]
    },
    {
      "cell_type": "code",
      "execution_count": null,
      "metadata": {
        "colab": {
          "base_uri": "https://localhost:8080/"
        },
        "id": "FNAFZbkxG3Qx",
        "outputId": "3d541fb2-4f00-4963-9132-a7b98737e5b7"
      },
      "outputs": [
        {
          "output_type": "stream",
          "name": "stdout",
          "text": [
            "Model: \"model_1_dense\"\n",
            "_________________________________________________________________\n",
            " Layer (type)                Output Shape              Param #   \n",
            "=================================================================\n",
            " input_2 (InputLayer)        [(None, 1)]               0         \n",
            "                                                                 \n",
            " text_vectorization_1 (TextV  (None, 15)               0         \n",
            " ectorization)                                                   \n",
            "                                                                 \n",
            " embedding (Embedding)       (None, 15, 64)            640000    \n",
            "                                                                 \n",
            " global_average_pooling1d (G  (None, 64)               0         \n",
            " lobalAveragePooling1D)                                          \n",
            "                                                                 \n",
            " dense_1 (Dense)             (None, 1)                 65        \n",
            "                                                                 \n",
            "=================================================================\n",
            "Total params: 640,065\n",
            "Trainable params: 640,065\n",
            "Non-trainable params: 0\n",
            "_________________________________________________________________\n"
          ]
        }
      ],
      "source": [
        "model_1.summary()"
      ]
    },
    {
      "cell_type": "code",
      "execution_count": null,
      "metadata": {
        "colab": {
          "base_uri": "https://localhost:8080/"
        },
        "id": "mfG8EaC0Ly7m",
        "outputId": "452488a9-e0d0-4098-f4ec-19e73b701929"
      },
      "outputs": [
        {
          "output_type": "stream",
          "name": "stdout",
          "text": [
            "48/48 [==============================] - 0s 4ms/step - loss: 0.4624 - accuracy: 0.7919\n"
          ]
        },
        {
          "output_type": "execute_result",
          "data": {
            "text/plain": [
              "[0.4623766839504242, 0.7918581962585449]"
            ]
          },
          "metadata": {},
          "execution_count": 64
        }
      ],
      "source": [
        "model_1.evaluate(val_sentences,val_labels)"
      ]
    },
    {
      "cell_type": "code",
      "execution_count": null,
      "metadata": {
        "id": "ETBjcN0NLzDJ"
      },
      "outputs": [],
      "source": [
        "y_pred1=model_0.predict(val_sentences)"
      ]
    },
    {
      "cell_type": "code",
      "execution_count": null,
      "metadata": {
        "colab": {
          "base_uri": "https://localhost:8080/"
        },
        "id": "A3eymx0oLzLS",
        "outputId": "181e3b47-843c-4029-f668-5736731a239e"
      },
      "outputs": [
        {
          "output_type": "execute_result",
          "data": {
            "text/plain": [
              "array([1, 1])"
            ]
          },
          "metadata": {},
          "execution_count": 66
        }
      ],
      "source": [
        "y_pred1[:2]"
      ]
    },
    {
      "cell_type": "code",
      "execution_count": null,
      "metadata": {
        "colab": {
          "base_uri": "https://localhost:8080/"
        },
        "id": "STlPytwQLzUY",
        "outputId": "6476a531-1c1a-46d8-ee93-bae252383890"
      },
      "outputs": [
        {
          "output_type": "execute_result",
          "data": {
            "text/plain": [
              "array([1, 1, 1, ..., 0, 1, 1])"
            ]
          },
          "metadata": {},
          "execution_count": 67
        }
      ],
      "source": [
        "y_pred1"
      ]
    },
    {
      "cell_type": "code",
      "execution_count": null,
      "metadata": {
        "id": "8QkOgmsJLeuW"
      },
      "outputs": [],
      "source": [
        "results_1=calculate_result(val_labels,y_pred1)"
      ]
    },
    {
      "cell_type": "code",
      "execution_count": null,
      "metadata": {
        "colab": {
          "base_uri": "https://localhost:8080/"
        },
        "id": "Zxug-w28Le-S",
        "outputId": "af86821a-24d4-490e-d477-c56505f8babd"
      },
      "outputs": [
        {
          "output_type": "execute_result",
          "data": {
            "text/plain": [
              "{'accuracy': 79.9080761654629,\n",
              " 'f1': 0.7920155324845473,\n",
              " 'precision': 0.8146358812834972,\n",
              " 'recall': 0.799080761654629}"
            ]
          },
          "metadata": {},
          "execution_count": 69
        }
      ],
      "source": [
        "results_1"
      ]
    },
    {
      "cell_type": "code",
      "execution_count": null,
      "metadata": {
        "colab": {
          "base_uri": "https://localhost:8080/"
        },
        "id": "oFaQHQTsG3UI",
        "outputId": "c62404bd-7484-412c-a077-d5305776e26b"
      },
      "outputs": [
        {
          "output_type": "execute_result",
          "data": {
            "text/plain": [
              "{'accuracy': 79.9080761654629,\n",
              " 'f1': 0.7920155324845473,\n",
              " 'precision': 0.8146358812834972,\n",
              " 'recall': 0.799080761654629}"
            ]
          },
          "metadata": {},
          "execution_count": 70
        }
      ],
      "source": [
        "results_0"
      ]
    },
    {
      "cell_type": "code",
      "execution_count": null,
      "metadata": {
        "id": "Hb2uGr2IG3Xy"
      },
      "outputs": [],
      "source": [
        "import numpy as np"
      ]
    },
    {
      "cell_type": "code",
      "execution_count": null,
      "metadata": {
        "colab": {
          "base_uri": "https://localhost:8080/"
        },
        "id": "H6Kr-5eT8ujd",
        "outputId": "e162939f-dec7-4841-b50b-69a74164784c"
      },
      "outputs": [
        {
          "output_type": "execute_result",
          "data": {
            "text/plain": [
              "array([False, False, False, False])"
            ]
          },
          "metadata": {},
          "execution_count": 72
        }
      ],
      "source": [
        "np.array(list(results_1.values()))>np.array(list(results_0.values()))"
      ]
    },
    {
      "cell_type": "code",
      "execution_count": null,
      "metadata": {
        "id": "k7gSjZLj8zCk"
      },
      "outputs": [],
      "source": [
        "model_vocab=text_vector.get_vocabulary()"
      ]
    },
    {
      "cell_type": "code",
      "execution_count": null,
      "metadata": {
        "colab": {
          "base_uri": "https://localhost:8080/"
        },
        "id": "zR-J02tu82MK",
        "outputId": "de0d7e3e-ae20-4bf9-9413-3c9a177b1e65"
      },
      "outputs": [
        {
          "output_type": "execute_result",
          "data": {
            "text/plain": [
              "['', '[UNK]', 'the', 'a', 'in', 'to', 'of', 'i', 'and', 'is', 'on', 'for']"
            ]
          },
          "metadata": {},
          "execution_count": 74
        }
      ],
      "source": [
        "model_vocab[:12]"
      ]
    },
    {
      "cell_type": "code",
      "execution_count": null,
      "metadata": {
        "colab": {
          "base_uri": "https://localhost:8080/"
        },
        "id": "Dxl8UuAM85yD",
        "outputId": "22f0b689-8251-4647-c6de-14eed37e5561"
      },
      "outputs": [
        {
          "output_type": "execute_result",
          "data": {
            "text/plain": [
              "7385"
            ]
          },
          "metadata": {},
          "execution_count": 75
        }
      ],
      "source": [
        "len(model_vocab)"
      ]
    },
    {
      "cell_type": "code",
      "execution_count": null,
      "metadata": {
        "id": "7hmttUt7NaGS"
      },
      "outputs": [],
      "source": [
        "#getting the embedding layer from the model"
      ]
    },
    {
      "cell_type": "code",
      "execution_count": null,
      "metadata": {
        "colab": {
          "base_uri": "https://localhost:8080/"
        },
        "id": "dtq284D0NeTY",
        "outputId": "eb7fbc71-deef-4557-a2bb-ba6c84900820"
      },
      "outputs": [
        {
          "output_type": "stream",
          "name": "stdout",
          "text": [
            "Model: \"model_1_dense\"\n",
            "_________________________________________________________________\n",
            " Layer (type)                Output Shape              Param #   \n",
            "=================================================================\n",
            " input_2 (InputLayer)        [(None, 1)]               0         \n",
            "                                                                 \n",
            " text_vectorization_1 (TextV  (None, 15)               0         \n",
            " ectorization)                                                   \n",
            "                                                                 \n",
            " embedding (Embedding)       (None, 15, 64)            640000    \n",
            "                                                                 \n",
            " global_average_pooling1d (G  (None, 64)               0         \n",
            " lobalAveragePooling1D)                                          \n",
            "                                                                 \n",
            " dense_1 (Dense)             (None, 1)                 65        \n",
            "                                                                 \n",
            "=================================================================\n",
            "Total params: 640,065\n",
            "Trainable params: 640,065\n",
            "Non-trainable params: 0\n",
            "_________________________________________________________________\n"
          ]
        }
      ],
      "source": [
        "model_1.summary()"
      ]
    },
    {
      "cell_type": "code",
      "execution_count": null,
      "metadata": {
        "id": "azEt28v-NhSo"
      },
      "outputs": [],
      "source": [
        "emb_weights=model_1.get_layer(\"embedding\").get_weights()[0]"
      ]
    },
    {
      "cell_type": "code",
      "execution_count": null,
      "metadata": {
        "colab": {
          "base_uri": "https://localhost:8080/"
        },
        "id": "xVueIuiRNmTZ",
        "outputId": "547adb1e-f913-40b7-b507-d66ce9470322"
      },
      "outputs": [
        {
          "output_type": "execute_result",
          "data": {
            "text/plain": [
              "array([[-0.01185444, -0.06580561, -0.00773953, ...,  0.06661237,\n",
              "        -0.06627058,  0.03690318],\n",
              "       [-0.02461482, -0.02386102,  0.00657506, ..., -0.03087702,\n",
              "        -0.05204804,  0.03740419],\n",
              "       [-0.04024485, -0.08320466, -0.03206343, ...,  0.02608237,\n",
              "        -0.00034957,  0.01390975],\n",
              "       ...,\n",
              "       [-0.0276651 ,  0.01590667, -0.0028441 , ..., -0.0375576 ,\n",
              "         0.02354186,  0.01179466],\n",
              "       [-0.0030577 ,  0.02537291, -0.01273973, ...,  0.02060434,\n",
              "         0.04157514, -0.02696877],\n",
              "       [ 0.03992354,  0.00082464,  0.02736834, ..., -0.00208956,\n",
              "        -0.02159416, -0.01731342]], dtype=float32)"
            ]
          },
          "metadata": {},
          "execution_count": 79
        }
      ],
      "source": [
        "emb_weights"
      ]
    },
    {
      "cell_type": "code",
      "execution_count": null,
      "metadata": {
        "colab": {
          "base_uri": "https://localhost:8080/"
        },
        "id": "lN8KHaxWRCBg",
        "outputId": "5c20f1ea-f8d2-42e3-9b3c-0ce4c7cede8a"
      },
      "outputs": [
        {
          "output_type": "execute_result",
          "data": {
            "text/plain": [
              "(10000, 64)"
            ]
          },
          "metadata": {},
          "execution_count": 80
        }
      ],
      "source": [
        "emb_weights.shape"
      ]
    },
    {
      "cell_type": "code",
      "execution_count": null,
      "metadata": {
        "id": "1lM2ltgVpZqI"
      },
      "outputs": [],
      "source": [
        "out_v = io.open('vectors.tsv', 'w', encoding='utf-8')\n",
        "out_m = io.open('metadata.tsv', 'w', encoding='utf-8')\n",
        "\n",
        "for index, word in enumerate(model_vocab):\n",
        "  if index == 0:\n",
        "    continue  # skip 0, it's padding.\n",
        "  vec = emb_weights[index]\n",
        "  out_v.write('\\t'.join([str(x) for x in vec]) + \"\\n\")\n",
        "  out_m.write(word + \"\\n\")\n",
        "out_v.close()\n",
        "out_m.close()"
      ]
    },
    {
      "cell_type": "code",
      "execution_count": null,
      "metadata": {
        "id": "sC-esNBjrV9E"
      },
      "outputs": [],
      "source": [
        "import io"
      ]
    },
    {
      "cell_type": "code",
      "execution_count": null,
      "metadata": {
        "colab": {
          "base_uri": "https://localhost:8080/",
          "height": 17
        },
        "id": "nDR4QGZRrWNQ",
        "outputId": "810ccd93-121d-41d5-cc9c-c98ea04532e5"
      },
      "outputs": [
        {
          "output_type": "display_data",
          "data": {
            "text/plain": [
              "<IPython.core.display.Javascript object>"
            ],
            "application/javascript": [
              "\n",
              "    async function download(id, filename, size) {\n",
              "      if (!google.colab.kernel.accessAllowed) {\n",
              "        return;\n",
              "      }\n",
              "      const div = document.createElement('div');\n",
              "      const label = document.createElement('label');\n",
              "      label.textContent = `Downloading \"${filename}\": `;\n",
              "      div.appendChild(label);\n",
              "      const progress = document.createElement('progress');\n",
              "      progress.max = size;\n",
              "      div.appendChild(progress);\n",
              "      document.body.appendChild(div);\n",
              "\n",
              "      const buffers = [];\n",
              "      let downloaded = 0;\n",
              "\n",
              "      const channel = await google.colab.kernel.comms.open(id);\n",
              "      // Send a message to notify the kernel that we're ready.\n",
              "      channel.send({})\n",
              "\n",
              "      for await (const message of channel.messages) {\n",
              "        // Send a message to notify the kernel that we're ready.\n",
              "        channel.send({})\n",
              "        if (message.buffers) {\n",
              "          for (const buffer of message.buffers) {\n",
              "            buffers.push(buffer);\n",
              "            downloaded += buffer.byteLength;\n",
              "            progress.value = downloaded;\n",
              "          }\n",
              "        }\n",
              "      }\n",
              "      const blob = new Blob(buffers, {type: 'application/binary'});\n",
              "      const a = document.createElement('a');\n",
              "      a.href = window.URL.createObjectURL(blob);\n",
              "      a.download = filename;\n",
              "      div.appendChild(a);\n",
              "      a.click();\n",
              "      div.remove();\n",
              "    }\n",
              "  "
            ]
          },
          "metadata": {}
        },
        {
          "output_type": "display_data",
          "data": {
            "text/plain": [
              "<IPython.core.display.Javascript object>"
            ],
            "application/javascript": [
              "download(\"download_974e1853-c111-4884-b7b7-7e79a81b27dd\", \"vectors.tsv\", 5733672)"
            ]
          },
          "metadata": {}
        },
        {
          "output_type": "display_data",
          "data": {
            "text/plain": [
              "<IPython.core.display.Javascript object>"
            ],
            "application/javascript": [
              "\n",
              "    async function download(id, filename, size) {\n",
              "      if (!google.colab.kernel.accessAllowed) {\n",
              "        return;\n",
              "      }\n",
              "      const div = document.createElement('div');\n",
              "      const label = document.createElement('label');\n",
              "      label.textContent = `Downloading \"${filename}\": `;\n",
              "      div.appendChild(label);\n",
              "      const progress = document.createElement('progress');\n",
              "      progress.max = size;\n",
              "      div.appendChild(progress);\n",
              "      document.body.appendChild(div);\n",
              "\n",
              "      const buffers = [];\n",
              "      let downloaded = 0;\n",
              "\n",
              "      const channel = await google.colab.kernel.comms.open(id);\n",
              "      // Send a message to notify the kernel that we're ready.\n",
              "      channel.send({})\n",
              "\n",
              "      for await (const message of channel.messages) {\n",
              "        // Send a message to notify the kernel that we're ready.\n",
              "        channel.send({})\n",
              "        if (message.buffers) {\n",
              "          for (const buffer of message.buffers) {\n",
              "            buffers.push(buffer);\n",
              "            downloaded += buffer.byteLength;\n",
              "            progress.value = downloaded;\n",
              "          }\n",
              "        }\n",
              "      }\n",
              "      const blob = new Blob(buffers, {type: 'application/binary'});\n",
              "      const a = document.createElement('a');\n",
              "      a.href = window.URL.createObjectURL(blob);\n",
              "      a.download = filename;\n",
              "      div.appendChild(a);\n",
              "      a.click();\n",
              "      div.remove();\n",
              "    }\n",
              "  "
            ]
          },
          "metadata": {}
        },
        {
          "output_type": "display_data",
          "data": {
            "text/plain": [
              "<IPython.core.display.Javascript object>"
            ],
            "application/javascript": [
              "download(\"download_f86f34f1-682f-4cbf-987a-d7406ea3f729\", \"metadata.tsv\", 67935)"
            ]
          },
          "metadata": {}
        }
      ],
      "source": [
        "try:\n",
        "  from google.colab import files\n",
        "  files.download('vectors.tsv')\n",
        "  files.download('metadata.tsv')\n",
        "except Exception:\n",
        "  pass"
      ]
    },
    {
      "cell_type": "code",
      "execution_count": null,
      "metadata": {
        "colab": {
          "base_uri": "https://localhost:8080/"
        },
        "id": "pHf0Cz1mtE6D",
        "outputId": "b707992b-495f-41ed-c8f1-4f1b76c51066"
      },
      "outputs": [
        {
          "output_type": "stream",
          "name": "stdout",
          "text": [
            "(None, 15, 64)\n",
            "(None, 15, 64)\n",
            "(None, 64)\n",
            "(None, 64)\n"
          ]
        }
      ],
      "source": [
        "from tensorflow.keras import layers\n",
        "inputs=layers.Input(shape=(1,),dtype=tf.string)\n",
        "x=text_vector(inputs)\n",
        "x=embedding(x)\n",
        "print(x.shape)\n",
        "x=layers.LSTM(64,return_sequences=True)(x)\n",
        "print(x.shape)\n",
        "x=layers.LSTM(64)(x)\n",
        "print(x.shape)\n",
        "x=layers.Dense(64,activation=\"relu\")(x)\n",
        "print(x.shape)\n",
        "outputs=layers.Dense(1,activation=\"sigmoid\")(x)\n",
        "model_2=tf.keras.Model(inputs,outputs,name=\"model_2_LSTM\")"
      ]
    },
    {
      "cell_type": "code",
      "execution_count": null,
      "metadata": {
        "id": "l8woQCyMXRg0"
      },
      "outputs": [],
      "source": [
        "#RNN model"
      ]
    },
    {
      "cell_type": "code",
      "execution_count": null,
      "metadata": {
        "id": "-kC3GmA0ZUAk"
      },
      "outputs": [],
      "source": [
        "from tensorflow.keras import layers\n",
        "inputs=layers.Input(shape=(1,),dtype=tf.string)\n",
        "x=text_vector(inputs)\n",
        "x=embedding(x)\n",
        "#print(x.shape)\n",
        "#x=layers.LSTM(64,return_sequences=True)(x)\n",
        "#print(x.shape)\n",
        "x=layers.LSTM(64)(x)\n",
        "#print(x.shape)\n",
        "#x=layers.Dense(64,activation=\"relu\")(x)\n",
        "#print(x.shape)\n",
        "outputs=layers.Dense(1,activation=\"sigmoid\")(x)\n",
        "model_2=tf.keras.Model(inputs,outputs,name=\"model_2_LSTM\")"
      ]
    },
    {
      "cell_type": "code",
      "execution_count": null,
      "metadata": {
        "colab": {
          "base_uri": "https://localhost:8080/"
        },
        "id": "lubrgUsMZiCZ",
        "outputId": "146e5bc1-b9b9-418a-f5c6-110a59327c7d"
      },
      "outputs": [
        {
          "output_type": "stream",
          "name": "stdout",
          "text": [
            "Saving TensorBoard log files to: model_logs/model_2_LSTM/20220708-124726\n",
            "Epoch 1/5\n",
            "191/191 [==============================] - 9s 31ms/step - loss: 0.3404 - accuracy: 0.8626 - val_loss: 0.5181 - val_accuracy: 0.7873\n",
            "Epoch 2/5\n",
            "191/191 [==============================] - 6s 33ms/step - loss: 0.2884 - accuracy: 0.8775 - val_loss: 0.5637 - val_accuracy: 0.7932\n",
            "Epoch 3/5\n",
            "191/191 [==============================] - 7s 36ms/step - loss: 0.2687 - accuracy: 0.8892 - val_loss: 0.5460 - val_accuracy: 0.7919\n",
            "Epoch 4/5\n",
            "191/191 [==============================] - 6s 33ms/step - loss: 0.2468 - accuracy: 0.8993 - val_loss: 0.5708 - val_accuracy: 0.7866\n",
            "Epoch 5/5\n",
            "191/191 [==============================] - 6s 33ms/step - loss: 0.2253 - accuracy: 0.9100 - val_loss: 0.7185 - val_accuracy: 0.7741\n"
          ]
        },
        {
          "output_type": "execute_result",
          "data": {
            "text/plain": [
              "<keras.callbacks.History at 0x7f1a7e1b0a10>"
            ]
          },
          "metadata": {},
          "execution_count": 93
        }
      ],
      "source": [
        "model_2.compile(loss=tf.keras.losses.binary_crossentropy,\n",
        "                optimizer=tf.keras.optimizers.Adam(),\n",
        "                metrics=[\"accuracy\"])\n",
        "model_2.fit(train_sentences,\n",
        "            train_labels,\n",
        "            epochs=5,\n",
        "            validation_data=(val_sentences,val_labels),\n",
        "          callbacks=[create_tensorboard_callback(SAVE_DIR,\n",
        "                                                 \"model_2_LSTM\")])"
      ]
    },
    {
      "cell_type": "code",
      "execution_count": null,
      "metadata": {
        "id": "Nh0Q1rLyawp7"
      },
      "outputs": [],
      "source": [
        "model_2_pred=model_2.predict(val_sentences)"
      ]
    },
    {
      "cell_type": "code",
      "execution_count": null,
      "metadata": {
        "colab": {
          "base_uri": "https://localhost:8080/"
        },
        "id": "A19flJnza-qq",
        "outputId": "430bdacf-7162-4a5e-d1aa-35a203eb3ad5"
      },
      "outputs": [
        {
          "output_type": "execute_result",
          "data": {
            "text/plain": [
              "array([[0.22494707],\n",
              "       [0.9311378 ],\n",
              "       [0.9993335 ],\n",
              "       ...,\n",
              "       [0.8756405 ],\n",
              "       [0.99916613],\n",
              "       [0.99919784]], dtype=float32)"
            ]
          },
          "metadata": {},
          "execution_count": 95
        }
      ],
      "source": [
        "model_2_pred"
      ]
    },
    {
      "cell_type": "code",
      "execution_count": null,
      "metadata": {
        "id": "a9OT0wWmbBmq"
      },
      "outputs": [],
      "source": [
        "model_2_pred=tf.square(tf.round(model_2_pred))"
      ]
    },
    {
      "cell_type": "code",
      "execution_count": null,
      "metadata": {
        "colab": {
          "base_uri": "https://localhost:8080/"
        },
        "id": "XOOfDyUYbOhC",
        "outputId": "22c6c667-9e49-4c90-bd1b-7e39b5c763b3"
      },
      "outputs": [
        {
          "output_type": "execute_result",
          "data": {
            "text/plain": [
              "<tf.Tensor: shape=(1523, 1), dtype=float32, numpy=\n",
              "array([[0.],\n",
              "       [1.],\n",
              "       [1.],\n",
              "       ...,\n",
              "       [1.],\n",
              "       [1.],\n",
              "       [1.]], dtype=float32)>"
            ]
          },
          "metadata": {},
          "execution_count": 97
        }
      ],
      "source": [
        "model_2_pred"
      ]
    },
    {
      "cell_type": "code",
      "execution_count": null,
      "metadata": {
        "id": "2UJA2HZtbQhY"
      },
      "outputs": [],
      "source": [
        "results_LSTM=calculate_result(val_labels,\n",
        "                              model_2_pred)"
      ]
    },
    {
      "cell_type": "code",
      "execution_count": null,
      "metadata": {
        "colab": {
          "base_uri": "https://localhost:8080/"
        },
        "id": "nKSJwCQhbiq7",
        "outputId": "ae329d0a-ea5e-43ab-b197-1070a72625ba"
      },
      "outputs": [
        {
          "output_type": "execute_result",
          "data": {
            "text/plain": [
              "{'accuracy': 77.41300065659883,\n",
              " 'f1': 0.774091396378393,\n",
              " 'precision': 0.7740554750343551,\n",
              " 'recall': 0.7741300065659882}"
            ]
          },
          "metadata": {},
          "execution_count": 99
        }
      ],
      "source": [
        "results_LSTM"
      ]
    },
    {
      "cell_type": "code",
      "execution_count": null,
      "metadata": {
        "id": "UlXwm6dQbl-J"
      },
      "outputs": [],
      "source": [
        ""
      ]
    },
    {
      "cell_type": "code",
      "execution_count": null,
      "metadata": {
        "id": "EijVL2HAfeZp"
      },
      "outputs": [],
      "source": [
        "from tensorflow.keras import layers\n",
        "inputs=layers.Input(shape=(1,),dtype=tf.string)\n",
        "x=text_vector(inputs)\n",
        "x=embedding(x)\n",
        "#print(x.shape)\n",
        "#x=layers.LSTM(64,return_sequences=True)(x)\n",
        "#print(x.shape)\n",
        "x=layers.GRU(64,return_sequences=True)(x)\n",
        "x=layers.GlobalAveragePooling1D()(x)\n",
        "#print(x.shape)\n",
        "#x=layers.Dense(64,activation=\"relu\")(x)\n",
        "#print(x.shape)\n",
        "outputs=layers.Dense(1,activation=\"sigmoid\")(x)\n",
        "model_3=tf.keras.Model(inputs,outputs,name=\"model_3_GRU\")"
      ]
    },
    {
      "cell_type": "code",
      "execution_count": null,
      "metadata": {
        "colab": {
          "base_uri": "https://localhost:8080/"
        },
        "id": "PQEaY52kg-2R",
        "outputId": "7eecc605-48c1-4b07-94a4-d86148039ada"
      },
      "outputs": [
        {
          "output_type": "stream",
          "name": "stdout",
          "text": [
            "Model: \"model_3_GRU\"\n",
            "_________________________________________________________________\n",
            " Layer (type)                Output Shape              Param #   \n",
            "=================================================================\n",
            " input_5 (InputLayer)        [(None, 1)]               0         \n",
            "                                                                 \n",
            " text_vectorization_1 (TextV  (None, 15)               0         \n",
            " ectorization)                                                   \n",
            "                                                                 \n",
            " embedding (Embedding)       (None, 15, 64)            640000    \n",
            "                                                                 \n",
            " gru (GRU)                   (None, 15, 64)            24960     \n",
            "                                                                 \n",
            " global_average_pooling1d_1   (None, 64)               0         \n",
            " (GlobalAveragePooling1D)                                        \n",
            "                                                                 \n",
            " dense_5 (Dense)             (None, 1)                 65        \n",
            "                                                                 \n",
            "=================================================================\n",
            "Total params: 665,025\n",
            "Trainable params: 665,025\n",
            "Non-trainable params: 0\n",
            "_________________________________________________________________\n"
          ]
        }
      ],
      "source": [
        "model_3.summary()"
      ]
    },
    {
      "cell_type": "code",
      "execution_count": null,
      "metadata": {
        "colab": {
          "base_uri": "https://localhost:8080/"
        },
        "id": "GD2q3Zrejadl",
        "outputId": "927b3ed9-5cea-4a2b-e200-17bbb2bf5309"
      },
      "outputs": [
        {
          "output_type": "stream",
          "name": "stdout",
          "text": [
            "Model: \"model_3_GRU\"\n",
            "_________________________________________________________________\n",
            " Layer (type)                Output Shape              Param #   \n",
            "=================================================================\n",
            " input_5 (InputLayer)        [(None, 1)]               0         \n",
            "                                                                 \n",
            " text_vectorization_1 (TextV  (None, 15)               0         \n",
            " ectorization)                                                   \n",
            "                                                                 \n",
            " embedding (Embedding)       (None, 15, 64)            640000    \n",
            "                                                                 \n",
            " gru (GRU)                   (None, 15, 64)            24960     \n",
            "                                                                 \n",
            " global_average_pooling1d_1   (None, 64)               0         \n",
            " (GlobalAveragePooling1D)                                        \n",
            "                                                                 \n",
            " dense_5 (Dense)             (None, 1)                 65        \n",
            "                                                                 \n",
            "=================================================================\n",
            "Total params: 665,025\n",
            "Trainable params: 665,025\n",
            "Non-trainable params: 0\n",
            "_________________________________________________________________\n"
          ]
        }
      ],
      "source": [
        "model_3.summary()"
      ]
    },
    {
      "cell_type": "code",
      "execution_count": null,
      "metadata": {
        "colab": {
          "base_uri": "https://localhost:8080/"
        },
        "id": "eGo3pvWqj-wA",
        "outputId": "810a2adc-62d1-4f54-a611-5a2ccc349135"
      },
      "outputs": [
        {
          "output_type": "stream",
          "name": "stdout",
          "text": [
            "Saving TensorBoard log files to: model_logs/model_3_GRU/20220708-124802\n",
            "Epoch 1/5\n",
            "191/191 [==============================] - 14s 46ms/step - loss: 0.3009 - accuracy: 0.8921 - val_loss: 0.5913 - val_accuracy: 0.7919\n",
            "Epoch 2/5\n",
            "191/191 [==============================] - 6s 29ms/step - loss: 0.2341 - accuracy: 0.9048 - val_loss: 0.6118 - val_accuracy: 0.7754\n",
            "Epoch 3/5\n",
            "191/191 [==============================] - 5s 24ms/step - loss: 0.2153 - accuracy: 0.9135 - val_loss: 0.6983 - val_accuracy: 0.7702\n",
            "Epoch 4/5\n",
            "191/191 [==============================] - 5s 25ms/step - loss: 0.2002 - accuracy: 0.9227 - val_loss: 0.7259 - val_accuracy: 0.7649\n",
            "Epoch 5/5\n",
            "191/191 [==============================] - 5s 24ms/step - loss: 0.1854 - accuracy: 0.9282 - val_loss: 0.7884 - val_accuracy: 0.7768\n"
          ]
        }
      ],
      "source": [
        "model_3.compile(loss=tf.keras.losses.binary_crossentropy,\n",
        "                optimizer=tf.keras.optimizers.Adam(),\n",
        "                metrics=[\"accuracy\"])\n",
        "model_3_history=model_3.fit(train_sentences,\n",
        "                            train_labels,\n",
        "                            epochs=5,\n",
        "                            validation_data=(val_sentences,val_labels),\n",
        "                            callbacks=[create_tensorboard_callback(SAVE_DIR,\n",
        "                                                                   \"model_3_GRU\")])"
      ]
    },
    {
      "cell_type": "code",
      "execution_count": null,
      "metadata": {
        "id": "9rnNI_g2k7p7"
      },
      "outputs": [],
      "source": [
        "model_3_pred=model_3.predict(val_sentences)"
      ]
    },
    {
      "cell_type": "code",
      "execution_count": null,
      "metadata": {
        "colab": {
          "base_uri": "https://localhost:8080/"
        },
        "id": "LV6ZzGjvlzLe",
        "outputId": "4efe722c-db63-4a49-d715-6050b584db14"
      },
      "outputs": [
        {
          "output_type": "execute_result",
          "data": {
            "text/plain": [
              "array([[0.06296813],\n",
              "       [0.92593586],\n",
              "       [0.99987847],\n",
              "       [0.00539821],\n",
              "       [0.07882649]], dtype=float32)"
            ]
          },
          "metadata": {},
          "execution_count": 105
        }
      ],
      "source": [
        "\n",
        "\n",
        "model_3_pred[:5]"
      ]
    },
    {
      "cell_type": "code",
      "execution_count": null,
      "metadata": {
        "id": "JHuBdPYVl2w2"
      },
      "outputs": [],
      "source": [
        "model_3_pred=tf.squeeze(tf.round(model_3_pred))"
      ]
    },
    {
      "cell_type": "code",
      "execution_count": null,
      "metadata": {
        "colab": {
          "base_uri": "https://localhost:8080/"
        },
        "id": "Gr1qN_PDmBlm",
        "outputId": "037bc92f-bbbb-4724-97ba-8df183397767"
      },
      "outputs": [
        {
          "output_type": "execute_result",
          "data": {
            "text/plain": [
              "<tf.Tensor: shape=(5,), dtype=float32, numpy=array([0., 1., 1., 0., 0.], dtype=float32)>"
            ]
          },
          "metadata": {},
          "execution_count": 107
        }
      ],
      "source": [
        "model_3_pred[:5]"
      ]
    },
    {
      "cell_type": "code",
      "execution_count": null,
      "metadata": {
        "id": "JT6Mmb0QmEql"
      },
      "outputs": [],
      "source": [
        "GRU_results=calculate_result(val_labels,\n",
        "                             model_3_pred)"
      ]
    },
    {
      "cell_type": "code",
      "execution_count": null,
      "metadata": {
        "colab": {
          "base_uri": "https://localhost:8080/"
        },
        "id": "MFf-UXDumRFv",
        "outputId": "49b4bb2f-9627-4e01-feac-32e1588b6369"
      },
      "outputs": [
        {
          "output_type": "execute_result",
          "data": {
            "text/plain": [
              "{'accuracy': 77.67564018384768,\n",
              " 'f1': 0.775253937741465,\n",
              " 'precision': 0.7762229795825183,\n",
              " 'recall': 0.7767564018384767}"
            ]
          },
          "metadata": {},
          "execution_count": 109
        }
      ],
      "source": [
        "GRU_results"
      ]
    },
    {
      "cell_type": "code",
      "execution_count": null,
      "metadata": {
        "colab": {
          "base_uri": "https://localhost:8080/"
        },
        "id": "MXTwMnJEmU8O",
        "outputId": "9932d5be-c6dd-483b-fb20-94680a6ea7d8"
      },
      "outputs": [
        {
          "output_type": "execute_result",
          "data": {
            "text/plain": [
              "{'accuracy': 77.41300065659883,\n",
              " 'f1': 0.774091396378393,\n",
              " 'precision': 0.7740554750343551,\n",
              " 'recall': 0.7741300065659882}"
            ]
          },
          "metadata": {},
          "execution_count": 110
        }
      ],
      "source": [
        "\n",
        "results_LSTM"
      ]
    },
    {
      "cell_type": "code",
      "execution_count": null,
      "metadata": {
        "id": "a6vq6oUXmZnP"
      },
      "outputs": [],
      "source": [
        "from tensorflow.keras import layers\n",
        "inputs=layers.Input(shape=(1,),dtype=tf.string)\n",
        "x=text_vector(inputs)\n",
        "x=embedding(x)\n",
        "x=layers.LSTM(64,return_sequences=True)(x)\n",
        "x=layers.GRU(50,return_sequences=True)(x)\n",
        "x=layers.LSTM(64)(x)\n",
        "outputs=layers.Dense(1,activation=\"sigmoid\")(x)\n",
        "model_4=tf.keras.Model(inputs,outputs,name=\"model_3_LSTM_GRU\")\n"
      ]
    },
    {
      "cell_type": "code",
      "execution_count": null,
      "metadata": {
        "colab": {
          "base_uri": "https://localhost:8080/"
        },
        "id": "7IQ6sx4nm06m",
        "outputId": "8cbc166a-70f7-4a48-e889-654d9cbf6cef"
      },
      "outputs": [
        {
          "output_type": "stream",
          "name": "stdout",
          "text": [
            "Model: \"model_3_LSTM_GRU\"\n",
            "_________________________________________________________________\n",
            " Layer (type)                Output Shape              Param #   \n",
            "=================================================================\n",
            " input_6 (InputLayer)        [(None, 1)]               0         \n",
            "                                                                 \n",
            " text_vectorization_1 (TextV  (None, 15)               0         \n",
            " ectorization)                                                   \n",
            "                                                                 \n",
            " embedding (Embedding)       (None, 15, 64)            640000    \n",
            "                                                                 \n",
            " lstm_3 (LSTM)               (None, 15, 64)            33024     \n",
            "                                                                 \n",
            " gru_1 (GRU)                 (None, 15, 50)            17400     \n",
            "                                                                 \n",
            " lstm_4 (LSTM)               (None, 64)                29440     \n",
            "                                                                 \n",
            " dense_6 (Dense)             (None, 1)                 65        \n",
            "                                                                 \n",
            "=================================================================\n",
            "Total params: 719,929\n",
            "Trainable params: 719,929\n",
            "Non-trainable params: 0\n",
            "_________________________________________________________________\n"
          ]
        }
      ],
      "source": [
        "\n",
        "model_4.summary()"
      ]
    },
    {
      "cell_type": "code",
      "execution_count": null,
      "metadata": {
        "colab": {
          "base_uri": "https://localhost:8080/"
        },
        "id": "J3HYwOsjoi0I",
        "outputId": "39f6e073-b9a0-4c3c-d5b1-abe3164aaba2"
      },
      "outputs": [
        {
          "output_type": "stream",
          "name": "stdout",
          "text": [
            "Saving TensorBoard log files to: model_logs/model_3_LSTM_GRU/20220708-124850\n",
            "Epoch 1/5\n",
            "191/191 [==============================] - 16s 50ms/step - loss: 0.2277 - accuracy: 0.9138 - val_loss: 0.6998 - val_accuracy: 0.7820\n",
            "Epoch 2/5\n",
            "191/191 [==============================] - 8s 44ms/step - loss: 0.1629 - accuracy: 0.9383 - val_loss: 0.9015 - val_accuracy: 0.7800\n",
            "Epoch 3/5\n",
            "191/191 [==============================] - 8s 42ms/step - loss: 0.1405 - accuracy: 0.9430 - val_loss: 0.8939 - val_accuracy: 0.7636\n",
            "Epoch 4/5\n",
            "191/191 [==============================] - 8s 43ms/step - loss: 0.1184 - accuracy: 0.9484 - val_loss: 1.0228 - val_accuracy: 0.7669\n",
            "Epoch 5/5\n",
            "191/191 [==============================] - 8s 43ms/step - loss: 0.1061 - accuracy: 0.9540 - val_loss: 1.1395 - val_accuracy: 0.7643\n"
          ]
        },
        {
          "output_type": "execute_result",
          "data": {
            "text/plain": [
              "<keras.callbacks.History at 0x7f1a7a596110>"
            ]
          },
          "metadata": {},
          "execution_count": 113
        }
      ],
      "source": [
        "model_4.compile(loss=tf.keras.losses.binary_crossentropy,\n",
        "                optimizer=tf.keras.optimizers.Adam(),\n",
        "                metrics=[\"accuracy\"])\n",
        "model_4.fit(train_sentences,\n",
        "            train_labels,\n",
        "            epochs=5,\n",
        "            validation_data=(val_sentences,val_labels),\n",
        "            callbacks=[create_tensorboard_callback(SAVE_DIR,\n",
        "                                                   \"model_3_LSTM_GRU\")])"
      ]
    },
    {
      "cell_type": "code",
      "execution_count": null,
      "metadata": {
        "id": "8HeXFOHIpdEd"
      },
      "outputs": [],
      "source": [
        "model_4_pred=model_4.predict(val_sentences)"
      ]
    },
    {
      "cell_type": "code",
      "execution_count": null,
      "metadata": {
        "colab": {
          "base_uri": "https://localhost:8080/"
        },
        "id": "r73ziX87qA8M",
        "outputId": "f1c68015-e9fb-4044-ccf0-708b5744904a"
      },
      "outputs": [
        {
          "output_type": "execute_result",
          "data": {
            "text/plain": [
              "array([[1.8314034e-02],\n",
              "       [6.4716697e-01],\n",
              "       [9.9982530e-01],\n",
              "       [5.0491095e-04],\n",
              "       [2.4651885e-03],\n",
              "       [9.9969292e-01],\n",
              "       [9.9962157e-01],\n",
              "       [9.9984205e-01],\n",
              "       [9.9980414e-01],\n",
              "       [6.2376529e-02],\n",
              "       [1.2699068e-03],\n",
              "       [9.5964885e-01]], dtype=float32)"
            ]
          },
          "metadata": {},
          "execution_count": 115
        }
      ],
      "source": [
        "model_4_pred[:12]"
      ]
    },
    {
      "cell_type": "code",
      "execution_count": null,
      "metadata": {
        "id": "wjwE67fAqEvN"
      },
      "outputs": [],
      "source": [
        "model_4_pred=tf.squeeze(tf.round(model_4_pred))"
      ]
    },
    {
      "cell_type": "code",
      "execution_count": null,
      "metadata": {
        "colab": {
          "base_uri": "https://localhost:8080/"
        },
        "id": "THSvgsdQqO0-",
        "outputId": "bad6ad41-1784-4f67-b9da-6a372aa48543"
      },
      "outputs": [
        {
          "output_type": "execute_result",
          "data": {
            "text/plain": [
              "<tf.Tensor: shape=(12,), dtype=float32, numpy=array([0., 1., 1., 0., 0., 1., 1., 1., 1., 0., 0., 1.], dtype=float32)>"
            ]
          },
          "metadata": {},
          "execution_count": 117
        }
      ],
      "source": [
        "model_4_pred[:12]"
      ]
    },
    {
      "cell_type": "code",
      "execution_count": null,
      "metadata": {
        "id": "kXJotyGoqUpV"
      },
      "outputs": [],
      "source": [
        "LSTM_GRU_results=calculate_result(val_labels,\n",
        "                                  model_4_pred)"
      ]
    },
    {
      "cell_type": "code",
      "execution_count": null,
      "metadata": {
        "colab": {
          "base_uri": "https://localhost:8080/"
        },
        "id": "a7fj8p8cqlrU",
        "outputId": "99be5f66-b36d-471b-bd3d-85698f686ca1"
      },
      "outputs": [
        {
          "output_type": "execute_result",
          "data": {
            "text/plain": [
              "{'accuracy': 76.42810242941562,\n",
              " 'f1': 0.7632243756078516,\n",
              " 'precision': 0.7634076462401693,\n",
              " 'recall': 0.7642810242941562}"
            ]
          },
          "metadata": {},
          "execution_count": 119
        }
      ],
      "source": [
        "LSTM_GRU_results"
      ]
    },
    {
      "cell_type": "code",
      "execution_count": null,
      "metadata": {
        "id": "DJaApwfqqrSu"
      },
      "outputs": [],
      "source": [
        "from tensorflow.keras import layers\n",
        "inputs=layers.Input(shape=(1,),dtype=tf.string)\n",
        "x=text_vector(inputs)\n",
        "x=embedding(x)\n",
        "x=layers.Bidirectional(layers.LSTM(64,return_sequences=True))(x)\n",
        "x=layers.Bidirectional(layers.GRU(64,return_sequences=True))(x)\n",
        "x=layers.GlobalAveragePooling1D()(x)\n",
        "x=layers.Dense(64,activation=\"relu\")(x)\n",
        "outputs=layers.Dense(1,activation=\"sigmoid\")(x)\n",
        "model_5=tf.keras.Model(inputs,outputs,name=\"model_4_bidirectional\")"
      ]
    },
    {
      "cell_type": "code",
      "execution_count": null,
      "metadata": {
        "colab": {
          "base_uri": "https://localhost:8080/"
        },
        "id": "v8uAwbZ5vGGt",
        "outputId": "e565641a-dee4-4787-d440-54f44b8b2e66"
      },
      "outputs": [
        {
          "output_type": "stream",
          "name": "stdout",
          "text": [
            "Model: \"model_4_bidirectional\"\n",
            "_________________________________________________________________\n",
            " Layer (type)                Output Shape              Param #   \n",
            "=================================================================\n",
            " input_7 (InputLayer)        [(None, 1)]               0         \n",
            "                                                                 \n",
            " text_vectorization_1 (TextV  (None, 15)               0         \n",
            " ectorization)                                                   \n",
            "                                                                 \n",
            " embedding (Embedding)       (None, 15, 64)            640000    \n",
            "                                                                 \n",
            " bidirectional (Bidirectiona  (None, 15, 128)          66048     \n",
            " l)                                                              \n",
            "                                                                 \n",
            " bidirectional_1 (Bidirectio  (None, 15, 128)          74496     \n",
            " nal)                                                            \n",
            "                                                                 \n",
            " global_average_pooling1d_2   (None, 128)              0         \n",
            " (GlobalAveragePooling1D)                                        \n",
            "                                                                 \n",
            " dense_7 (Dense)             (None, 64)                8256      \n",
            "                                                                 \n",
            " dense_8 (Dense)             (None, 1)                 65        \n",
            "                                                                 \n",
            "=================================================================\n",
            "Total params: 788,865\n",
            "Trainable params: 788,865\n",
            "Non-trainable params: 0\n",
            "_________________________________________________________________\n"
          ]
        }
      ],
      "source": [
        "model_5.summary()"
      ]
    },
    {
      "cell_type": "code",
      "execution_count": null,
      "metadata": {
        "colab": {
          "base_uri": "https://localhost:8080/"
        },
        "id": "twTVDeaOwf0F",
        "outputId": "991b3037-b617-4004-de71-9ca11c3f9c47"
      },
      "outputs": [
        {
          "output_type": "stream",
          "name": "stdout",
          "text": [
            "Saving TensorBoard log files to: model_logs/model_4_bidirectional/20220708-124941\n",
            "Epoch 1/5\n",
            "191/191 [==============================] - 21s 61ms/step - loss: 0.1903 - accuracy: 0.9294 - val_loss: 1.1092 - val_accuracy: 0.7669\n",
            "Epoch 2/5\n",
            "191/191 [==============================] - 10s 52ms/step - loss: 0.1151 - accuracy: 0.9519 - val_loss: 1.5528 - val_accuracy: 0.7728\n",
            "Epoch 3/5\n",
            "191/191 [==============================] - 10s 54ms/step - loss: 0.0877 - accuracy: 0.9603 - val_loss: 1.5202 - val_accuracy: 0.7735\n",
            "Epoch 4/5\n",
            "191/191 [==============================] - 10s 54ms/step - loss: 0.0811 - accuracy: 0.9622 - val_loss: 1.7137 - val_accuracy: 0.7754\n",
            "Epoch 5/5\n",
            "191/191 [==============================] - 9s 50ms/step - loss: 0.0779 - accuracy: 0.9658 - val_loss: 1.9216 - val_accuracy: 0.7682\n"
          ]
        },
        {
          "output_type": "execute_result",
          "data": {
            "text/plain": [
              "<keras.callbacks.History at 0x7f1a7989fb90>"
            ]
          },
          "metadata": {},
          "execution_count": 122
        }
      ],
      "source": [
        "model_5.compile(loss=tf.keras.losses.binary_crossentropy,\n",
        "                optimizer=tf.keras.optimizers.Adam(),\n",
        "                metrics=[\"accuracy\"])\n",
        "model_5.fit(train_sentences,\n",
        "            train_labels,\n",
        "            epochs=5,\n",
        "            validation_data=(val_sentences,val_labels),\n",
        "            callbacks=[create_tensorboard_callback(SAVE_DIR,\n",
        "                                                   \"model_4_bidirectional\")])"
      ]
    },
    {
      "cell_type": "code",
      "execution_count": null,
      "metadata": {
        "id": "6OQ6fURMxf3E"
      },
      "outputs": [],
      "source": [
        "model_5_probs=model_5.predict(val_sentences)"
      ]
    },
    {
      "cell_type": "code",
      "execution_count": null,
      "metadata": {
        "colab": {
          "base_uri": "https://localhost:8080/"
        },
        "id": "qsXrOTkCydBc",
        "outputId": "b8c197fa-6fed-4a1b-bef9-163d1a16a390"
      },
      "outputs": [
        {
          "output_type": "execute_result",
          "data": {
            "text/plain": [
              "array([[0.00268447],\n",
              "       [0.87479615]], dtype=float32)"
            ]
          },
          "metadata": {},
          "execution_count": 124
        }
      ],
      "source": [
        "model_5_probs[:2]"
      ]
    },
    {
      "cell_type": "code",
      "execution_count": null,
      "metadata": {
        "id": "f-p19jGzyiap"
      },
      "outputs": [],
      "source": [
        "\n",
        "\n",
        "model_5_pred=tf.squeeze(tf.round(model_5_probs))"
      ]
    },
    {
      "cell_type": "code",
      "execution_count": null,
      "metadata": {
        "colab": {
          "base_uri": "https://localhost:8080/"
        },
        "id": "05K-jv-tysU0",
        "outputId": "3b2bb560-9639-4fbb-bb59-f9168f1b52f2"
      },
      "outputs": [
        {
          "output_type": "execute_result",
          "data": {
            "text/plain": [
              "array([[0.00268447],\n",
              "       [0.87479615]], dtype=float32)"
            ]
          },
          "metadata": {},
          "execution_count": 126
        }
      ],
      "source": [
        "model_5_probs[:2]"
      ]
    },
    {
      "cell_type": "code",
      "execution_count": null,
      "metadata": {
        "id": "GI5iYT5wyw8b"
      },
      "outputs": [],
      "source": [
        "\n",
        "bidirectional_results=calculate_result(val_labels,\n",
        "                                       model_5_pred)"
      ]
    },
    {
      "cell_type": "code",
      "execution_count": null,
      "metadata": {
        "colab": {
          "base_uri": "https://localhost:8080/"
        },
        "id": "0zJaQKwBzBRS",
        "outputId": "e32f44c6-7c48-4ba5-8df3-832639a2a250"
      },
      "outputs": [
        {
          "output_type": "execute_result",
          "data": {
            "text/plain": [
              "{'accuracy': 76.8220617202889,\n",
              " 'f1': 0.7666280810369963,\n",
              " 'precision': 0.7675606707807356,\n",
              " 'recall': 0.768220617202889}"
            ]
          },
          "metadata": {},
          "execution_count": 128
        }
      ],
      "source": [
        "bidirectional_results"
      ]
    },
    {
      "cell_type": "code",
      "execution_count": null,
      "metadata": {
        "id": "WxtEGSGezF_D"
      },
      "outputs": [],
      "source": [
        "#con1D"
      ]
    },
    {
      "cell_type": "code",
      "execution_count": null,
      "metadata": {
        "id": "3-bO6py_lp3F"
      },
      "outputs": [],
      "source": [
        "from tensorflow.keras import layers\n",
        "embedding_test=embedding(text_vector([\"allu arjun is the latest pan india super hero\"]))\n",
        "con1D=layers.Conv1D(filters=64,\n",
        "                    kernel_size=5,\n",
        "                    strides=1,\n",
        "                    padding=\"valid\",\n",
        "                    activation=\"relu\"\n",
        "                    )\n",
        "con1D_output=con1D(embedding_test)\n",
        "maxpool=layers.GlobalMaxPool1D()\n",
        "maxpoll_output=maxpool(con1D_output)\n"
      ]
    },
    {
      "cell_type": "code",
      "execution_count": null,
      "metadata": {
        "colab": {
          "base_uri": "https://localhost:8080/"
        },
        "id": "s0bnt_K9nrZz",
        "outputId": "e95fe47f-843a-40a1-bae2-641219683d87"
      },
      "outputs": [
        {
          "output_type": "execute_result",
          "data": {
            "text/plain": [
              "TensorShape([1, 15, 64])"
            ]
          },
          "metadata": {},
          "execution_count": 131
        }
      ],
      "source": [
        "embedding_test.shape"
      ]
    },
    {
      "cell_type": "code",
      "execution_count": null,
      "metadata": {
        "colab": {
          "base_uri": "https://localhost:8080/"
        },
        "id": "Df3zZ-ygn0rM",
        "outputId": "2ecb74bd-c0a9-4053-daff-0bbd9d889fb9"
      },
      "outputs": [
        {
          "output_type": "execute_result",
          "data": {
            "text/plain": [
              "TensorShape([1, 11, 64])"
            ]
          },
          "metadata": {},
          "execution_count": 132
        }
      ],
      "source": [
        "con1D_output.shape"
      ]
    },
    {
      "cell_type": "code",
      "execution_count": null,
      "metadata": {
        "colab": {
          "base_uri": "https://localhost:8080/"
        },
        "id": "iUKAOlGCn5cF",
        "outputId": "ab10d92d-75a6-415b-c515-b27d164e0d23"
      },
      "outputs": [
        {
          "output_type": "execute_result",
          "data": {
            "text/plain": [
              "TensorShape([1, 64])"
            ]
          },
          "metadata": {},
          "execution_count": 133
        }
      ],
      "source": [
        "maxpoll_output.shape"
      ]
    },
    {
      "cell_type": "code",
      "execution_count": null,
      "metadata": {
        "id": "pScqduWTn9iN"
      },
      "outputs": [],
      "source": [
        "#CNN model for nlp"
      ]
    },
    {
      "cell_type": "code",
      "execution_count": null,
      "metadata": {
        "id": "PXIsXheCqsdQ"
      },
      "outputs": [],
      "source": [
        "from tensorflow.keras import layers\n",
        "inputs=layers.Input(shape=(1,),dtype=tf.string)\n",
        "x=text_vector(inputs)\n",
        "x=embedding(x)\n",
        "x=layers.Conv1D(filters=64,strides=1,padding=\"valid\",kernel_size=5,activation=\"relu\")(x)\n",
        "x=layers.GlobalAveragePooling1D()(x)\n",
        "outputs=layers.Dense(1,activation=\"sigmoid\")(x)\n",
        "model_6=tf.keras.Model(inputs,outputs,name=\"model_cnn\")"
      ]
    },
    {
      "cell_type": "code",
      "execution_count": null,
      "metadata": {
        "colab": {
          "base_uri": "https://localhost:8080/"
        },
        "id": "UL1SwLw-sAol",
        "outputId": "3e4572d9-f7a3-48bf-e737-1e0226957d10"
      },
      "outputs": [
        {
          "output_type": "stream",
          "name": "stdout",
          "text": [
            "Saving TensorBoard log files to: model_logs/model_cnn/20220708-125114\n",
            "Epoch 1/5\n",
            "191/191 [==============================] - 4s 15ms/step - loss: 0.2661 - accuracy: 0.8998 - val_loss: 0.7587 - val_accuracy: 0.7649\n",
            "Epoch 2/5\n",
            "191/191 [==============================] - 3s 15ms/step - loss: 0.1925 - accuracy: 0.9215 - val_loss: 0.8568 - val_accuracy: 0.7656\n",
            "Epoch 3/5\n",
            "191/191 [==============================] - 3s 15ms/step - loss: 0.1650 - accuracy: 0.9323 - val_loss: 0.9552 - val_accuracy: 0.7597\n",
            "Epoch 4/5\n",
            "191/191 [==============================] - 3s 14ms/step - loss: 0.1445 - accuracy: 0.9429 - val_loss: 1.0972 - val_accuracy: 0.7538\n",
            "Epoch 5/5\n",
            "191/191 [==============================] - 2s 12ms/step - loss: 0.1264 - accuracy: 0.9506 - val_loss: 1.2444 - val_accuracy: 0.7505\n"
          ]
        }
      ],
      "source": [
        "model_6.compile(loss=tf.keras.losses.binary_crossentropy,\n",
        "                optimizer=tf.keras.optimizers.Adam(),\n",
        "                metrics=[\"accuracy\"])\n",
        "model_6_history=model_6.fit(train_sentences,\n",
        "                            train_labels,\n",
        "                            epochs=5,\n",
        "                            validation_data=(val_sentences,val_labels),\n",
        "                            callbacks=[create_tensorboard_callback(SAVE_DIR,\n",
        "                                                                   \"model_cnn\")])"
      ]
    },
    {
      "cell_type": "code",
      "execution_count": null,
      "metadata": {
        "id": "ywuaoBOWtiMm"
      },
      "outputs": [],
      "source": [
        "\n",
        "\n",
        "model_6_probs=model_6.predict(val_sentences)"
      ]
    },
    {
      "cell_type": "code",
      "execution_count": null,
      "metadata": {
        "colab": {
          "base_uri": "https://localhost:8080/"
        },
        "id": "jt9oRLoutvkl",
        "outputId": "c0c4c01c-8d74-4ec0-abd3-838eb8c4eac7"
      },
      "outputs": [
        {
          "output_type": "execute_result",
          "data": {
            "text/plain": [
              "array([[0.00357801],\n",
              "       [0.9717674 ]], dtype=float32)"
            ]
          },
          "metadata": {},
          "execution_count": 138
        }
      ],
      "source": [
        "model_6_probs[:2]"
      ]
    },
    {
      "cell_type": "code",
      "execution_count": null,
      "metadata": {
        "id": "Sb6GIyYutz5d"
      },
      "outputs": [],
      "source": [
        "model_6_pred=tf.squeeze(tf.round(model_6_probs))"
      ]
    },
    {
      "cell_type": "code",
      "execution_count": null,
      "metadata": {
        "colab": {
          "base_uri": "https://localhost:8080/"
        },
        "id": "Er7YpI7XuFI8",
        "outputId": "e2256657-5017-497a-9a1e-37c9e3465ed9"
      },
      "outputs": [
        {
          "output_type": "execute_result",
          "data": {
            "text/plain": [
              "<tf.Tensor: shape=(2,), dtype=float32, numpy=array([0., 1.], dtype=float32)>"
            ]
          },
          "metadata": {},
          "execution_count": 140
        }
      ],
      "source": [
        "model_6_pred[:2]"
      ]
    },
    {
      "cell_type": "code",
      "execution_count": null,
      "metadata": {
        "id": "0XDAOQcfuJCk"
      },
      "outputs": [],
      "source": [
        "cnn_results=calculate_result(val_labels,model_6_pred)"
      ]
    },
    {
      "cell_type": "code",
      "execution_count": null,
      "metadata": {
        "colab": {
          "base_uri": "https://localhost:8080/"
        },
        "id": "Ab1KDOKluSqd",
        "outputId": "4a0e101d-dd2d-48ff-8be2-d75fbb237b7a"
      },
      "outputs": [
        {
          "output_type": "execute_result",
          "data": {
            "text/plain": [
              "{'accuracy': 75.04924491135915,\n",
              " 'f1': 0.750075910060425,\n",
              " 'precision': 0.7498709733484218,\n",
              " 'recall': 0.7504924491135916}"
            ]
          },
          "metadata": {},
          "execution_count": 142
        }
      ],
      "source": [
        "\n",
        "cnn_results"
      ]
    },
    {
      "cell_type": "code",
      "execution_count": null,
      "metadata": {
        "id": "7UEf_Y14uYnM"
      },
      "outputs": [],
      "source": [
        "\n",
        "import tensorflow_hub as hub"
      ]
    },
    {
      "cell_type": "code",
      "execution_count": null,
      "metadata": {
        "id": "OGxILtY53Ex1"
      },
      "outputs": [],
      "source": [
        "\n",
        "\n",
        "\n",
        "embedd=hub.load(\"https://tfhub.dev/google/universal-sentence-encoder/4\")\n",
        "embeddings=embedd([\"allu arjun is the super hero\"])"
      ]
    },
    {
      "cell_type": "code",
      "execution_count": null,
      "metadata": {
        "colab": {
          "base_uri": "https://localhost:8080/"
        },
        "id": "6ixdcd_q3jco",
        "outputId": "ba6adc0e-0d26-4de3-abfa-67fd042279f2"
      },
      "outputs": [
        {
          "output_type": "stream",
          "name": "stdout",
          "text": [
            "tf.Tensor(\n",
            "[[ 0.0116445  -0.04049962  0.067523    0.00375088 -0.03382516  0.07358173\n",
            "  -0.02759519 -0.03640141  0.03628657 -0.00753594 -0.00218488  0.02485284\n",
            "   0.01497941  0.04029358  0.06941427 -0.07361124  0.03018201 -0.00931643\n",
            "   0.01207131 -0.00759722 -0.01247855 -0.01676814 -0.03335533  0.00868265\n",
            "   0.07920516 -0.03389855 -0.05316136  0.07002003 -0.03434523  0.00477662\n",
            "   0.05296049  0.02932215  0.06263562 -0.02623117 -0.03928294 -0.05498674\n",
            "  -0.01232533 -0.07720711 -0.06694791 -0.01226482  0.0716627  -0.01213929\n",
            "   0.05953364  0.03586781  0.06912662 -0.03512398  0.02565353  0.04837106\n",
            "   0.02685725  0.08704705  0.08743719 -0.03165211  0.02719277  0.02445683\n",
            "  -0.06141546  0.02526138  0.04564299  0.05621633 -0.0068217   0.06092996\n",
            "   0.09052798 -0.02141099 -0.09074297 -0.00337328 -0.07187688 -0.04454943\n",
            "  -0.00908946  0.0536397   0.07722653 -0.01099703 -0.04847243 -0.02107606\n",
            "   0.02958455  0.03996884  0.00915997  0.01149968  0.03368729 -0.0638373\n",
            "  -0.0575024   0.03330553 -0.04404549  0.06131436  0.01477122 -0.02991952\n",
            "   0.00045986 -0.02602444  0.01951977  0.08894043 -0.0264766  -0.00036597\n",
            "  -0.00860691  0.04248336 -0.04642531  0.07805128  0.07310201 -0.03005282\n",
            "   0.0231162  -0.00919218  0.07390479 -0.01904641  0.07492475  0.00052357\n",
            "   0.00914349  0.04529813  0.06747336 -0.04169489 -0.00483474 -0.01979604\n",
            "   0.0127168   0.00354812  0.03543533  0.02148909 -0.051792   -0.02569047\n",
            "  -0.00473879  0.04740678 -0.02516683  0.00718384 -0.03138958  0.02547876\n",
            "  -0.02122527 -0.0437867   0.07440077  0.03950078 -0.03165878 -0.04591072\n",
            "   0.04856608 -0.08548116  0.03741091  0.01054015 -0.06399678 -0.02502476\n",
            "   0.00452674  0.05010197 -0.03631837 -0.008611    0.02881026  0.01489977\n",
            "  -0.01247179  0.0712276   0.08982513 -0.04529027  0.08233952 -0.00656165\n",
            "  -0.03153906 -0.05236989  0.05383993 -0.00629699  0.03179297  0.08881421\n",
            "   0.01752072 -0.01710134 -0.00934079 -0.07013492 -0.00488374  0.00741039\n",
            "  -0.00174047 -0.05798813 -0.00483832  0.08660236  0.05353912  0.03472016\n",
            "   0.0215591  -0.00521949 -0.04844524 -0.04052465 -0.06496281 -0.04882588\n",
            "   0.00410114  0.0346123   0.02501643  0.03330745  0.06900083 -0.07695215\n",
            "  -0.07743073  0.0532518   0.01296811 -0.05862933  0.0234816   0.01267678\n",
            "   0.04225066  0.03801128 -0.00640646 -0.07588143  0.03398671  0.01499423\n",
            "  -0.02813899 -0.01852741  0.04846074 -0.00809695 -0.025669    0.07346117\n",
            "   0.04804089 -0.04935867 -0.03728364  0.02398888  0.00954403 -0.00204796\n",
            "  -0.0193313   0.04008456 -0.08040585 -0.08320519 -0.02869905 -0.08083703\n",
            "   0.04226175 -0.01067747  0.00550551 -0.00147376 -0.03763863  0.07568812\n",
            "  -0.01089455  0.03234918  0.05551981 -0.03978397  0.05557558 -0.07134505\n",
            "   0.0447001   0.00315811 -0.05968825 -0.0564472   0.06852838  0.01490434\n",
            "  -0.04515445  0.05611128 -0.03806733 -0.01736479  0.05531779  0.03216464\n",
            "   0.02716635  0.02526312 -0.04598238 -0.01682364 -0.00301173 -0.07047037\n",
            "   0.01907751  0.08752593  0.05564276 -0.01785965 -0.02879318  0.02192608\n",
            "  -0.03421821 -0.013376    0.05751107  0.01903955 -0.02345384 -0.04020139\n",
            "  -0.02611701  0.04009786 -0.02233319 -0.01012234 -0.00466322 -0.06555714\n",
            "   0.08248895  0.04809652  0.02858007 -0.02075668 -0.02834153 -0.04852412\n",
            "  -0.00347604 -0.07460917 -0.03268484  0.01427834  0.01180108  0.04979008\n",
            "  -0.05979873 -0.05736214  0.01619587 -0.01909138  0.00380697  0.04881142\n",
            "  -0.07434585  0.03519109 -0.01475419 -0.05952455 -0.06849753  0.02513348\n",
            "   0.04238867 -0.0494015   0.08487075  0.05798139  0.04437346 -0.02280497\n",
            "  -0.00841714  0.01413917  0.03592505 -0.0907562  -0.01705782  0.06256149\n",
            "   0.07381148  0.03916874 -0.0609245   0.01357579  0.08394875 -0.05129306\n",
            "   0.02621784 -0.01702094  0.02086465  0.04843998 -0.076975   -0.08382749\n",
            "   0.04333014 -0.04545346 -0.01333242  0.0420359   0.05961519  0.03816156\n",
            "   0.07188687  0.03030054  0.03442706 -0.01346548  0.07734489  0.01570746\n",
            "  -0.03511874  0.06834435  0.0367801   0.03252377  0.01161627 -0.02070165\n",
            "  -0.04266583 -0.07847265 -0.0375923  -0.02874913  0.00928515 -0.01551746\n",
            "   0.06494118  0.0350646  -0.00541884  0.04848191  0.03841092  0.00928727\n",
            "  -0.05107754 -0.03194891 -0.0294647  -0.05511152 -0.07501777  0.03015986\n",
            "  -0.00666681  0.03261801  0.06708726  0.03114619  0.07023122  0.03368651\n",
            "   0.01897717  0.003801    0.01961837  0.00334442 -0.01773181 -0.01204357\n",
            "  -0.03426887  0.00649932  0.06864356 -0.03890215 -0.02768615  0.02844676\n",
            "   0.04746991 -0.03279372 -0.08481844  0.00442732  0.01368007  0.04808714\n",
            "  -0.04292953 -0.02678053  0.08100184 -0.01554269 -0.03284725  0.02404804\n",
            "   0.01282124 -0.03721548  0.00618004 -0.02229022  0.0669485  -0.06491268\n",
            "   0.00211632 -0.01936912 -0.02833597 -0.04204881  0.0361078   0.06782969\n",
            "   0.01360488 -0.08052869 -0.0461905   0.01487284  0.01887821  0.05315981\n",
            "  -0.00911453  0.02604795 -0.0319778   0.02486697 -0.01782754 -0.00031284\n",
            "   0.027846   -0.00403292  0.02463884  0.02320998 -0.06318496 -0.00974492\n",
            "  -0.07629208  0.03870052 -0.06286266  0.00826044  0.02976267  0.01227428\n",
            "   0.0103206   0.07281451  0.08485643  0.00637562  0.09057964 -0.02982395\n",
            "   0.03625603 -0.07584372  0.0243839   0.04879668 -0.03549799  0.00725765\n",
            "   0.06513512  0.0672925   0.06793809  0.00106729  0.05922831  0.01963251\n",
            "  -0.04032927  0.04697756  0.04003123 -0.09099233  0.01406404  0.04497075\n",
            "   0.03068754  0.00620671 -0.08397984  0.03419371 -0.0218826  -0.05132433\n",
            "   0.0034418   0.00239104  0.00842675  0.01281574  0.00701388  0.05897156\n",
            "  -0.03368314 -0.03191682 -0.00878064 -0.081327   -0.03133497  0.00543121\n",
            "   0.02124639  0.00262196 -0.05649799 -0.03417634  0.02774887 -0.0404286\n",
            "  -0.01280428  0.04434252  0.00018456  0.05256678 -0.05282054 -0.0702238\n",
            "   0.0462155   0.03525552 -0.0434488   0.02720583 -0.02157934  0.05079761\n",
            "   0.06521689  0.07004362 -0.00095878 -0.04590919  0.02480448  0.04903913\n",
            "   0.02660314 -0.02854883 -0.04905484  0.05062508 -0.07350908  0.04151715\n",
            "   0.01702571 -0.0225698   0.03174763 -0.00439932  0.0034817   0.03773392\n",
            "   0.06076464 -0.02482582 -0.04119251  0.01828177 -0.04227438  0.03855812\n",
            "  -0.03331511  0.08235765 -0.01389617 -0.00780728 -0.06225136  0.06853527\n",
            "  -0.03143264 -0.00852966  0.06634375  0.04006657 -0.01910664  0.05300729\n",
            "  -0.02077748  0.0468944   0.01022203 -0.01916943 -0.01923693  0.06246713\n",
            "   0.02061359 -0.02552271  0.052075   -0.06926738 -0.01165108 -0.01388364\n",
            "   0.07773773 -0.08186239]], shape=(1, 512), dtype=float32)\n"
          ]
        }
      ],
      "source": [
        "print(embeddings)"
      ]
    },
    {
      "cell_type": "code",
      "execution_count": null,
      "metadata": {
        "colab": {
          "base_uri": "https://localhost:8080/"
        },
        "id": "If5Tv_I4310G",
        "outputId": "51e3e8eb-803a-4278-ee7c-ac55ddf3e949"
      },
      "outputs": [
        {
          "output_type": "execute_result",
          "data": {
            "text/plain": [
              "TensorShape([1, 512])"
            ]
          },
          "metadata": {},
          "execution_count": 146
        }
      ],
      "source": [
        "embeddings.shape"
      ]
    },
    {
      "cell_type": "code",
      "execution_count": null,
      "metadata": {
        "id": "QrvTtKur35gn"
      },
      "outputs": [],
      "source": [
        "from types import DynamicClassAttribute\n",
        "universal_sentence_encoder=hub.KerasLayer(\"https://tfhub.dev/google/universal-sentence-encoder/4\",\n",
        "                                          input_shape=[],\n",
        "                                          dtype=tf.string,\n",
        "                                          trainable=False,\n",
        "                                          name=\"USE\")"
      ]
    },
    {
      "cell_type": "code",
      "execution_count": null,
      "metadata": {
        "id": "fBh3dzFm7K0X"
      },
      "outputs": [],
      "source": [
        "model_7=tf.keras.Sequential([\n",
        "        universal_sentence_encoder,\n",
        "        layers.Dense(64,activation=\"relu\"),\n",
        "        layers.Dense(1,activation=\"sigmoid\")                     \n",
        "],name=\"model_6_use\")"
      ]
    },
    {
      "cell_type": "code",
      "execution_count": null,
      "metadata": {
        "colab": {
          "base_uri": "https://localhost:8080/"
        },
        "id": "UCbtMMdm75ow",
        "outputId": "e982e802-660f-4463-c7cc-acec8324eb3c"
      },
      "outputs": [
        {
          "output_type": "stream",
          "name": "stdout",
          "text": [
            "Saving TensorBoard log files to: model_logs/model_6_use/20220708-125159\n",
            "Epoch 1/5\n",
            "191/191 [==============================] - 6s 19ms/step - loss: 0.5145 - accuracy: 0.7859 - val_loss: 0.4495 - val_accuracy: 0.7919\n",
            "Epoch 2/5\n",
            "191/191 [==============================] - 3s 13ms/step - loss: 0.4143 - accuracy: 0.8181 - val_loss: 0.4428 - val_accuracy: 0.7991\n",
            "Epoch 3/5\n",
            "191/191 [==============================] - 3s 14ms/step - loss: 0.3984 - accuracy: 0.8199 - val_loss: 0.4456 - val_accuracy: 0.8050\n",
            "Epoch 4/5\n",
            "191/191 [==============================] - 3s 15ms/step - loss: 0.3899 - accuracy: 0.8284 - val_loss: 0.4366 - val_accuracy: 0.8004\n",
            "Epoch 5/5\n",
            "191/191 [==============================] - 3s 14ms/step - loss: 0.3816 - accuracy: 0.8307 - val_loss: 0.4377 - val_accuracy: 0.8063\n"
          ]
        },
        {
          "output_type": "execute_result",
          "data": {
            "text/plain": [
              "<keras.callbacks.History at 0x7f1a71b24110>"
            ]
          },
          "metadata": {},
          "execution_count": 149
        }
      ],
      "source": [
        "\n",
        "model_7.compile(loss=tf.keras.losses.binary_crossentropy,\n",
        "                optimizer=tf.keras.optimizers.Adam(),\n",
        "                metrics=[\"accuracy\"])\n",
        "model_7.fit(train_sentences,\n",
        "            train_labels,\n",
        "            epochs=5,\n",
        "            validation_data=(val_sentences,val_labels),\n",
        "            callbacks=[create_tensorboard_callback(SAVE_DIR,\n",
        "                                                   \"model_6_use\")])"
      ]
    },
    {
      "cell_type": "code",
      "execution_count": null,
      "metadata": {
        "id": "IE_Cg9BE8jZV"
      },
      "outputs": [],
      "source": [
        "model_7_probs=model_7.predict(val_sentences)"
      ]
    },
    {
      "cell_type": "code",
      "execution_count": null,
      "metadata": {
        "colab": {
          "base_uri": "https://localhost:8080/"
        },
        "id": "mS-IDuXC8z5W",
        "outputId": "eeedb7db-41b4-44c7-bc64-5ae77ed3c0fd"
      },
      "outputs": [
        {
          "output_type": "execute_result",
          "data": {
            "text/plain": [
              "array([[0.28606042],\n",
              "       [0.8491192 ]], dtype=float32)"
            ]
          },
          "metadata": {},
          "execution_count": 151
        }
      ],
      "source": [
        "model_7_probs[:2]"
      ]
    },
    {
      "cell_type": "code",
      "execution_count": null,
      "metadata": {
        "id": "vmebAN6Q83og"
      },
      "outputs": [],
      "source": [
        "model_7_pred=tf.squeeze(tf.round(model_7_probs))"
      ]
    },
    {
      "cell_type": "code",
      "execution_count": null,
      "metadata": {
        "colab": {
          "base_uri": "https://localhost:8080/"
        },
        "id": "fm1FnyiA9AKX",
        "outputId": "8e1414b0-a0a8-41a9-a123-55c3f3d04a82"
      },
      "outputs": [
        {
          "output_type": "execute_result",
          "data": {
            "text/plain": [
              "<tf.Tensor: shape=(1523,), dtype=float32, numpy=array([0., 1., 1., ..., 0., 1., 1.], dtype=float32)>"
            ]
          },
          "metadata": {},
          "execution_count": 153
        }
      ],
      "source": [
        "model_7_pred"
      ]
    },
    {
      "cell_type": "code",
      "execution_count": null,
      "metadata": {
        "id": "teNqBZYO9CsY"
      },
      "outputs": [],
      "source": [
        "\n",
        "feature_extractor_results=calculate_result(val_labels,\n",
        "                                           model_7_pred)"
      ]
    },
    {
      "cell_type": "code",
      "execution_count": null,
      "metadata": {
        "colab": {
          "base_uri": "https://localhost:8080/"
        },
        "id": "QtDLxGBa9P1Q",
        "outputId": "b94bf49e-e805-4acc-bf62-0bcf709cacd0"
      },
      "outputs": [
        {
          "output_type": "execute_result",
          "data": {
            "text/plain": [
              "{'accuracy': 80.63033486539724,\n",
              " 'f1': 0.8058799704168748,\n",
              " 'precision': 0.8058297378000069,\n",
              " 'recall': 0.8063033486539725}"
            ]
          },
          "metadata": {},
          "execution_count": 155
        }
      ],
      "source": [
        "feature_extractor_results"
      ]
    },
    {
      "cell_type": "code",
      "execution_count": null,
      "metadata": {
        "colab": {
          "base_uri": "https://localhost:8080/"
        },
        "id": "fqPm2o-69U_4",
        "outputId": "442c3b1c-3b96-46d9-81a7-ff125d929f95"
      },
      "outputs": [
        {
          "output_type": "execute_result",
          "data": {
            "text/plain": [
              "6090"
            ]
          },
          "metadata": {},
          "execution_count": 156
        }
      ],
      "source": [
        "\n",
        "len(train_sentences)"
      ]
    },
    {
      "cell_type": "code",
      "source": [
        "#model 8 with pretrained universal encoder with 10% of the data"
      ],
      "metadata": {
        "id": "RG2zOf7chK7e"
      },
      "execution_count": null,
      "outputs": []
    },
    {
      "cell_type": "code",
      "source": [
        "train_shuffle_df.head()"
      ],
      "metadata": {
        "colab": {
          "base_uri": "https://localhost:8080/",
          "height": 206
        },
        "id": "LVYU-5kYhud2",
        "outputId": "9668023f-d5af-44e9-ccd4-6a3a0b53dbf7"
      },
      "execution_count": null,
      "outputs": [
        {
          "output_type": "execute_result",
          "data": {
            "text/plain": [
              "        id      keyword               location  \\\n",
              "2644  3796  destruction                    NaN   \n",
              "2227  3185       deluge                    NaN   \n",
              "5448  7769       police                     UK   \n",
              "132    191   aftershock                    NaN   \n",
              "6845  9810       trauma  Montgomery County, MD   \n",
              "\n",
              "                                                   text  target  \n",
              "2644  So you have a new weapon that can cause un-ima...       1  \n",
              "2227  The f$&amp;@ing things I do for #GISHWHES Just...       0  \n",
              "5448  DT @georgegalloway: RT @Galloway4Mayor: ÛÏThe...       1  \n",
              "132   Aftershock back to school kick off was great. ...       0  \n",
              "6845  in response to trauma Children of Addicts deve...       0  "
            ],
            "text/html": [
              "\n",
              "  <div id=\"df-149a17f7-07c1-4cce-bf2b-ad91111c05ab\">\n",
              "    <div class=\"colab-df-container\">\n",
              "      <div>\n",
              "<style scoped>\n",
              "    .dataframe tbody tr th:only-of-type {\n",
              "        vertical-align: middle;\n",
              "    }\n",
              "\n",
              "    .dataframe tbody tr th {\n",
              "        vertical-align: top;\n",
              "    }\n",
              "\n",
              "    .dataframe thead th {\n",
              "        text-align: right;\n",
              "    }\n",
              "</style>\n",
              "<table border=\"1\" class=\"dataframe\">\n",
              "  <thead>\n",
              "    <tr style=\"text-align: right;\">\n",
              "      <th></th>\n",
              "      <th>id</th>\n",
              "      <th>keyword</th>\n",
              "      <th>location</th>\n",
              "      <th>text</th>\n",
              "      <th>target</th>\n",
              "    </tr>\n",
              "  </thead>\n",
              "  <tbody>\n",
              "    <tr>\n",
              "      <th>2644</th>\n",
              "      <td>3796</td>\n",
              "      <td>destruction</td>\n",
              "      <td>NaN</td>\n",
              "      <td>So you have a new weapon that can cause un-ima...</td>\n",
              "      <td>1</td>\n",
              "    </tr>\n",
              "    <tr>\n",
              "      <th>2227</th>\n",
              "      <td>3185</td>\n",
              "      <td>deluge</td>\n",
              "      <td>NaN</td>\n",
              "      <td>The f$&amp;amp;@ing things I do for #GISHWHES Just...</td>\n",
              "      <td>0</td>\n",
              "    </tr>\n",
              "    <tr>\n",
              "      <th>5448</th>\n",
              "      <td>7769</td>\n",
              "      <td>police</td>\n",
              "      <td>UK</td>\n",
              "      <td>DT @georgegalloway: RT @Galloway4Mayor: ÛÏThe...</td>\n",
              "      <td>1</td>\n",
              "    </tr>\n",
              "    <tr>\n",
              "      <th>132</th>\n",
              "      <td>191</td>\n",
              "      <td>aftershock</td>\n",
              "      <td>NaN</td>\n",
              "      <td>Aftershock back to school kick off was great. ...</td>\n",
              "      <td>0</td>\n",
              "    </tr>\n",
              "    <tr>\n",
              "      <th>6845</th>\n",
              "      <td>9810</td>\n",
              "      <td>trauma</td>\n",
              "      <td>Montgomery County, MD</td>\n",
              "      <td>in response to trauma Children of Addicts deve...</td>\n",
              "      <td>0</td>\n",
              "    </tr>\n",
              "  </tbody>\n",
              "</table>\n",
              "</div>\n",
              "      <button class=\"colab-df-convert\" onclick=\"convertToInteractive('df-149a17f7-07c1-4cce-bf2b-ad91111c05ab')\"\n",
              "              title=\"Convert this dataframe to an interactive table.\"\n",
              "              style=\"display:none;\">\n",
              "        \n",
              "  <svg xmlns=\"http://www.w3.org/2000/svg\" height=\"24px\"viewBox=\"0 0 24 24\"\n",
              "       width=\"24px\">\n",
              "    <path d=\"M0 0h24v24H0V0z\" fill=\"none\"/>\n",
              "    <path d=\"M18.56 5.44l.94 2.06.94-2.06 2.06-.94-2.06-.94-.94-2.06-.94 2.06-2.06.94zm-11 1L8.5 8.5l.94-2.06 2.06-.94-2.06-.94L8.5 2.5l-.94 2.06-2.06.94zm10 10l.94 2.06.94-2.06 2.06-.94-2.06-.94-.94-2.06-.94 2.06-2.06.94z\"/><path d=\"M17.41 7.96l-1.37-1.37c-.4-.4-.92-.59-1.43-.59-.52 0-1.04.2-1.43.59L10.3 9.45l-7.72 7.72c-.78.78-.78 2.05 0 2.83L4 21.41c.39.39.9.59 1.41.59.51 0 1.02-.2 1.41-.59l7.78-7.78 2.81-2.81c.8-.78.8-2.07 0-2.86zM5.41 20L4 18.59l7.72-7.72 1.47 1.35L5.41 20z\"/>\n",
              "  </svg>\n",
              "      </button>\n",
              "      \n",
              "  <style>\n",
              "    .colab-df-container {\n",
              "      display:flex;\n",
              "      flex-wrap:wrap;\n",
              "      gap: 12px;\n",
              "    }\n",
              "\n",
              "    .colab-df-convert {\n",
              "      background-color: #E8F0FE;\n",
              "      border: none;\n",
              "      border-radius: 50%;\n",
              "      cursor: pointer;\n",
              "      display: none;\n",
              "      fill: #1967D2;\n",
              "      height: 32px;\n",
              "      padding: 0 0 0 0;\n",
              "      width: 32px;\n",
              "    }\n",
              "\n",
              "    .colab-df-convert:hover {\n",
              "      background-color: #E2EBFA;\n",
              "      box-shadow: 0px 1px 2px rgba(60, 64, 67, 0.3), 0px 1px 3px 1px rgba(60, 64, 67, 0.15);\n",
              "      fill: #174EA6;\n",
              "    }\n",
              "\n",
              "    [theme=dark] .colab-df-convert {\n",
              "      background-color: #3B4455;\n",
              "      fill: #D2E3FC;\n",
              "    }\n",
              "\n",
              "    [theme=dark] .colab-df-convert:hover {\n",
              "      background-color: #434B5C;\n",
              "      box-shadow: 0px 1px 3px 1px rgba(0, 0, 0, 0.15);\n",
              "      filter: drop-shadow(0px 1px 2px rgba(0, 0, 0, 0.3));\n",
              "      fill: #FFFFFF;\n",
              "    }\n",
              "  </style>\n",
              "\n",
              "      <script>\n",
              "        const buttonEl =\n",
              "          document.querySelector('#df-149a17f7-07c1-4cce-bf2b-ad91111c05ab button.colab-df-convert');\n",
              "        buttonEl.style.display =\n",
              "          google.colab.kernel.accessAllowed ? 'block' : 'none';\n",
              "\n",
              "        async function convertToInteractive(key) {\n",
              "          const element = document.querySelector('#df-149a17f7-07c1-4cce-bf2b-ad91111c05ab');\n",
              "          const dataTable =\n",
              "            await google.colab.kernel.invokeFunction('convertToInteractive',\n",
              "                                                     [key], {});\n",
              "          if (!dataTable) return;\n",
              "\n",
              "          const docLinkHtml = 'Like what you see? Visit the ' +\n",
              "            '<a target=\"_blank\" href=https://colab.research.google.com/notebooks/data_table.ipynb>data table notebook</a>'\n",
              "            + ' to learn more about interactive tables.';\n",
              "          element.innerHTML = '';\n",
              "          dataTable['output_type'] = 'display_data';\n",
              "          await google.colab.output.renderOutput(dataTable, element);\n",
              "          const docLink = document.createElement('div');\n",
              "          docLink.innerHTML = docLinkHtml;\n",
              "          element.appendChild(docLink);\n",
              "        }\n",
              "      </script>\n",
              "    </div>\n",
              "  </div>\n",
              "  "
            ]
          },
          "metadata": {},
          "execution_count": 158
        }
      ]
    },
    {
      "cell_type": "code",
      "source": [
        "\n",
        "train_df_10=train_shuffle_df[[\"text\",\"target\"]].sample(frac=0.1,random_state=42)"
      ],
      "metadata": {
        "id": "x-a0V-TKivpk"
      },
      "execution_count": null,
      "outputs": []
    },
    {
      "cell_type": "code",
      "source": [
        "train_df_10.head()"
      ],
      "metadata": {
        "colab": {
          "base_uri": "https://localhost:8080/",
          "height": 206
        },
        "id": "wi_UOxnqjUx2",
        "outputId": "a107de50-5bce-4158-ab56-132f1747171e"
      },
      "execution_count": null,
      "outputs": [
        {
          "output_type": "execute_result",
          "data": {
            "text/plain": [
              "                                                   text  target\n",
              "4955  DFR EP016 Monthly Meltdown - On Dnbheaven 2015...       0\n",
              "584   FedEx no longer to transport bioterror germs i...       0\n",
              "7411  Gunmen kill four in El Salvador bus attack: Su...       1\n",
              "5950  @camilacabello97 Internally and externally scr...       1\n",
              "5541  Radiation emergency #preparedness starts with ...       1"
            ],
            "text/html": [
              "\n",
              "  <div id=\"df-1b84d17e-e491-4e0c-98e3-c47925d8a625\">\n",
              "    <div class=\"colab-df-container\">\n",
              "      <div>\n",
              "<style scoped>\n",
              "    .dataframe tbody tr th:only-of-type {\n",
              "        vertical-align: middle;\n",
              "    }\n",
              "\n",
              "    .dataframe tbody tr th {\n",
              "        vertical-align: top;\n",
              "    }\n",
              "\n",
              "    .dataframe thead th {\n",
              "        text-align: right;\n",
              "    }\n",
              "</style>\n",
              "<table border=\"1\" class=\"dataframe\">\n",
              "  <thead>\n",
              "    <tr style=\"text-align: right;\">\n",
              "      <th></th>\n",
              "      <th>text</th>\n",
              "      <th>target</th>\n",
              "    </tr>\n",
              "  </thead>\n",
              "  <tbody>\n",
              "    <tr>\n",
              "      <th>4955</th>\n",
              "      <td>DFR EP016 Monthly Meltdown - On Dnbheaven 2015...</td>\n",
              "      <td>0</td>\n",
              "    </tr>\n",
              "    <tr>\n",
              "      <th>584</th>\n",
              "      <td>FedEx no longer to transport bioterror germs i...</td>\n",
              "      <td>0</td>\n",
              "    </tr>\n",
              "    <tr>\n",
              "      <th>7411</th>\n",
              "      <td>Gunmen kill four in El Salvador bus attack: Su...</td>\n",
              "      <td>1</td>\n",
              "    </tr>\n",
              "    <tr>\n",
              "      <th>5950</th>\n",
              "      <td>@camilacabello97 Internally and externally scr...</td>\n",
              "      <td>1</td>\n",
              "    </tr>\n",
              "    <tr>\n",
              "      <th>5541</th>\n",
              "      <td>Radiation emergency #preparedness starts with ...</td>\n",
              "      <td>1</td>\n",
              "    </tr>\n",
              "  </tbody>\n",
              "</table>\n",
              "</div>\n",
              "      <button class=\"colab-df-convert\" onclick=\"convertToInteractive('df-1b84d17e-e491-4e0c-98e3-c47925d8a625')\"\n",
              "              title=\"Convert this dataframe to an interactive table.\"\n",
              "              style=\"display:none;\">\n",
              "        \n",
              "  <svg xmlns=\"http://www.w3.org/2000/svg\" height=\"24px\"viewBox=\"0 0 24 24\"\n",
              "       width=\"24px\">\n",
              "    <path d=\"M0 0h24v24H0V0z\" fill=\"none\"/>\n",
              "    <path d=\"M18.56 5.44l.94 2.06.94-2.06 2.06-.94-2.06-.94-.94-2.06-.94 2.06-2.06.94zm-11 1L8.5 8.5l.94-2.06 2.06-.94-2.06-.94L8.5 2.5l-.94 2.06-2.06.94zm10 10l.94 2.06.94-2.06 2.06-.94-2.06-.94-.94-2.06-.94 2.06-2.06.94z\"/><path d=\"M17.41 7.96l-1.37-1.37c-.4-.4-.92-.59-1.43-.59-.52 0-1.04.2-1.43.59L10.3 9.45l-7.72 7.72c-.78.78-.78 2.05 0 2.83L4 21.41c.39.39.9.59 1.41.59.51 0 1.02-.2 1.41-.59l7.78-7.78 2.81-2.81c.8-.78.8-2.07 0-2.86zM5.41 20L4 18.59l7.72-7.72 1.47 1.35L5.41 20z\"/>\n",
              "  </svg>\n",
              "      </button>\n",
              "      \n",
              "  <style>\n",
              "    .colab-df-container {\n",
              "      display:flex;\n",
              "      flex-wrap:wrap;\n",
              "      gap: 12px;\n",
              "    }\n",
              "\n",
              "    .colab-df-convert {\n",
              "      background-color: #E8F0FE;\n",
              "      border: none;\n",
              "      border-radius: 50%;\n",
              "      cursor: pointer;\n",
              "      display: none;\n",
              "      fill: #1967D2;\n",
              "      height: 32px;\n",
              "      padding: 0 0 0 0;\n",
              "      width: 32px;\n",
              "    }\n",
              "\n",
              "    .colab-df-convert:hover {\n",
              "      background-color: #E2EBFA;\n",
              "      box-shadow: 0px 1px 2px rgba(60, 64, 67, 0.3), 0px 1px 3px 1px rgba(60, 64, 67, 0.15);\n",
              "      fill: #174EA6;\n",
              "    }\n",
              "\n",
              "    [theme=dark] .colab-df-convert {\n",
              "      background-color: #3B4455;\n",
              "      fill: #D2E3FC;\n",
              "    }\n",
              "\n",
              "    [theme=dark] .colab-df-convert:hover {\n",
              "      background-color: #434B5C;\n",
              "      box-shadow: 0px 1px 3px 1px rgba(0, 0, 0, 0.15);\n",
              "      filter: drop-shadow(0px 1px 2px rgba(0, 0, 0, 0.3));\n",
              "      fill: #FFFFFF;\n",
              "    }\n",
              "  </style>\n",
              "\n",
              "      <script>\n",
              "        const buttonEl =\n",
              "          document.querySelector('#df-1b84d17e-e491-4e0c-98e3-c47925d8a625 button.colab-df-convert');\n",
              "        buttonEl.style.display =\n",
              "          google.colab.kernel.accessAllowed ? 'block' : 'none';\n",
              "\n",
              "        async function convertToInteractive(key) {\n",
              "          const element = document.querySelector('#df-1b84d17e-e491-4e0c-98e3-c47925d8a625');\n",
              "          const dataTable =\n",
              "            await google.colab.kernel.invokeFunction('convertToInteractive',\n",
              "                                                     [key], {});\n",
              "          if (!dataTable) return;\n",
              "\n",
              "          const docLinkHtml = 'Like what you see? Visit the ' +\n",
              "            '<a target=\"_blank\" href=https://colab.research.google.com/notebooks/data_table.ipynb>data table notebook</a>'\n",
              "            + ' to learn more about interactive tables.';\n",
              "          element.innerHTML = '';\n",
              "          dataTable['output_type'] = 'display_data';\n",
              "          await google.colab.output.renderOutput(dataTable, element);\n",
              "          const docLink = document.createElement('div');\n",
              "          docLink.innerHTML = docLinkHtml;\n",
              "          element.appendChild(docLink);\n",
              "        }\n",
              "      </script>\n",
              "    </div>\n",
              "  </div>\n",
              "  "
            ]
          },
          "metadata": {},
          "execution_count": 160
        }
      ]
    },
    {
      "cell_type": "code",
      "source": [
        "len(train_df_10)"
      ],
      "metadata": {
        "colab": {
          "base_uri": "https://localhost:8080/"
        },
        "id": "dPBxGReOjZkN",
        "outputId": "1e65f4b6-6fd8-4435-f115-d4e29e890237"
      },
      "execution_count": null,
      "outputs": [
        {
          "output_type": "execute_result",
          "data": {
            "text/plain": [
              "761"
            ]
          },
          "metadata": {},
          "execution_count": 161
        }
      ]
    },
    {
      "cell_type": "code",
      "source": [
        "train_sentences_10=train_df_10[\"text\"].to_list()\n",
        "len(train_sentences_10)"
      ],
      "metadata": {
        "colab": {
          "base_uri": "https://localhost:8080/"
        },
        "id": "FHBzxt6Njej2",
        "outputId": "7fdb7cfd-3ac8-4f25-ac45-adcad0e78de2"
      },
      "execution_count": null,
      "outputs": [
        {
          "output_type": "execute_result",
          "data": {
            "text/plain": [
              "761"
            ]
          },
          "metadata": {},
          "execution_count": 162
        }
      ]
    },
    {
      "cell_type": "code",
      "source": [
        "train_labels_10=train_df_10[\"target\"].to_list()\n",
        "len(train_labels_10)"
      ],
      "metadata": {
        "colab": {
          "base_uri": "https://localhost:8080/"
        },
        "id": "s5TsMoHQkPFt",
        "outputId": "8b17ef14-3579-4b08-b02c-6a512e7868fd"
      },
      "execution_count": null,
      "outputs": [
        {
          "output_type": "execute_result",
          "data": {
            "text/plain": [
              "761"
            ]
          },
          "metadata": {},
          "execution_count": 163
        }
      ]
    },
    {
      "cell_type": "code",
      "source": [
        "\n",
        "\n",
        "\n",
        "#building model for 10% of the data\n",
        "model_8=tf.keras.Sequential([\n",
        "               universal_sentence_encoder,\n",
        "               layers.Dense(64,activation=\"relu\"),\n",
        "               layers.Dense(1,activation=\"sigmoid\")              \n",
        "])"
      ],
      "metadata": {
        "id": "VSC14t7AkdDN"
      },
      "execution_count": null,
      "outputs": []
    },
    {
      "cell_type": "code",
      "source": [
        "model_8.summary()"
      ],
      "metadata": {
        "colab": {
          "base_uri": "https://localhost:8080/"
        },
        "id": "WmbtFxtFmH7t",
        "outputId": "86b86324-a51f-4f1c-ca70-87d13bf98b90"
      },
      "execution_count": null,
      "outputs": [
        {
          "output_type": "stream",
          "name": "stdout",
          "text": [
            "Model: \"sequential\"\n",
            "_________________________________________________________________\n",
            " Layer (type)                Output Shape              Param #   \n",
            "=================================================================\n",
            " USE (KerasLayer)            (None, 512)               256797824 \n",
            "                                                                 \n",
            " dense_12 (Dense)            (None, 64)                32832     \n",
            "                                                                 \n",
            " dense_13 (Dense)            (None, 1)                 65        \n",
            "                                                                 \n",
            "=================================================================\n",
            "Total params: 256,830,721\n",
            "Trainable params: 32,897\n",
            "Non-trainable params: 256,797,824\n",
            "_________________________________________________________________\n"
          ]
        }
      ]
    },
    {
      "cell_type": "code",
      "source": [
        "model_8.compile(loss=tf.keras.losses.binary_crossentropy,\n",
        "                optimizer=tf.keras.optimizers.Adam(),\n",
        "                metrics=[\"accuracy\"])\n",
        "histoty_model_8=model_8.fit(train_sentences_10,\n",
        "                           train_labels_10,\n",
        "                            epochs=5,\n",
        "                            validation_data=(val_sentences,val_labels),\n",
        "                            callbacks=[create_tensorboard_callback(SAVE_DIR,\"model_8_use\")])"
      ],
      "metadata": {
        "colab": {
          "base_uri": "https://localhost:8080/"
        },
        "id": "tl21IY5FmSQF",
        "outputId": "14c38815-6d4c-4f2f-ced4-0028e5cfd842"
      },
      "execution_count": null,
      "outputs": [
        {
          "output_type": "stream",
          "name": "stdout",
          "text": [
            "Saving TensorBoard log files to: model_logs/model_8_use/20220708-125218\n",
            "Epoch 1/5\n",
            "24/24 [==============================] - 3s 62ms/step - loss: 0.6717 - accuracy: 0.6978 - val_loss: 0.6383 - val_accuracy: 0.7807\n",
            "Epoch 2/5\n",
            "24/24 [==============================] - 1s 39ms/step - loss: 0.6035 - accuracy: 0.7924 - val_loss: 0.5684 - val_accuracy: 0.7833\n",
            "Epoch 3/5\n",
            "24/24 [==============================] - 1s 41ms/step - loss: 0.5277 - accuracy: 0.8029 - val_loss: 0.5045 - val_accuracy: 0.7912\n",
            "Epoch 4/5\n",
            "24/24 [==============================] - 1s 41ms/step - loss: 0.4700 - accuracy: 0.8068 - val_loss: 0.4649 - val_accuracy: 0.7978\n",
            "Epoch 5/5\n",
            "24/24 [==============================] - 1s 35ms/step - loss: 0.4321 - accuracy: 0.8213 - val_loss: 0.4438 - val_accuracy: 0.7997\n"
          ]
        }
      ]
    },
    {
      "cell_type": "code",
      "source": [
        "model_8_predict=model_8.predict(val_sentences)"
      ],
      "metadata": {
        "id": "pJVSIr4Mo7Q8"
      },
      "execution_count": null,
      "outputs": []
    },
    {
      "cell_type": "code",
      "source": [
        "\n",
        "\n",
        "model_8_predict"
      ],
      "metadata": {
        "colab": {
          "base_uri": "https://localhost:8080/"
        },
        "id": "JzPTKywypc_E",
        "outputId": "a4a1d278-76a4-43f5-f04f-8cb8e131e632"
      },
      "execution_count": null,
      "outputs": [
        {
          "output_type": "execute_result",
          "data": {
            "text/plain": [
              "array([[0.25737083],\n",
              "       [0.82093763],\n",
              "       [0.89780927],\n",
              "       ...,\n",
              "       [0.28667292],\n",
              "       [0.7370887 ],\n",
              "       [0.9061517 ]], dtype=float32)"
            ]
          },
          "metadata": {},
          "execution_count": 168
        }
      ]
    },
    {
      "cell_type": "code",
      "source": [
        "\n",
        "model_8_probs=tf.squeeze(tf.round(model_8_predict))"
      ],
      "metadata": {
        "id": "wj8Be-0Zph2N"
      },
      "execution_count": null,
      "outputs": []
    },
    {
      "cell_type": "code",
      "source": [
        "model_8_probs"
      ],
      "metadata": {
        "colab": {
          "base_uri": "https://localhost:8080/"
        },
        "id": "eDVKqcLnpv9h",
        "outputId": "759c9043-661c-4858-e91e-8f737a4d146e"
      },
      "execution_count": null,
      "outputs": [
        {
          "output_type": "execute_result",
          "data": {
            "text/plain": [
              "<tf.Tensor: shape=(1523,), dtype=float32, numpy=array([0., 1., 1., ..., 0., 1., 1.], dtype=float32)>"
            ]
          },
          "metadata": {},
          "execution_count": 170
        }
      ]
    },
    {
      "cell_type": "code",
      "source": [
        "\n",
        "\n",
        "\n",
        "\n",
        "results_8=calculate_result(val_labels,\n",
        "                            model_8_probs)"
      ],
      "metadata": {
        "id": "wRje9tq0pzXc"
      },
      "execution_count": null,
      "outputs": []
    },
    {
      "cell_type": "code",
      "source": [
        "\n",
        "\n",
        "results_8"
      ],
      "metadata": {
        "colab": {
          "base_uri": "https://localhost:8080/"
        },
        "id": "Snpmm_BtqFll",
        "outputId": "7fdb5c61-83ca-4873-c502-5c5773db7753"
      },
      "execution_count": null,
      "outputs": [
        {
          "output_type": "execute_result",
          "data": {
            "text/plain": [
              "{'accuracy': 79.97373604727511,\n",
              " 'f1': 0.79934154429643,\n",
              " 'precision': 0.7992539482400589,\n",
              " 'recall': 0.7997373604727511}"
            ]
          },
          "metadata": {},
          "execution_count": 172
        }
      ]
    },
    {
      "cell_type": "code",
      "source": [
        "\n",
        "\n",
        "\n",
        "\n",
        "#making the better data split(without the data leakage)"
      ],
      "metadata": {
        "id": "oOmaVCqXqPKh"
      },
      "execution_count": null,
      "outputs": []
    },
    {
      "cell_type": "code",
      "source": [
        "train_10_percent_split=int(0.1*len(train_sentences))\n",
        "train_sentences_10_percent=train_sentences[:train_10_percent_split]\n",
        "train_labels_10_percent=train_labels[:train_10_percent_split]"
      ],
      "metadata": {
        "id": "hGfqdmbTx8uG"
      },
      "execution_count": null,
      "outputs": []
    },
    {
      "cell_type": "code",
      "source": [
        "len(train_sentences_10_percent)"
      ],
      "metadata": {
        "colab": {
          "base_uri": "https://localhost:8080/"
        },
        "id": "lah6dQXKyLJm",
        "outputId": "41ff4672-104e-465f-8bf3-abdbde04c123"
      },
      "execution_count": null,
      "outputs": [
        {
          "output_type": "execute_result",
          "data": {
            "text/plain": [
              "609"
            ]
          },
          "metadata": {},
          "execution_count": 175
        }
      ]
    },
    {
      "cell_type": "code",
      "source": [
        "len(train_labels_10_percent)"
      ],
      "metadata": {
        "colab": {
          "base_uri": "https://localhost:8080/"
        },
        "id": "YCO56LnkyOG4",
        "outputId": "7e62b0c6-8408-4483-fb37-58c808e33aa5"
      },
      "execution_count": null,
      "outputs": [
        {
          "output_type": "execute_result",
          "data": {
            "text/plain": [
              "609"
            ]
          },
          "metadata": {},
          "execution_count": 176
        }
      ]
    },
    {
      "cell_type": "code",
      "source": [
        "pd.Series(np.array(train_labels_10_percent)).value_counts()"
      ],
      "metadata": {
        "colab": {
          "base_uri": "https://localhost:8080/"
        },
        "id": "jxL0NAepzLbe",
        "outputId": "28349d78-b915-4fb6-9fef-d0a610ce3134"
      },
      "execution_count": null,
      "outputs": [
        {
          "output_type": "execute_result",
          "data": {
            "text/plain": [
              "0    324\n",
              "1    285\n",
              "dtype: int64"
            ]
          },
          "metadata": {},
          "execution_count": 177
        }
      ]
    },
    {
      "cell_type": "code",
      "source": [
        "train_shuffle_df[\"target\"].value_counts()"
      ],
      "metadata": {
        "colab": {
          "base_uri": "https://localhost:8080/"
        },
        "id": "n0N2hXnZzka_",
        "outputId": "4730a76e-b95b-418b-d4e8-10a4cc056174"
      },
      "execution_count": null,
      "outputs": [
        {
          "output_type": "execute_result",
          "data": {
            "text/plain": [
              "0    4342\n",
              "1    3271\n",
              "Name: target, dtype: int64"
            ]
          },
          "metadata": {},
          "execution_count": 178
        }
      ]
    },
    {
      "cell_type": "code",
      "source": [
        "#compairing all the models performance\n",
        "all_models_compare=pd.DataFrame({\"Base_line_model_0\": results_0,\n",
        "              \"simple_model_1\":results_1,\n",
        "              \"lstm_2\": results_LSTM,\n",
        "              \"gru_3\": GRU_results,\n",
        "              \"bidirectional_4\": bidirectional_results,\n",
        "              \"cnn_5\": cnn_results,\n",
        "              \"universal_sentence_encoder_6\": feature_extractor_results,\n",
        "              \"universal_sentence_encoder_7_10_percent\": results_8})"
      ],
      "metadata": {
        "id": "vWwzFP1ozz7m"
      },
      "execution_count": null,
      "outputs": []
    },
    {
      "cell_type": "code",
      "source": [
        "all_models_comapare=all_models_compare.transpose()"
      ],
      "metadata": {
        "id": "UFBamHcl3Bgu"
      },
      "execution_count": null,
      "outputs": []
    },
    {
      "cell_type": "code",
      "source": [
        "all_models_comapare"
      ],
      "metadata": {
        "colab": {
          "base_uri": "https://localhost:8080/",
          "height": 300
        },
        "id": "lNXHTywp5XFn",
        "outputId": "cba8d813-b906-4734-b54b-f09daec9c2ec"
      },
      "execution_count": null,
      "outputs": [
        {
          "output_type": "execute_result",
          "data": {
            "text/plain": [
              "                                          accuracy  precision    recall  \\\n",
              "Base_line_model_0                        79.908076   0.814636  0.799081   \n",
              "simple_model_1                           79.908076   0.814636  0.799081   \n",
              "lstm_2                                   77.413001   0.774055  0.774130   \n",
              "gru_3                                    77.675640   0.776223  0.776756   \n",
              "bidirectional_4                          76.822062   0.767561  0.768221   \n",
              "cnn_5                                    75.049245   0.749871  0.750492   \n",
              "universal_sentence_encoder_6             80.630335   0.805830  0.806303   \n",
              "universal_sentence_encoder_7_10_percent  79.973736   0.799254  0.799737   \n",
              "\n",
              "                                               f1  \n",
              "Base_line_model_0                        0.792016  \n",
              "simple_model_1                           0.792016  \n",
              "lstm_2                                   0.774091  \n",
              "gru_3                                    0.775254  \n",
              "bidirectional_4                          0.766628  \n",
              "cnn_5                                    0.750076  \n",
              "universal_sentence_encoder_6             0.805880  \n",
              "universal_sentence_encoder_7_10_percent  0.799342  "
            ],
            "text/html": [
              "\n",
              "  <div id=\"df-c54c8e5b-6bf2-40dd-901c-22a36e802d55\">\n",
              "    <div class=\"colab-df-container\">\n",
              "      <div>\n",
              "<style scoped>\n",
              "    .dataframe tbody tr th:only-of-type {\n",
              "        vertical-align: middle;\n",
              "    }\n",
              "\n",
              "    .dataframe tbody tr th {\n",
              "        vertical-align: top;\n",
              "    }\n",
              "\n",
              "    .dataframe thead th {\n",
              "        text-align: right;\n",
              "    }\n",
              "</style>\n",
              "<table border=\"1\" class=\"dataframe\">\n",
              "  <thead>\n",
              "    <tr style=\"text-align: right;\">\n",
              "      <th></th>\n",
              "      <th>accuracy</th>\n",
              "      <th>precision</th>\n",
              "      <th>recall</th>\n",
              "      <th>f1</th>\n",
              "    </tr>\n",
              "  </thead>\n",
              "  <tbody>\n",
              "    <tr>\n",
              "      <th>Base_line_model_0</th>\n",
              "      <td>79.908076</td>\n",
              "      <td>0.814636</td>\n",
              "      <td>0.799081</td>\n",
              "      <td>0.792016</td>\n",
              "    </tr>\n",
              "    <tr>\n",
              "      <th>simple_model_1</th>\n",
              "      <td>79.908076</td>\n",
              "      <td>0.814636</td>\n",
              "      <td>0.799081</td>\n",
              "      <td>0.792016</td>\n",
              "    </tr>\n",
              "    <tr>\n",
              "      <th>lstm_2</th>\n",
              "      <td>77.413001</td>\n",
              "      <td>0.774055</td>\n",
              "      <td>0.774130</td>\n",
              "      <td>0.774091</td>\n",
              "    </tr>\n",
              "    <tr>\n",
              "      <th>gru_3</th>\n",
              "      <td>77.675640</td>\n",
              "      <td>0.776223</td>\n",
              "      <td>0.776756</td>\n",
              "      <td>0.775254</td>\n",
              "    </tr>\n",
              "    <tr>\n",
              "      <th>bidirectional_4</th>\n",
              "      <td>76.822062</td>\n",
              "      <td>0.767561</td>\n",
              "      <td>0.768221</td>\n",
              "      <td>0.766628</td>\n",
              "    </tr>\n",
              "    <tr>\n",
              "      <th>cnn_5</th>\n",
              "      <td>75.049245</td>\n",
              "      <td>0.749871</td>\n",
              "      <td>0.750492</td>\n",
              "      <td>0.750076</td>\n",
              "    </tr>\n",
              "    <tr>\n",
              "      <th>universal_sentence_encoder_6</th>\n",
              "      <td>80.630335</td>\n",
              "      <td>0.805830</td>\n",
              "      <td>0.806303</td>\n",
              "      <td>0.805880</td>\n",
              "    </tr>\n",
              "    <tr>\n",
              "      <th>universal_sentence_encoder_7_10_percent</th>\n",
              "      <td>79.973736</td>\n",
              "      <td>0.799254</td>\n",
              "      <td>0.799737</td>\n",
              "      <td>0.799342</td>\n",
              "    </tr>\n",
              "  </tbody>\n",
              "</table>\n",
              "</div>\n",
              "      <button class=\"colab-df-convert\" onclick=\"convertToInteractive('df-c54c8e5b-6bf2-40dd-901c-22a36e802d55')\"\n",
              "              title=\"Convert this dataframe to an interactive table.\"\n",
              "              style=\"display:none;\">\n",
              "        \n",
              "  <svg xmlns=\"http://www.w3.org/2000/svg\" height=\"24px\"viewBox=\"0 0 24 24\"\n",
              "       width=\"24px\">\n",
              "    <path d=\"M0 0h24v24H0V0z\" fill=\"none\"/>\n",
              "    <path d=\"M18.56 5.44l.94 2.06.94-2.06 2.06-.94-2.06-.94-.94-2.06-.94 2.06-2.06.94zm-11 1L8.5 8.5l.94-2.06 2.06-.94-2.06-.94L8.5 2.5l-.94 2.06-2.06.94zm10 10l.94 2.06.94-2.06 2.06-.94-2.06-.94-.94-2.06-.94 2.06-2.06.94z\"/><path d=\"M17.41 7.96l-1.37-1.37c-.4-.4-.92-.59-1.43-.59-.52 0-1.04.2-1.43.59L10.3 9.45l-7.72 7.72c-.78.78-.78 2.05 0 2.83L4 21.41c.39.39.9.59 1.41.59.51 0 1.02-.2 1.41-.59l7.78-7.78 2.81-2.81c.8-.78.8-2.07 0-2.86zM5.41 20L4 18.59l7.72-7.72 1.47 1.35L5.41 20z\"/>\n",
              "  </svg>\n",
              "      </button>\n",
              "      \n",
              "  <style>\n",
              "    .colab-df-container {\n",
              "      display:flex;\n",
              "      flex-wrap:wrap;\n",
              "      gap: 12px;\n",
              "    }\n",
              "\n",
              "    .colab-df-convert {\n",
              "      background-color: #E8F0FE;\n",
              "      border: none;\n",
              "      border-radius: 50%;\n",
              "      cursor: pointer;\n",
              "      display: none;\n",
              "      fill: #1967D2;\n",
              "      height: 32px;\n",
              "      padding: 0 0 0 0;\n",
              "      width: 32px;\n",
              "    }\n",
              "\n",
              "    .colab-df-convert:hover {\n",
              "      background-color: #E2EBFA;\n",
              "      box-shadow: 0px 1px 2px rgba(60, 64, 67, 0.3), 0px 1px 3px 1px rgba(60, 64, 67, 0.15);\n",
              "      fill: #174EA6;\n",
              "    }\n",
              "\n",
              "    [theme=dark] .colab-df-convert {\n",
              "      background-color: #3B4455;\n",
              "      fill: #D2E3FC;\n",
              "    }\n",
              "\n",
              "    [theme=dark] .colab-df-convert:hover {\n",
              "      background-color: #434B5C;\n",
              "      box-shadow: 0px 1px 3px 1px rgba(0, 0, 0, 0.15);\n",
              "      filter: drop-shadow(0px 1px 2px rgba(0, 0, 0, 0.3));\n",
              "      fill: #FFFFFF;\n",
              "    }\n",
              "  </style>\n",
              "\n",
              "      <script>\n",
              "        const buttonEl =\n",
              "          document.querySelector('#df-c54c8e5b-6bf2-40dd-901c-22a36e802d55 button.colab-df-convert');\n",
              "        buttonEl.style.display =\n",
              "          google.colab.kernel.accessAllowed ? 'block' : 'none';\n",
              "\n",
              "        async function convertToInteractive(key) {\n",
              "          const element = document.querySelector('#df-c54c8e5b-6bf2-40dd-901c-22a36e802d55');\n",
              "          const dataTable =\n",
              "            await google.colab.kernel.invokeFunction('convertToInteractive',\n",
              "                                                     [key], {});\n",
              "          if (!dataTable) return;\n",
              "\n",
              "          const docLinkHtml = 'Like what you see? Visit the ' +\n",
              "            '<a target=\"_blank\" href=https://colab.research.google.com/notebooks/data_table.ipynb>data table notebook</a>'\n",
              "            + ' to learn more about interactive tables.';\n",
              "          element.innerHTML = '';\n",
              "          dataTable['output_type'] = 'display_data';\n",
              "          await google.colab.output.renderOutput(dataTable, element);\n",
              "          const docLink = document.createElement('div');\n",
              "          docLink.innerHTML = docLinkHtml;\n",
              "          element.appendChild(docLink);\n",
              "        }\n",
              "      </script>\n",
              "    </div>\n",
              "  </div>\n",
              "  "
            ]
          },
          "metadata": {},
          "execution_count": 181
        }
      ]
    },
    {
      "cell_type": "code",
      "source": [
        "\n",
        "\n",
        "import matplotlib.pyplot as plt\n",
        "%matplotlib inline"
      ],
      "metadata": {
        "id": "eXr62kcH7a0W"
      },
      "execution_count": null,
      "outputs": []
    },
    {
      "cell_type": "code",
      "source": [
        "all_models_compare.plot(kind=\"bar\"  , figsize=(10,10)).legend(bbox_to_anchor=(0,0));"
      ],
      "metadata": {
        "colab": {
          "base_uri": "https://localhost:8080/",
          "height": 710
        },
        "id": "ewrxB0js7laG",
        "outputId": "3189693a-aab2-4b39-ab02-13226d1c3840"
      },
      "execution_count": null,
      "outputs": [
        {
          "output_type": "display_data",
          "data": {
            "text/plain": [
              "<Figure size 720x720 with 1 Axes>"
            ],
            "image/png": "[encoded data removed]"
          },
          "metadata": {
            "needs_background": "light"
          }
        }
      ]
    },
    {
      "cell_type": "code",
      "source": [
        "\n",
        "\n",
        "all_models_comapare.sort_values(\"f1\",ascending=False)[\"f1\"].plot(kind=\"bar\",figsize=(10,7))"
      ],
      "metadata": {
        "colab": {
          "base_uri": "https://localhost:8080/",
          "height": 651
        },
        "id": "_606Z9NoAZk3",
        "outputId": "a33b7644-b60b-49d0-a4d4-7c7d2803501b"
      },
      "execution_count": null,
      "outputs": [
        {
          "output_type": "execute_result",
          "data": {
            "text/plain": [
              "<matplotlib.axes._subplots.AxesSubplot at 0x7f1a741fa250>"
            ]
          },
          "metadata": {},
          "execution_count": 184
        },
        {
          "output_type": "display_data",
          "data": {
            "text/plain": [
              "<Figure size 720x504 with 1 Axes>"
            ],
            "image/png": "[encoded data removed]"
          },
          "metadata": {
            "needs_background": "light"
          }
        }
      ]
    },
    {
      "cell_type": "code",
      "source": [
        "!tensorboard dev upload --logdir ./model_logs/ \\\n",
        "--one_shot "
      ],
      "metadata": {
        "id": "60ajVXhIEGu_",
        "colab": {
          "base_uri": "https://localhost:8080/"
        },
        "outputId": "a532789c-b497-4753-a30b-641d18379f72"
      },
      "execution_count": null,
      "outputs": [
        {
          "output_type": "stream",
          "name": "stdout",
          "text": [
            "2022-07-08 12:52:31.735836: E tensorflow/stream_executor/cuda/cuda_driver.cc:271] failed call to cuInit: CUDA_ERROR_NO_DEVICE: no CUDA-capable device is detected\n",
            "\n",
            "***** TensorBoard Uploader *****\n",
            "\n",
            "This will upload your TensorBoard logs to https://tensorboard.dev/ from\n",
            "the following directory:\n",
            "\n",
            "./model_logs/\n",
            "\n",
            "This TensorBoard will be visible to everyone. Do not upload sensitive\n",
            "data.\n",
            "\n",
            "Your use of this service is subject to Google's Terms of Service\n",
            "<https://policies.google.com/terms> and Privacy Policy\n",
            "<https://policies.google.com/privacy>, and TensorBoard.dev's Terms of Service\n",
            "<https://tensorboard.dev/policy/terms/>.\n",
            "\n",
            "This notice will not be shown again while you are logged into the uploader.\n",
            "To log out, run `tensorboard dev auth revoke`.\n",
            "\n",
            "Continue? (yes/NO) Traceback (most recent call last):\n",
            "  File \"/usr/local/bin/tensorboard\", line 8, in <module>\n",
            "    sys.exit(run_main())\n",
            "  File \"/usr/local/lib/python3.7/dist-packages/tensorboard/main.py\", line 46, in run_main\n",
            "  File \"/usr/local/lib/python3.7/dist-packages/absl/app.py\", line 312, in run\n",
            "    _run_main(main, args)\n",
            "  File \"/usr/local/lib/python3.7/dist-packages/absl/app.py\", line 258, in _run_main\n",
            "    sys.exit(main(argv))\n",
            "  File \"/usr/local/lib/python3.7/dist-packages/tensorboard/program.py\", line 276, in main\n",
            "    return runner(self.flags) or 0\n",
            "  File \"/usr/local/lib/python3.7/dist-packages/tensorboard/uploader/uploader_subcommand.py\", line 692, in run\n",
            "    return _run(flags, self._experiment_url_callback)\n",
            "  File \"/usr/local/lib/python3.7/dist-packages/tensorboard/uploader/uploader_subcommand.py\", line 94, in _run\n",
            "    _prompt_for_user_ack(intent)\n",
            "  File \"/usr/local/lib/python3.7/dist-packages/tensorboard/uploader/uploader_subcommand.py\", line 67, in _prompt_for_user_ack\n",
            "    response = input(\"Continue? (yes/NO) \")\n",
            "KeyboardInterrupt\n"
          ]
        }
      ]
    },
    {
      "cell_type": "code",
      "source": [
        "\n",
        " !tensorboard dev list                                                                             "
      ],
      "metadata": {
        "colab": {
          "base_uri": "https://localhost:8080/"
        },
        "id": "PdLB3juh8Gzs",
        "outputId": "f5d015a0-a6af-4550-992b-1edff4fe8827"
      },
      "execution_count": null,
      "outputs": [
        {
          "output_type": "stream",
          "name": "stdout",
          "text": [
            "2022-07-07 14:28:57.122749: E tensorflow/stream_executor/cuda/cuda_driver.cc:271] failed call to cuInit: CUDA_ERROR_NO_DEVICE: no CUDA-capable device is detected\n",
            "https://tensorboard.dev/experiment/3IRz7Py2Rfa908T8kKAbMg/\n",
            "\tName                 [No Name]\n",
            "\tDescription          [No Description]\n",
            "\tId                   3IRz7Py2Rfa908T8kKAbMg\n",
            "\tCreated              2022-07-07 14:04:35 (24 minutes ago)\n",
            "\tUpdated              2022-07-07 14:04:42 (24 minutes ago)\n",
            "\tRuns                 14\n",
            "\tTags                 5\n",
            "\tScalars              210\n",
            "\tTensor bytes         0\n",
            "\tBinary object bytes  3788348\n",
            "Total: 1 experiment(s)\n"
          ]
        }
      ]
    },
    {
      "cell_type": "code",
      "source": [
        "model_7.summary()"
      ],
      "metadata": {
        "id": "QvKpk3zoEFJc",
        "colab": {
          "base_uri": "https://localhost:8080/"
        },
        "outputId": "f1aed7e6-a345-4826-a6db-7e70a9a25110"
      },
      "execution_count": null,
      "outputs": [
        {
          "output_type": "stream",
          "name": "stdout",
          "text": [
            "Model: \"model_6_use\"\n",
            "_________________________________________________________________\n",
            " Layer (type)                Output Shape              Param #   \n",
            "=================================================================\n",
            " USE (KerasLayer)            (None, 512)               256797824 \n",
            "                                                                 \n",
            " dense_10 (Dense)            (None, 64)                32832     \n",
            "                                                                 \n",
            " dense_11 (Dense)            (None, 1)                 65        \n",
            "                                                                 \n",
            "=================================================================\n",
            "Total params: 256,830,721\n",
            "Trainable params: 32,897\n",
            "Non-trainable params: 256,797,824\n",
            "_________________________________________________________________\n"
          ]
        }
      ]
    },
    {
      "cell_type": "code",
      "source": [
        "#saving the model in the tensorflow\n",
        "model_7.save(\"model_7.h5\")"
      ],
      "metadata": {
        "id": "4CqMSGaQ5d5O"
      },
      "execution_count": null,
      "outputs": []
    },
    {
      "cell_type": "code",
      "source": [
        "import tensorflow_hub as hub\n",
        "loaded_model_7=tf.keras.models.load_model(\"model_7.h5\",\n",
        "                                          custom_objects={\"KerasLayer\": hub.KerasLayer})"
      ],
      "metadata": {
        "id": "vibETJfO54rK"
      },
      "execution_count": null,
      "outputs": []
    },
    {
      "cell_type": "code",
      "source": [
        "loaded_model_7.evaluate(val_sentences,val_labels)"
      ],
      "metadata": {
        "colab": {
          "base_uri": "https://localhost:8080/"
        },
        "id": "uDF-f2Xf62pj",
        "outputId": "74c47880-8623-4b0a-81f4-e21c5e6d7b54"
      },
      "execution_count": null,
      "outputs": [
        {
          "output_type": "stream",
          "name": "stdout",
          "text": [
            "48/48 [==============================] - 2s 21ms/step - loss: 0.4377 - accuracy: 0.8063\n"
          ]
        },
        {
          "output_type": "execute_result",
          "data": {
            "text/plain": [
              "[0.43772056698799133, 0.8063033223152161]"
            ]
          },
          "metadata": {},
          "execution_count": 191
        }
      ]
    },
    {
      "cell_type": "code",
      "source": [
        "#saved model format\n",
        "model_7.save(\"model_7_savedFormat\")"
      ],
      "metadata": {
        "colab": {
          "base_uri": "https://localhost:8080/"
        },
        "id": "o03EX-6M7BXx",
        "outputId": "44ad5d24-ef32-4c2a-a2be-794cb4c52294"
      },
      "execution_count": null,
      "outputs": [
        {
          "output_type": "stream",
          "name": "stderr",
          "text": [
            "WARNING:absl:Function `_wrapped_model` contains input name(s) USE_input with unsupported characters which will be renamed to use_input in the SavedModel.\n"
          ]
        },
        {
          "output_type": "stream",
          "name": "stdout",
          "text": [
            "INFO:tensorflow:Assets written to: model_7_savedFormat/assets\n"
          ]
        },
        {
          "output_type": "stream",
          "name": "stderr",
          "text": [
            "INFO:tensorflow:Assets written to: model_7_savedFormat/assets\n"
          ]
        }
      ]
    },
    {
      "cell_type": "code",
      "source": [
        "savedmodelLoading=tf.keras.models.load_model(\"model_7_savedFormat\")"
      ],
      "metadata": {
        "id": "ilxH6opK76JZ"
      },
      "execution_count": null,
      "outputs": []
    },
    {
      "cell_type": "code",
      "source": [
        "savedmodelLoading.evaluate(val_sentences,val_labels)"
      ],
      "metadata": {
        "colab": {
          "base_uri": "https://localhost:8080/"
        },
        "id": "EUZ1y0VV8NdS",
        "outputId": "026ac630-2e72-407e-88d3-86c05bda2378"
      },
      "execution_count": null,
      "outputs": [
        {
          "output_type": "stream",
          "name": "stdout",
          "text": [
            "48/48 [==============================] - 2s 23ms/step - loss: 0.4377 - accuracy: 0.8063\n"
          ]
        },
        {
          "output_type": "execute_result",
          "data": {
            "text/plain": [
              "[0.43772056698799133, 0.8063033223152161]"
            ]
          },
          "metadata": {},
          "execution_count": 194
        }
      ]
    },
    {
      "cell_type": "code",
      "source": [
        "!wget https://storage.googleapis.com/ztm_tf_course/08_model_6_USE_feature_extractor.zip\n",
        "!unzip 08_model_6_USE_feature_extractor.zip"
      ],
      "metadata": {
        "colab": {
          "base_uri": "https://localhost:8080/"
        },
        "id": "m7ehMQhU8ZCJ",
        "outputId": "5e1f4fa6-54df-4466-c966-9f59824a9a3c"
      },
      "execution_count": null,
      "outputs": [
        {
          "output_type": "stream",
          "name": "stdout",
          "text": [
            "--2022-07-08 13:22:07--  https://storage.googleapis.com/ztm_tf_course/08_model_6_USE_feature_extractor.zip\n",
            "Resolving storage.googleapis.com (storage.googleapis.com)... 74.125.20.128, 74.125.197.128, 74.125.135.128, ...\n",
            "Connecting to storage.googleapis.com (storage.googleapis.com)|74.125.20.128|:443... connected.\n",
            "HTTP request sent, awaiting response... 200 OK\n",
            "Length: 960779165 (916M) [application/zip]\n",
            "Saving to: ‘08_model_6_USE_feature_extractor.zip’\n",
            "\n",
            "08_model_6_USE_feat 100%[===================>] 916.27M   149MB/s    in 7.4s    \n",
            "\n",
            "2022-07-08 13:22:15 (123 MB/s) - ‘08_model_6_USE_feature_extractor.zip’ saved [960779165/960779165]\n",
            "\n",
            "Archive:  08_model_6_USE_feature_extractor.zip\n",
            "   creating: 08_model_6_USE_feature_extractor/\n",
            "   creating: 08_model_6_USE_feature_extractor/assets/\n",
            "   creating: 08_model_6_USE_feature_extractor/variables/\n",
            "  inflating: 08_model_6_USE_feature_extractor/variables/variables.data-00000-of-00001  \n",
            "  inflating: 08_model_6_USE_feature_extractor/variables/variables.index  \n",
            "  inflating: 08_model_6_USE_feature_extractor/saved_model.pb  \n"
          ]
        }
      ]
    },
    {
      "cell_type": "code",
      "source": [
        "model_7_pretrained=tf.keras.models.load_model(\"08_model_6_USE_feature_extractor\")"
      ],
      "metadata": {
        "colab": {
          "base_uri": "https://localhost:8080/"
        },
        "id": "WzP1dGIk-Zv6",
        "outputId": "cbd5d899-354b-4ebb-9f86-c2d9f0cbdcfb"
      },
      "execution_count": null,
      "outputs": [
        {
          "output_type": "stream",
          "name": "stdout",
          "text": [
            "WARNING:tensorflow:SavedModel saved prior to TF 2.5 detected when loading Keras model. Please ensure that you are saving the model with model.save() or tf.keras.models.save_model(), *NOT* tf.saved_model.save(). To confirm, there should be a file named \"keras_metadata.pb\" in the SavedModel directory.\n"
          ]
        },
        {
          "output_type": "stream",
          "name": "stderr",
          "text": [
            "WARNING:tensorflow:SavedModel saved prior to TF 2.5 detected when loading Keras model. Please ensure that you are saving the model with model.save() or tf.keras.models.save_model(), *NOT* tf.saved_model.save(). To confirm, there should be a file named \"keras_metadata.pb\" in the SavedModel directory.\n"
          ]
        }
      ]
    },
    {
      "cell_type": "code",
      "source": [
        "model_7_pretrained.evaluate(val_sentences,val_labels)"
      ],
      "metadata": {
        "colab": {
          "base_uri": "https://localhost:8080/"
        },
        "id": "7B4Alfmm_QUX",
        "outputId": "50d6d57c-ac61-4a05-ba00-e37c5e13f13d"
      },
      "execution_count": null,
      "outputs": [
        {
          "output_type": "stream",
          "name": "stdout",
          "text": [
            "48/48 [==============================] - 2s 20ms/step - loss: 0.4099 - accuracy: 0.8201\n"
          ]
        },
        {
          "output_type": "execute_result",
          "data": {
            "text/plain": [
              "[0.4099445044994354, 0.8200919032096863]"
            ]
          },
          "metadata": {},
          "execution_count": 198
        }
      ]
    },
    {
      "cell_type": "code",
      "source": [
        "#make some predictions with the loaded model from the google storage\n",
        "model_7_pretrained_pred=model_7_pretrained.predict(val_sentences)\n",
        "model_7_pretrained_pred_probs=tf.squeeze(tf.round(model_7_pretrained_pred))"
      ],
      "metadata": {
        "id": "E3sCe4Z6_lU_"
      },
      "execution_count": null,
      "outputs": []
    },
    {
      "cell_type": "code",
      "source": [
        "model_7_pretrained_pred_probs[:10]"
      ],
      "metadata": {
        "colab": {
          "base_uri": "https://localhost:8080/"
        },
        "id": "D13rqBRWAgLY",
        "outputId": "9caeb824-0d06-44f1-d43b-4827f2c2dbd3"
      },
      "execution_count": null,
      "outputs": [
        {
          "output_type": "execute_result",
          "data": {
            "text/plain": [
              "<tf.Tensor: shape=(10,), dtype=float32, numpy=array([0., 1., 1., 0., 1., 1., 1., 1., 1., 0.], dtype=float32)>"
            ]
          },
          "metadata": {},
          "execution_count": 200
        }
      ]
    },
    {
      "cell_type": "code",
      "source": [
        "val_d=pd.DataFrame({\"text\": val_sentences,\n",
        "                    \"target\": val_labels,\n",
        "                    \"pred_prob\": model_7_pretrained_pred_probs,\n",
        "                    \"pred\": tf.squeeze(model_7_pretrained_pred)})"
      ],
      "metadata": {
        "id": "yIn9EYujAmHP"
      },
      "execution_count": null,
      "outputs": []
    },
    {
      "cell_type": "code",
      "source": [
        "val_d.head()"
      ],
      "metadata": {
        "colab": {
          "base_uri": "https://localhost:8080/",
          "height": 206
        },
        "id": "Pswv96VNBhue",
        "outputId": "000b0a51-31c5-442c-b65c-4c645873effc"
      },
      "execution_count": null,
      "outputs": [
        {
          "output_type": "execute_result",
          "data": {
            "text/plain": [
              "                                                text  target  pred_prob  \\\n",
              "0  DFR EP016 Monthly Meltdown - On Dnbheaven 2015...       0        0.0   \n",
              "1  FedEx no longer to transport bioterror germs i...       0        1.0   \n",
              "2  Gunmen kill four in El Salvador bus attack: Su...       1        1.0   \n",
              "3  @camilacabello97 Internally and externally scr...       1        0.0   \n",
              "4  Radiation emergency #preparedness starts with ...       1        1.0   \n",
              "\n",
              "       pred  \n",
              "0  0.159757  \n",
              "1  0.747162  \n",
              "2  0.988749  \n",
              "3  0.196229  \n",
              "4  0.707808  "
            ],
            "text/html": [
              "\n",
              "  <div id=\"df-34dc6b56-b89c-4cbc-8538-5cffbc6a1f70\">\n",
              "    <div class=\"colab-df-container\">\n",
              "      <div>\n",
              "<style scoped>\n",
              "    .dataframe tbody tr th:only-of-type {\n",
              "        vertical-align: middle;\n",
              "    }\n",
              "\n",
              "    .dataframe tbody tr th {\n",
              "        vertical-align: top;\n",
              "    }\n",
              "\n",
              "    .dataframe thead th {\n",
              "        text-align: right;\n",
              "    }\n",
              "</style>\n",
              "<table border=\"1\" class=\"dataframe\">\n",
              "  <thead>\n",
              "    <tr style=\"text-align: right;\">\n",
              "      <th></th>\n",
              "      <th>text</th>\n",
              "      <th>target</th>\n",
              "      <th>pred_prob</th>\n",
              "      <th>pred</th>\n",
              "    </tr>\n",
              "  </thead>\n",
              "  <tbody>\n",
              "    <tr>\n",
              "      <th>0</th>\n",
              "      <td>DFR EP016 Monthly Meltdown - On Dnbheaven 2015...</td>\n",
              "      <td>0</td>\n",
              "      <td>0.0</td>\n",
              "      <td>0.159757</td>\n",
              "    </tr>\n",
              "    <tr>\n",
              "      <th>1</th>\n",
              "      <td>FedEx no longer to transport bioterror germs i...</td>\n",
              "      <td>0</td>\n",
              "      <td>1.0</td>\n",
              "      <td>0.747162</td>\n",
              "    </tr>\n",
              "    <tr>\n",
              "      <th>2</th>\n",
              "      <td>Gunmen kill four in El Salvador bus attack: Su...</td>\n",
              "      <td>1</td>\n",
              "      <td>1.0</td>\n",
              "      <td>0.988749</td>\n",
              "    </tr>\n",
              "    <tr>\n",
              "      <th>3</th>\n",
              "      <td>@camilacabello97 Internally and externally scr...</td>\n",
              "      <td>1</td>\n",
              "      <td>0.0</td>\n",
              "      <td>0.196229</td>\n",
              "    </tr>\n",
              "    <tr>\n",
              "      <th>4</th>\n",
              "      <td>Radiation emergency #preparedness starts with ...</td>\n",
              "      <td>1</td>\n",
              "      <td>1.0</td>\n",
              "      <td>0.707808</td>\n",
              "    </tr>\n",
              "  </tbody>\n",
              "</table>\n",
              "</div>\n",
              "      <button class=\"colab-df-convert\" onclick=\"convertToInteractive('df-34dc6b56-b89c-4cbc-8538-5cffbc6a1f70')\"\n",
              "              title=\"Convert this dataframe to an interactive table.\"\n",
              "              style=\"display:none;\">\n",
              "        \n",
              "  <svg xmlns=\"http://www.w3.org/2000/svg\" height=\"24px\"viewBox=\"0 0 24 24\"\n",
              "       width=\"24px\">\n",
              "    <path d=\"M0 0h24v24H0V0z\" fill=\"none\"/>\n",
              "    <path d=\"M18.56 5.44l.94 2.06.94-2.06 2.06-.94-2.06-.94-.94-2.06-.94 2.06-2.06.94zm-11 1L8.5 8.5l.94-2.06 2.06-.94-2.06-.94L8.5 2.5l-.94 2.06-2.06.94zm10 10l.94 2.06.94-2.06 2.06-.94-2.06-.94-.94-2.06-.94 2.06-2.06.94z\"/><path d=\"M17.41 7.96l-1.37-1.37c-.4-.4-.92-.59-1.43-.59-.52 0-1.04.2-1.43.59L10.3 9.45l-7.72 7.72c-.78.78-.78 2.05 0 2.83L4 21.41c.39.39.9.59 1.41.59.51 0 1.02-.2 1.41-.59l7.78-7.78 2.81-2.81c.8-.78.8-2.07 0-2.86zM5.41 20L4 18.59l7.72-7.72 1.47 1.35L5.41 20z\"/>\n",
              "  </svg>\n",
              "      </button>\n",
              "      \n",
              "  <style>\n",
              "    .colab-df-container {\n",
              "      display:flex;\n",
              "      flex-wrap:wrap;\n",
              "      gap: 12px;\n",
              "    }\n",
              "\n",
              "    .colab-df-convert {\n",
              "      background-color: #E8F0FE;\n",
              "      border: none;\n",
              "      border-radius: 50%;\n",
              "      cursor: pointer;\n",
              "      display: none;\n",
              "      fill: #1967D2;\n",
              "      height: 32px;\n",
              "      padding: 0 0 0 0;\n",
              "      width: 32px;\n",
              "    }\n",
              "\n",
              "    .colab-df-convert:hover {\n",
              "      background-color: #E2EBFA;\n",
              "      box-shadow: 0px 1px 2px rgba(60, 64, 67, 0.3), 0px 1px 3px 1px rgba(60, 64, 67, 0.15);\n",
              "      fill: #174EA6;\n",
              "    }\n",
              "\n",
              "    [theme=dark] .colab-df-convert {\n",
              "      background-color: #3B4455;\n",
              "      fill: #D2E3FC;\n",
              "    }\n",
              "\n",
              "    [theme=dark] .colab-df-convert:hover {\n",
              "      background-color: #434B5C;\n",
              "      box-shadow: 0px 1px 3px 1px rgba(0, 0, 0, 0.15);\n",
              "      filter: drop-shadow(0px 1px 2px rgba(0, 0, 0, 0.3));\n",
              "      fill: #FFFFFF;\n",
              "    }\n",
              "  </style>\n",
              "\n",
              "      <script>\n",
              "        const buttonEl =\n",
              "          document.querySelector('#df-34dc6b56-b89c-4cbc-8538-5cffbc6a1f70 button.colab-df-convert');\n",
              "        buttonEl.style.display =\n",
              "          google.colab.kernel.accessAllowed ? 'block' : 'none';\n",
              "\n",
              "        async function convertToInteractive(key) {\n",
              "          const element = document.querySelector('#df-34dc6b56-b89c-4cbc-8538-5cffbc6a1f70');\n",
              "          const dataTable =\n",
              "            await google.colab.kernel.invokeFunction('convertToInteractive',\n",
              "                                                     [key], {});\n",
              "          if (!dataTable) return;\n",
              "\n",
              "          const docLinkHtml = 'Like what you see? Visit the ' +\n",
              "            '<a target=\"_blank\" href=https://colab.research.google.com/notebooks/data_table.ipynb>data table notebook</a>'\n",
              "            + ' to learn more about interactive tables.';\n",
              "          element.innerHTML = '';\n",
              "          dataTable['output_type'] = 'display_data';\n",
              "          await google.colab.output.renderOutput(dataTable, element);\n",
              "          const docLink = document.createElement('div');\n",
              "          docLink.innerHTML = docLinkHtml;\n",
              "          element.appendChild(docLink);\n",
              "        }\n",
              "      </script>\n",
              "    </div>\n",
              "  </div>\n",
              "  "
            ]
          },
          "metadata": {},
          "execution_count": 204
        }
      ]
    },
    {
      "cell_type": "code",
      "source": [
        "#finding the most wrong predictions\n",
        "most_wrong=val_d[val_d[\"target\"] != val_d[\"pred_prob\"]].sort_values(\"pred\",ascending=False)"
      ],
      "metadata": {
        "id": "jdPswF3OB5M-"
      },
      "execution_count": null,
      "outputs": []
    },
    {
      "cell_type": "code",
      "source": [
        "most_wrong.head()"
      ],
      "metadata": {
        "colab": {
          "base_uri": "https://localhost:8080/",
          "height": 206
        },
        "id": "oVoLBXPPDWMW",
        "outputId": "ae69922d-6d5d-44f3-e539-2885ed33b7f4"
      },
      "execution_count": null,
      "outputs": [
        {
          "output_type": "execute_result",
          "data": {
            "text/plain": [
              "                                                   text  target  pred_prob  \\\n",
              "881   @adorableappple No reported flooding po in the...       0        1.0   \n",
              "1307  We should all have a fire safety plan. RT @Mat...       0        1.0   \n",
              "846   Mourning notices for stabbing arson victims st...       0        1.0   \n",
              "1502  Two Jewish Terrorists Charged In Historic-Chur...       0        1.0   \n",
              "31    ? High Skies - Burning Buildings ? http://t.co...       0        1.0   \n",
              "\n",
              "          pred  \n",
              "881   0.970023  \n",
              "1307  0.939019  \n",
              "846   0.938105  \n",
              "1502  0.918810  \n",
              "31    0.910196  "
            ],
            "text/html": [
              "\n",
              "  <div id=\"df-dce59599-0377-49c9-9988-8fe1f9e306d0\">\n",
              "    <div class=\"colab-df-container\">\n",
              "      <div>\n",
              "<style scoped>\n",
              "    .dataframe tbody tr th:only-of-type {\n",
              "        vertical-align: middle;\n",
              "    }\n",
              "\n",
              "    .dataframe tbody tr th {\n",
              "        vertical-align: top;\n",
              "    }\n",
              "\n",
              "    .dataframe thead th {\n",
              "        text-align: right;\n",
              "    }\n",
              "</style>\n",
              "<table border=\"1\" class=\"dataframe\">\n",
              "  <thead>\n",
              "    <tr style=\"text-align: right;\">\n",
              "      <th></th>\n",
              "      <th>text</th>\n",
              "      <th>target</th>\n",
              "      <th>pred_prob</th>\n",
              "      <th>pred</th>\n",
              "    </tr>\n",
              "  </thead>\n",
              "  <tbody>\n",
              "    <tr>\n",
              "      <th>881</th>\n",
              "      <td>@adorableappple No reported flooding po in the...</td>\n",
              "      <td>0</td>\n",
              "      <td>1.0</td>\n",
              "      <td>0.970023</td>\n",
              "    </tr>\n",
              "    <tr>\n",
              "      <th>1307</th>\n",
              "      <td>We should all have a fire safety plan. RT @Mat...</td>\n",
              "      <td>0</td>\n",
              "      <td>1.0</td>\n",
              "      <td>0.939019</td>\n",
              "    </tr>\n",
              "    <tr>\n",
              "      <th>846</th>\n",
              "      <td>Mourning notices for stabbing arson victims st...</td>\n",
              "      <td>0</td>\n",
              "      <td>1.0</td>\n",
              "      <td>0.938105</td>\n",
              "    </tr>\n",
              "    <tr>\n",
              "      <th>1502</th>\n",
              "      <td>Two Jewish Terrorists Charged In Historic-Chur...</td>\n",
              "      <td>0</td>\n",
              "      <td>1.0</td>\n",
              "      <td>0.918810</td>\n",
              "    </tr>\n",
              "    <tr>\n",
              "      <th>31</th>\n",
              "      <td>? High Skies - Burning Buildings ? http://t.co...</td>\n",
              "      <td>0</td>\n",
              "      <td>1.0</td>\n",
              "      <td>0.910196</td>\n",
              "    </tr>\n",
              "  </tbody>\n",
              "</table>\n",
              "</div>\n",
              "      <button class=\"colab-df-convert\" onclick=\"convertToInteractive('df-dce59599-0377-49c9-9988-8fe1f9e306d0')\"\n",
              "              title=\"Convert this dataframe to an interactive table.\"\n",
              "              style=\"display:none;\">\n",
              "        \n",
              "  <svg xmlns=\"http://www.w3.org/2000/svg\" height=\"24px\"viewBox=\"0 0 24 24\"\n",
              "       width=\"24px\">\n",
              "    <path d=\"M0 0h24v24H0V0z\" fill=\"none\"/>\n",
              "    <path d=\"M18.56 5.44l.94 2.06.94-2.06 2.06-.94-2.06-.94-.94-2.06-.94 2.06-2.06.94zm-11 1L8.5 8.5l.94-2.06 2.06-.94-2.06-.94L8.5 2.5l-.94 2.06-2.06.94zm10 10l.94 2.06.94-2.06 2.06-.94-2.06-.94-.94-2.06-.94 2.06-2.06.94z\"/><path d=\"M17.41 7.96l-1.37-1.37c-.4-.4-.92-.59-1.43-.59-.52 0-1.04.2-1.43.59L10.3 9.45l-7.72 7.72c-.78.78-.78 2.05 0 2.83L4 21.41c.39.39.9.59 1.41.59.51 0 1.02-.2 1.41-.59l7.78-7.78 2.81-2.81c.8-.78.8-2.07 0-2.86zM5.41 20L4 18.59l7.72-7.72 1.47 1.35L5.41 20z\"/>\n",
              "  </svg>\n",
              "      </button>\n",
              "      \n",
              "  <style>\n",
              "    .colab-df-container {\n",
              "      display:flex;\n",
              "      flex-wrap:wrap;\n",
              "      gap: 12px;\n",
              "    }\n",
              "\n",
              "    .colab-df-convert {\n",
              "      background-color: #E8F0FE;\n",
              "      border: none;\n",
              "      border-radius: 50%;\n",
              "      cursor: pointer;\n",
              "      display: none;\n",
              "      fill: #1967D2;\n",
              "      height: 32px;\n",
              "      padding: 0 0 0 0;\n",
              "      width: 32px;\n",
              "    }\n",
              "\n",
              "    .colab-df-convert:hover {\n",
              "      background-color: #E2EBFA;\n",
              "      box-shadow: 0px 1px 2px rgba(60, 64, 67, 0.3), 0px 1px 3px 1px rgba(60, 64, 67, 0.15);\n",
              "      fill: #174EA6;\n",
              "    }\n",
              "\n",
              "    [theme=dark] .colab-df-convert {\n",
              "      background-color: #3B4455;\n",
              "      fill: #D2E3FC;\n",
              "    }\n",
              "\n",
              "    [theme=dark] .colab-df-convert:hover {\n",
              "      background-color: #434B5C;\n",
              "      box-shadow: 0px 1px 3px 1px rgba(0, 0, 0, 0.15);\n",
              "      filter: drop-shadow(0px 1px 2px rgba(0, 0, 0, 0.3));\n",
              "      fill: #FFFFFF;\n",
              "    }\n",
              "  </style>\n",
              "\n",
              "      <script>\n",
              "        const buttonEl =\n",
              "          document.querySelector('#df-dce59599-0377-49c9-9988-8fe1f9e306d0 button.colab-df-convert');\n",
              "        buttonEl.style.display =\n",
              "          google.colab.kernel.accessAllowed ? 'block' : 'none';\n",
              "\n",
              "        async function convertToInteractive(key) {\n",
              "          const element = document.querySelector('#df-dce59599-0377-49c9-9988-8fe1f9e306d0');\n",
              "          const dataTable =\n",
              "            await google.colab.kernel.invokeFunction('convertToInteractive',\n",
              "                                                     [key], {});\n",
              "          if (!dataTable) return;\n",
              "\n",
              "          const docLinkHtml = 'Like what you see? Visit the ' +\n",
              "            '<a target=\"_blank\" href=https://colab.research.google.com/notebooks/data_table.ipynb>data table notebook</a>'\n",
              "            + ' to learn more about interactive tables.';\n",
              "          element.innerHTML = '';\n",
              "          dataTable['output_type'] = 'display_data';\n",
              "          await google.colab.output.renderOutput(dataTable, element);\n",
              "          const docLink = document.createElement('div');\n",
              "          docLink.innerHTML = docLinkHtml;\n",
              "          element.appendChild(docLink);\n",
              "        }\n",
              "      </script>\n",
              "    </div>\n",
              "  </div>\n",
              "  "
            ]
          },
          "metadata": {},
          "execution_count": 207
        }
      ]
    },
    {
      "cell_type": "code",
      "source": [
        "for row in most_wrong[:10].itertuples():\n",
        "  _,text,target,pred_prob,pred = row\n",
        "  print(f\"Target:{target},Pred_prob:{pred_prob},Pred:{pred}\")\n",
        "  print(f\"Text:/n{text}/n\")\n",
        "  print(\"----/n\")"
      ],
      "metadata": {
        "colab": {
          "base_uri": "https://localhost:8080/"
        },
        "id": "PPQQba_ZDZA1",
        "outputId": "fc47ba7c-118b-4af4-cbba-117a3afe047f"
      },
      "execution_count": null,
      "outputs": [
        {
          "output_type": "stream",
          "name": "stdout",
          "text": [
            "Target:0,Pred_prob:1.0,Pred:0.9700231552124023\n",
            "Text:/n@adorableappple No reported flooding po in the area. Ten-4. #mmda/n\n",
            "----/n\n",
            "Target:0,Pred_prob:1.0,Pred:0.9390192627906799\n",
            "Text:/nWe should all have a fire safety plan. RT @Matt_Kroschel: MOCK WILDFIRE near #Vail as agencies prepare for the worst. http://t.co/SWwyLRk0fv/n\n",
            "----/n\n",
            "Target:0,Pred_prob:1.0,Pred:0.9381048679351807\n",
            "Text:/nMourning notices for stabbing arson victims stir Û÷politics of griefÛª in Israel: Posters for Shira Banki and A... http://t.co/3GZ5zQQTHe/n\n",
            "----/n\n",
            "Target:0,Pred_prob:1.0,Pred:0.9188095331192017\n",
            "Text:/nTwo Jewish Terrorists Charged In Historic-Church Arson | The Ugly Truth http://t.co/iEksNFSbY7 http://t.co/VWCf3slkrW/n\n",
            "----/n\n",
            "Target:0,Pred_prob:1.0,Pred:0.9101957082748413\n",
            "Text:/n? High Skies - Burning Buildings ? http://t.co/uVq41i3Kx2 #nowplaying/n\n",
            "----/n\n",
            "Target:0,Pred_prob:1.0,Pred:0.8769820928573608\n",
            "Text:/nFedEx will no longer transport bioterror pathogens in wake of anthrax lab mishaps http://t.co/lHpgxc4b8J/n\n",
            "----/n\n",
            "Target:0,Pred_prob:1.0,Pred:0.8688251376152039\n",
            "Text:/nthe MOFO in DC will leave our military unarmed to be gunned down by terrorist &amp; a lot worseits not their sorry asses/n\n",
            "----/n\n",
            "Target:0,Pred_prob:1.0,Pred:0.8565273284912109\n",
            "Text:/nGovernor weighs parole for California school bus hijacker http://t.co/7NPBfRzEJL http://t.co/Y0kByy8nce/n\n",
            "----/n\n",
            "Target:0,Pred_prob:1.0,Pred:0.8523001670837402\n",
            "Text:/n@noah_anyname That's where the concentration camps and mass murder come in. \n",
            " \n",
            "EVERY. FUCKING. TIME./n\n",
            "----/n\n",
            "Target:0,Pred_prob:1.0,Pred:0.8396885395050049\n",
            "Text:/nWeapons stolen from National Guard Armory in New Albany still missing #Gunsense http://t.co/lKNU8902JE/n\n",
            "----/n\n"
          ]
        }
      ]
    },
    {
      "cell_type": "code",
      "source": [
        "test_df"
      ],
      "metadata": {
        "colab": {
          "base_uri": "https://localhost:8080/",
          "height": 424
        },
        "id": "02qjS208GVST",
        "outputId": "08f4394f-2e9f-4fea-91b3-9b5779af09a3"
      },
      "execution_count": null,
      "outputs": [
        {
          "output_type": "execute_result",
          "data": {
            "text/plain": [
              "         id keyword location  \\\n",
              "0         0     NaN      NaN   \n",
              "1         2     NaN      NaN   \n",
              "2         3     NaN      NaN   \n",
              "3         9     NaN      NaN   \n",
              "4        11     NaN      NaN   \n",
              "...     ...     ...      ...   \n",
              "3258  10861     NaN      NaN   \n",
              "3259  10865     NaN      NaN   \n",
              "3260  10868     NaN      NaN   \n",
              "3261  10874     NaN      NaN   \n",
              "3262  10875     NaN      NaN   \n",
              "\n",
              "                                                   text  \n",
              "0                    Just happened a terrible car crash  \n",
              "1     Heard about #earthquake is different cities, s...  \n",
              "2     there is a forest fire at spot pond, geese are...  \n",
              "3              Apocalypse lighting. #Spokane #wildfires  \n",
              "4         Typhoon Soudelor kills 28 in China and Taiwan  \n",
              "...                                                 ...  \n",
              "3258  EARTHQUAKE SAFETY LOS ANGELES ÛÒ SAFETY FASTE...  \n",
              "3259  Storm in RI worse than last hurricane. My city...  \n",
              "3260  Green Line derailment in Chicago http://t.co/U...  \n",
              "3261  MEG issues Hazardous Weather Outlook (HWO) htt...  \n",
              "3262  #CityofCalgary has activated its Municipal Eme...  \n",
              "\n",
              "[3263 rows x 4 columns]"
            ],
            "text/html": [
              "\n",
              "  <div id=\"df-053b6dd3-d0b1-44e0-bfd9-fdddeb9d0e5c\">\n",
              "    <div class=\"colab-df-container\">\n",
              "      <div>\n",
              "<style scoped>\n",
              "    .dataframe tbody tr th:only-of-type {\n",
              "        vertical-align: middle;\n",
              "    }\n",
              "\n",
              "    .dataframe tbody tr th {\n",
              "        vertical-align: top;\n",
              "    }\n",
              "\n",
              "    .dataframe thead th {\n",
              "        text-align: right;\n",
              "    }\n",
              "</style>\n",
              "<table border=\"1\" class=\"dataframe\">\n",
              "  <thead>\n",
              "    <tr style=\"text-align: right;\">\n",
              "      <th></th>\n",
              "      <th>id</th>\n",
              "      <th>keyword</th>\n",
              "      <th>location</th>\n",
              "      <th>text</th>\n",
              "    </tr>\n",
              "  </thead>\n",
              "  <tbody>\n",
              "    <tr>\n",
              "      <th>0</th>\n",
              "      <td>0</td>\n",
              "      <td>NaN</td>\n",
              "      <td>NaN</td>\n",
              "      <td>Just happened a terrible car crash</td>\n",
              "    </tr>\n",
              "    <tr>\n",
              "      <th>1</th>\n",
              "      <td>2</td>\n",
              "      <td>NaN</td>\n",
              "      <td>NaN</td>\n",
              "      <td>Heard about #earthquake is different cities, s...</td>\n",
              "    </tr>\n",
              "    <tr>\n",
              "      <th>2</th>\n",
              "      <td>3</td>\n",
              "      <td>NaN</td>\n",
              "      <td>NaN</td>\n",
              "      <td>there is a forest fire at spot pond, geese are...</td>\n",
              "    </tr>\n",
              "    <tr>\n",
              "      <th>3</th>\n",
              "      <td>9</td>\n",
              "      <td>NaN</td>\n",
              "      <td>NaN</td>\n",
              "      <td>Apocalypse lighting. #Spokane #wildfires</td>\n",
              "    </tr>\n",
              "    <tr>\n",
              "      <th>4</th>\n",
              "      <td>11</td>\n",
              "      <td>NaN</td>\n",
              "      <td>NaN</td>\n",
              "      <td>Typhoon Soudelor kills 28 in China and Taiwan</td>\n",
              "    </tr>\n",
              "    <tr>\n",
              "      <th>...</th>\n",
              "      <td>...</td>\n",
              "      <td>...</td>\n",
              "      <td>...</td>\n",
              "      <td>...</td>\n",
              "    </tr>\n",
              "    <tr>\n",
              "      <th>3258</th>\n",
              "      <td>10861</td>\n",
              "      <td>NaN</td>\n",
              "      <td>NaN</td>\n",
              "      <td>EARTHQUAKE SAFETY LOS ANGELES ÛÒ SAFETY FASTE...</td>\n",
              "    </tr>\n",
              "    <tr>\n",
              "      <th>3259</th>\n",
              "      <td>10865</td>\n",
              "      <td>NaN</td>\n",
              "      <td>NaN</td>\n",
              "      <td>Storm in RI worse than last hurricane. My city...</td>\n",
              "    </tr>\n",
              "    <tr>\n",
              "      <th>3260</th>\n",
              "      <td>10868</td>\n",
              "      <td>NaN</td>\n",
              "      <td>NaN</td>\n",
              "      <td>Green Line derailment in Chicago http://t.co/U...</td>\n",
              "    </tr>\n",
              "    <tr>\n",
              "      <th>3261</th>\n",
              "      <td>10874</td>\n",
              "      <td>NaN</td>\n",
              "      <td>NaN</td>\n",
              "      <td>MEG issues Hazardous Weather Outlook (HWO) htt...</td>\n",
              "    </tr>\n",
              "    <tr>\n",
              "      <th>3262</th>\n",
              "      <td>10875</td>\n",
              "      <td>NaN</td>\n",
              "      <td>NaN</td>\n",
              "      <td>#CityofCalgary has activated its Municipal Eme...</td>\n",
              "    </tr>\n",
              "  </tbody>\n",
              "</table>\n",
              "<p>3263 rows × 4 columns</p>\n",
              "</div>\n",
              "      <button class=\"colab-df-convert\" onclick=\"convertToInteractive('df-053b6dd3-d0b1-44e0-bfd9-fdddeb9d0e5c')\"\n",
              "              title=\"Convert this dataframe to an interactive table.\"\n",
              "              style=\"display:none;\">\n",
              "        \n",
              "  <svg xmlns=\"http://www.w3.org/2000/svg\" height=\"24px\"viewBox=\"0 0 24 24\"\n",
              "       width=\"24px\">\n",
              "    <path d=\"M0 0h24v24H0V0z\" fill=\"none\"/>\n",
              "    <path d=\"M18.56 5.44l.94 2.06.94-2.06 2.06-.94-2.06-.94-.94-2.06-.94 2.06-2.06.94zm-11 1L8.5 8.5l.94-2.06 2.06-.94-2.06-.94L8.5 2.5l-.94 2.06-2.06.94zm10 10l.94 2.06.94-2.06 2.06-.94-2.06-.94-.94-2.06-.94 2.06-2.06.94z\"/><path d=\"M17.41 7.96l-1.37-1.37c-.4-.4-.92-.59-1.43-.59-.52 0-1.04.2-1.43.59L10.3 9.45l-7.72 7.72c-.78.78-.78 2.05 0 2.83L4 21.41c.39.39.9.59 1.41.59.51 0 1.02-.2 1.41-.59l7.78-7.78 2.81-2.81c.8-.78.8-2.07 0-2.86zM5.41 20L4 18.59l7.72-7.72 1.47 1.35L5.41 20z\"/>\n",
              "  </svg>\n",
              "      </button>\n",
              "      \n",
              "  <style>\n",
              "    .colab-df-container {\n",
              "      display:flex;\n",
              "      flex-wrap:wrap;\n",
              "      gap: 12px;\n",
              "    }\n",
              "\n",
              "    .colab-df-convert {\n",
              "      background-color: #E8F0FE;\n",
              "      border: none;\n",
              "      border-radius: 50%;\n",
              "      cursor: pointer;\n",
              "      display: none;\n",
              "      fill: #1967D2;\n",
              "      height: 32px;\n",
              "      padding: 0 0 0 0;\n",
              "      width: 32px;\n",
              "    }\n",
              "\n",
              "    .colab-df-convert:hover {\n",
              "      background-color: #E2EBFA;\n",
              "      box-shadow: 0px 1px 2px rgba(60, 64, 67, 0.3), 0px 1px 3px 1px rgba(60, 64, 67, 0.15);\n",
              "      fill: #174EA6;\n",
              "    }\n",
              "\n",
              "    [theme=dark] .colab-df-convert {\n",
              "      background-color: #3B4455;\n",
              "      fill: #D2E3FC;\n",
              "    }\n",
              "\n",
              "    [theme=dark] .colab-df-convert:hover {\n",
              "      background-color: #434B5C;\n",
              "      box-shadow: 0px 1px 3px 1px rgba(0, 0, 0, 0.15);\n",
              "      filter: drop-shadow(0px 1px 2px rgba(0, 0, 0, 0.3));\n",
              "      fill: #FFFFFF;\n",
              "    }\n",
              "  </style>\n",
              "\n",
              "      <script>\n",
              "        const buttonEl =\n",
              "          document.querySelector('#df-053b6dd3-d0b1-44e0-bfd9-fdddeb9d0e5c button.colab-df-convert');\n",
              "        buttonEl.style.display =\n",
              "          google.colab.kernel.accessAllowed ? 'block' : 'none';\n",
              "\n",
              "        async function convertToInteractive(key) {\n",
              "          const element = document.querySelector('#df-053b6dd3-d0b1-44e0-bfd9-fdddeb9d0e5c');\n",
              "          const dataTable =\n",
              "            await google.colab.kernel.invokeFunction('convertToInteractive',\n",
              "                                                     [key], {});\n",
              "          if (!dataTable) return;\n",
              "\n",
              "          const docLinkHtml = 'Like what you see? Visit the ' +\n",
              "            '<a target=\"_blank\" href=https://colab.research.google.com/notebooks/data_table.ipynb>data table notebook</a>'\n",
              "            + ' to learn more about interactive tables.';\n",
              "          element.innerHTML = '';\n",
              "          dataTable['output_type'] = 'display_data';\n",
              "          await google.colab.output.renderOutput(dataTable, element);\n",
              "          const docLink = document.createElement('div');\n",
              "          docLink.innerHTML = docLinkHtml;\n",
              "          element.appendChild(docLink);\n",
              "        }\n",
              "      </script>\n",
              "    </div>\n",
              "  </div>\n",
              "  "
            ]
          },
          "metadata": {},
          "execution_count": 219
        }
      ]
    },
    {
      "cell_type": "code",
      "source": [
        "text_sentences=test_df[\"text\"].to_list()\n",
        "test_samples=random.sample(text_sentences,10)\n",
        "for test_sample in test_samples:\n",
        "  pred_probs=tf.squeeze(model_7_pretrained.predict([test_sample]))\n",
        "  pred=tf.round(pred_probs)\n",
        "  print(f\"Pred:{int(pred)}, Probs :{pred_probs}\")\n",
        "  print(f\"Text :\\n{text_sample}\\n\")\n",
        "\n",
        "\n"
      ],
      "metadata": {
        "colab": {
          "base_uri": "https://localhost:8080/"
        },
        "id": "znP9EQOaLHGM",
        "outputId": "120270a8-8e61-44e4-fe87-0b52e2fd90af"
      },
      "execution_count": null,
      "outputs": [
        {
          "output_type": "stream",
          "name": "stdout",
          "text": [
            "Pred:1, Probs :0.9101958274841309\n",
            "Text :\n",
            "@skydragonforce ^^why i usually never try to express opinions for fear of the hate ._.\n",
            "\n",
            "Pred:1, Probs :0.6574796438217163\n",
            "Text :\n",
            "@skydragonforce ^^why i usually never try to express opinions for fear of the hate ._.\n",
            "\n",
            "Pred:0, Probs :0.16330260038375854\n",
            "Text :\n",
            "@skydragonforce ^^why i usually never try to express opinions for fear of the hate ._.\n",
            "\n",
            "Pred:0, Probs :0.08293896913528442\n",
            "Text :\n",
            "@skydragonforce ^^why i usually never try to express opinions for fear of the hate ._.\n",
            "\n",
            "Pred:1, Probs :0.8149272799491882\n",
            "Text :\n",
            "@skydragonforce ^^why i usually never try to express opinions for fear of the hate ._.\n",
            "\n",
            "Pred:0, Probs :0.1574963927268982\n",
            "Text :\n",
            "@skydragonforce ^^why i usually never try to express opinions for fear of the hate ._.\n",
            "\n",
            "Pred:0, Probs :0.27308768033981323\n",
            "Text :\n",
            "@skydragonforce ^^why i usually never try to express opinions for fear of the hate ._.\n",
            "\n",
            "Pred:1, Probs :0.9063320755958557\n",
            "Text :\n",
            "@skydragonforce ^^why i usually never try to express opinions for fear of the hate ._.\n",
            "\n",
            "Pred:1, Probs :0.8299508094787598\n",
            "Text :\n",
            "@skydragonforce ^^why i usually never try to express opinions for fear of the hate ._.\n",
            "\n",
            "Pred:1, Probs :0.8217568397521973\n",
            "Text :\n",
            "@skydragonforce ^^why i usually never try to express opinions for fear of the hate ._.\n",
            "\n"
          ]
        }
      ]
    },
    {
      "cell_type": "code",
      "source": [
        ""
      ],
      "metadata": {
        "id": "BtnnR60NOgAZ"
      },
      "execution_count": null,
      "outputs": []
    }
  ],
  "metadata": {
    "colab": {
      "collapsed_sections": [],
      "name": "nlp_foundamentals.ipynb",
      "provenance": [],
      "toc_visible": true,
      "authorship_tag": "ABX9TyPcNK4wrSQat95SwRin1R5g",
      "include_colab_link": true
    },
    "kernelspec": {
      "display_name": "Python 3",
      "name": "python3"
    },
    "language_info": {
      "name": "python"
    }
  },
  "nbformat": 4,
  "nbformat_minor": 0
}